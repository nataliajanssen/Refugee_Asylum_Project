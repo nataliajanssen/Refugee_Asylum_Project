{
 "cells": [
  {
   "cell_type": "markdown",
   "metadata": {},
   "source": [
    "# Importing relevant libraries"
   ]
  },
  {
   "cell_type": "code",
   "execution_count": 1,
   "metadata": {
    "ExecuteTime": {
     "end_time": "2021-08-30T09:03:15.398908Z",
     "start_time": "2021-08-30T09:03:11.636663Z"
    }
   },
   "outputs": [],
   "source": [
    "import pandas as pd\n",
    "import numpy as np\n",
    "\n",
    "import matplotlib.pyplot as plt\n",
    "import seaborn as sns\n",
    "\n",
    "import time\n",
    "from datetime import time\n",
    "\n",
    "from sklearn.preprocessing import MinMaxScaler #map min value to 0 and max value to 1\n",
    "from sklearn.preprocessing import StandardScaler #for each value it will subtract the mean value, shifts the axis, and the ..\n",
    "from sklearn.model_selection import train_test_split\n",
    "import scipy.stats as st\n",
    "\n",
    "from sklearn.neighbors import KNeighborsRegressor\n",
    "from sklearn import linear_model\n",
    "from sklearn.metrics import r2_score\n",
    "from sklearn.neural_network import MLPRegressor\n",
    "from sklearn.datasets import make_regression\n",
    "# To make run all you ask in one cell\n",
    "from IPython.core.interactiveshell import InteractiveShell\n",
    "InteractiveShell.ast_node_interactivity = \"all\""
   ]
  },
  {
   "cell_type": "markdown",
   "metadata": {},
   "source": [
    "# Preliminary data exploration"
   ]
  },
  {
   "cell_type": "code",
   "execution_count": 2,
   "metadata": {
    "ExecuteTime": {
     "end_time": "2021-08-30T09:04:00.773042Z",
     "start_time": "2021-08-30T09:03:15.402862Z"
    }
   },
   "outputs": [],
   "source": [
    "data_water= pd.read_csv(\"drinking_water.csv\")\n",
    "data_sanitation = pd.read_csv(\"sanitation.csv\")\n",
    "data_asylum = pd.read_excel(\"asylum_applications.xlsx\")\n",
    "data_refugees = pd.read_excel(\"demographics2.xlsx\")\n",
    "voice= pd.read_excel(\"Voice.xlsx\")\n",
    "political=pd.read_excel(\"Political.xlsx\")\n",
    "government=pd.read_excel(\"Government.xlsx\")\n",
    "regulatory= pd.read_excel(\"Regulatory.xlsx\")\n",
    "rule=pd.read_excel(\"Rule of Law.xlsx\")\n",
    "corruption=pd.read_excel(\"Control of Corruption.xlsx\")\n",
    "vih= pd.read_excel(\"VIH.xlsx\")\n",
    "intestinal= pd.read_excel(\"intestinal.xlsx\")\n",
    "form_government=pd.read_excel(\"form_government.xlsx\")"
   ]
  },
  {
   "cell_type": "code",
   "execution_count": 3,
   "metadata": {
    "ExecuteTime": {
     "end_time": "2021-08-30T09:04:00.857542Z",
     "start_time": "2021-08-30T09:04:00.776768Z"
    }
   },
   "outputs": [
    {
     "data": {
      "text/plain": [
       "(3774, 8)"
      ]
     },
     "execution_count": 3,
     "metadata": {},
     "output_type": "execute_result"
    },
    {
     "data": {
      "text/plain": [
       "(3828, 8)"
      ]
     },
     "execution_count": 3,
     "metadata": {},
     "output_type": "execute_result"
    },
    {
     "data": {
      "text/plain": [
       "(13400, 3)"
      ]
     },
     "execution_count": 3,
     "metadata": {},
     "output_type": "execute_result"
    },
    {
     "data": {
      "text/plain": [
       "(9577, 3)"
      ]
     },
     "execution_count": 3,
     "metadata": {},
     "output_type": "execute_result"
    },
    {
     "data": {
      "text/plain": [
       "(864, 3)"
      ]
     },
     "execution_count": 3,
     "metadata": {},
     "output_type": "execute_result"
    },
    {
     "data": {
      "text/plain": [
       "(864, 3)"
      ]
     },
     "execution_count": 3,
     "metadata": {},
     "output_type": "execute_result"
    },
    {
     "data": {
      "text/plain": [
       "(864, 3)"
      ]
     },
     "execution_count": 3,
     "metadata": {},
     "output_type": "execute_result"
    },
    {
     "data": {
      "text/plain": [
       "(864, 3)"
      ]
     },
     "execution_count": 3,
     "metadata": {},
     "output_type": "execute_result"
    },
    {
     "data": {
      "text/plain": [
       "(864, 3)"
      ]
     },
     "execution_count": 3,
     "metadata": {},
     "output_type": "execute_result"
    },
    {
     "data": {
      "text/plain": [
       "(864, 3)"
      ]
     },
     "execution_count": 3,
     "metadata": {},
     "output_type": "execute_result"
    },
    {
     "data": {
      "text/plain": [
       "(880, 3)"
      ]
     },
     "execution_count": 3,
     "metadata": {},
     "output_type": "execute_result"
    },
    {
     "data": {
      "text/plain": [
       "(864, 3)"
      ]
     },
     "execution_count": 3,
     "metadata": {},
     "output_type": "execute_result"
    },
    {
     "data": {
      "text/plain": [
       "(54, 3)"
      ]
     },
     "execution_count": 3,
     "metadata": {},
     "output_type": "execute_result"
    }
   ],
   "source": [
    "data_water.shape\n",
    "data_sanitation.shape\n",
    "data_asylum.shape\n",
    "data_refugees.shape\n",
    "voice.shape\n",
    "political.shape\n",
    "government.shape\n",
    "regulatory.shape\n",
    "rule.shape\n",
    "corruption.shape\n",
    "vih.shape\n",
    "intestinal.shape\n",
    "form_government.shape"
   ]
  },
  {
   "cell_type": "code",
   "execution_count": 4,
   "metadata": {
    "ExecuteTime": {
     "end_time": "2021-08-30T09:04:01.070014Z",
     "start_time": "2021-08-30T09:04:00.861661Z"
    }
   },
   "outputs": [
    {
     "name": "stdout",
     "output_type": "stream",
     "text": [
      "<class 'pandas.core.frame.DataFrame'>\n",
      "RangeIndex: 3774 entries, 0 to 3773\n",
      "Data columns (total 8 columns):\n",
      " #   Column          Non-Null Count  Dtype  \n",
      "---  ------          --------------  -----  \n",
      " 0   ISO3            3774 non-null   object \n",
      " 1   Country         3774 non-null   object \n",
      " 2   Residence Type  3774 non-null   object \n",
      " 3   Service Type    3774 non-null   object \n",
      " 4   Year            3774 non-null   int64  \n",
      " 5   Coverage        3774 non-null   float64\n",
      " 6   Population      3774 non-null   float64\n",
      " 7   Service level   3774 non-null   object \n",
      "dtypes: float64(2), int64(1), object(5)\n",
      "memory usage: 236.0+ KB\n",
      "<class 'pandas.core.frame.DataFrame'>\n",
      "RangeIndex: 3828 entries, 0 to 3827\n",
      "Data columns (total 8 columns):\n",
      " #   Column          Non-Null Count  Dtype  \n",
      "---  ------          --------------  -----  \n",
      " 0   ISO3            3828 non-null   object \n",
      " 1   Country         3828 non-null   object \n",
      " 2   Residence Type  3828 non-null   object \n",
      " 3   Service Type    3828 non-null   object \n",
      " 4   Year            3828 non-null   int64  \n",
      " 5   Coverage        3828 non-null   float64\n",
      " 6   Population      3828 non-null   float64\n",
      " 7   Service level   3828 non-null   object \n",
      "dtypes: float64(2), int64(1), object(5)\n",
      "memory usage: 239.4+ KB\n",
      "<class 'pandas.core.frame.DataFrame'>\n",
      "RangeIndex: 13400 entries, 0 to 13399\n",
      "Data columns (total 3 columns):\n",
      " #   Column             Non-Null Count  Dtype \n",
      "---  ------             --------------  ----- \n",
      " 0   Year               13400 non-null  int64 \n",
      " 1   Country of origin  13400 non-null  object\n",
      " 2   applied            13400 non-null  int64 \n",
      "dtypes: int64(2), object(1)\n",
      "memory usage: 314.2+ KB\n",
      "<class 'pandas.core.frame.DataFrame'>\n",
      "RangeIndex: 9577 entries, 0 to 9576\n",
      "Data columns (total 3 columns):\n",
      " #   Column             Non-Null Count  Dtype \n",
      "---  ------             --------------  ----- \n",
      " 0   Year               9577 non-null   int64 \n",
      " 1   Country of origin  9577 non-null   object\n",
      " 2   Total              9577 non-null   int64 \n",
      "dtypes: int64(2), object(1)\n",
      "memory usage: 224.6+ KB\n",
      "<class 'pandas.core.frame.DataFrame'>\n",
      "RangeIndex: 864 entries, 0 to 863\n",
      "Data columns (total 3 columns):\n",
      " #   Column                     Non-Null Count  Dtype  \n",
      "---  ------                     --------------  -----  \n",
      " 0   Country                    864 non-null    object \n",
      " 1   Year                       864 non-null    int64  \n",
      " 2   Voice and Accountability   855 non-null    float64\n",
      "dtypes: float64(1), int64(1), object(1)\n",
      "memory usage: 20.4+ KB\n",
      "<class 'pandas.core.frame.DataFrame'>\n",
      "RangeIndex: 864 entries, 0 to 863\n",
      "Data columns (total 3 columns):\n",
      " #   Column                                       Non-Null Count  Dtype  \n",
      "---  ------                                       --------------  -----  \n",
      " 0   Country                                      864 non-null    object \n",
      " 1   Year                                         864 non-null    int64  \n",
      " 2   Political Stability and Absence of Violence  855 non-null    float64\n",
      "dtypes: float64(1), int64(1), object(1)\n",
      "memory usage: 20.4+ KB\n",
      "<class 'pandas.core.frame.DataFrame'>\n",
      "RangeIndex: 864 entries, 0 to 863\n",
      "Data columns (total 3 columns):\n",
      " #   Column       Non-Null Count  Dtype  \n",
      "---  ------       --------------  -----  \n",
      " 0   Country      864 non-null    object \n",
      " 1   Year         864 non-null    int64  \n",
      " 2   Government   855 non-null    float64\n",
      "dtypes: float64(1), int64(1), object(1)\n",
      "memory usage: 20.4+ KB\n",
      "<class 'pandas.core.frame.DataFrame'>\n",
      "RangeIndex: 864 entries, 0 to 863\n",
      "Data columns (total 3 columns):\n",
      " #   Column              Non-Null Count  Dtype  \n",
      "---  ------              --------------  -----  \n",
      " 0   Country             864 non-null    object \n",
      " 1   Year                864 non-null    int64  \n",
      " 2   Regulatory Quality  855 non-null    float64\n",
      "dtypes: float64(1), int64(1), object(1)\n",
      "memory usage: 20.4+ KB\n",
      "<class 'pandas.core.frame.DataFrame'>\n",
      "RangeIndex: 864 entries, 0 to 863\n",
      "Data columns (total 3 columns):\n",
      " #   Column       Non-Null Count  Dtype  \n",
      "---  ------       --------------  -----  \n",
      " 0   Country      864 non-null    object \n",
      " 1   Year         864 non-null    int64  \n",
      " 2   Rule of Law  855 non-null    float64\n",
      "dtypes: float64(1), int64(1), object(1)\n",
      "memory usage: 20.4+ KB\n",
      "<class 'pandas.core.frame.DataFrame'>\n",
      "RangeIndex: 864 entries, 0 to 863\n",
      "Data columns (total 3 columns):\n",
      " #   Column                 Non-Null Count  Dtype  \n",
      "---  ------                 --------------  -----  \n",
      " 0   Country                864 non-null    object \n",
      " 1   Year                   864 non-null    int64  \n",
      " 2   Control of Corruption  856 non-null    float64\n",
      "dtypes: float64(1), int64(1), object(1)\n",
      "memory usage: 20.4+ KB\n",
      "<class 'pandas.core.frame.DataFrame'>\n",
      "RangeIndex: 880 entries, 0 to 879\n",
      "Data columns (total 3 columns):\n",
      " #   Column         Non-Null Count  Dtype  \n",
      "---  ------         --------------  -----  \n",
      " 0   location_name  880 non-null    object \n",
      " 1   year           880 non-null    int64  \n",
      " 2   val            880 non-null    float64\n",
      "dtypes: float64(1), int64(1), object(1)\n",
      "memory usage: 20.8+ KB\n",
      "<class 'pandas.core.frame.DataFrame'>\n",
      "RangeIndex: 864 entries, 0 to 863\n",
      "Data columns (total 3 columns):\n",
      " #   Column         Non-Null Count  Dtype  \n",
      "---  ------         --------------  -----  \n",
      " 0   location_name  864 non-null    object \n",
      " 1   year           864 non-null    int64  \n",
      " 2   val            864 non-null    float64\n",
      "dtypes: float64(1), int64(1), object(1)\n",
      "memory usage: 20.4+ KB\n",
      "<class 'pandas.core.frame.DataFrame'>\n",
      "RangeIndex: 54 entries, 0 to 53\n",
      "Data columns (total 3 columns):\n",
      " #   Column              Non-Null Count  Dtype  \n",
      "---  ------              --------------  -----  \n",
      " 0   Country             54 non-null     object \n",
      " 1   Form of Government  54 non-null     object \n",
      " 2   Unnamed: 2          0 non-null      float64\n",
      "dtypes: float64(1), object(2)\n",
      "memory usage: 1.4+ KB\n"
     ]
    }
   ],
   "source": [
    "data_water.info()\n",
    "data_sanitation.info()\n",
    "data_asylum.info()\n",
    "data_refugees.info()\n",
    "voice.info()\n",
    "political.info()\n",
    "government.info()\n",
    "regulatory.info()\n",
    "rule.info()\n",
    "corruption.info()\n",
    "vih.info()\n",
    "intestinal.info()\n",
    "form_government.info()"
   ]
  },
  {
   "cell_type": "code",
   "execution_count": 5,
   "metadata": {
    "ExecuteTime": {
     "end_time": "2021-08-30T09:04:01.110945Z",
     "start_time": "2021-08-30T09:04:01.081586Z"
    }
   },
   "outputs": [],
   "source": [
    "def clean(x):\n",
    "    if x in ['Cape Verde']:\n",
    "        return 'Cabo Verde'\n",
    "    elif x in ['Congo, Rep.']:\n",
    "        return 'Congo'\n",
    "    elif x in ['Congo, Dem. Rep.']:\n",
    "        return 'Democratic Republic of the Congo'\n",
    "    elif x in ['Egypt, Arab Rep.']:\n",
    "        return 'Egypt'\n",
    "    elif x in ['Gambia, The']:\n",
    "        return 'Gambia'\n",
    "    elif x in ['Tanzania']:\n",
    "        return 'United Republic of Tanzania'\n",
    "    else:\n",
    "        return x\n",
    "\n",
    "def clean2(x):\n",
    "    if x in ['Central African Rep.']:\n",
    "        return 'Central African Republic'\n",
    "    elif x in ['Dem. Rep. of the Congo']:\n",
    "        return 'Democratic Republic of the Congo'\n",
    "    elif x in ['United Rep. of Tanzania']:\n",
    "        return 'United Republic of Tanzania'\n",
    "    else:\n",
    "        return x\n",
    "\n",
    "voice['Country'] = list(map(clean, voice['Country']))\n",
    "political['Country'] = list(map(clean, political['Country']))\n",
    "government['Country'] = list(map(clean, government['Country']))\n",
    "regulatory['Country'] = list(map(clean, regulatory['Country']))\n",
    "rule['Country'] = list(map(clean, rule['Country']))\n",
    "corruption['Country'] = list(map(clean, corruption['Country']))\n",
    "data_asylum['Country of origin'] = list(map(clean2, data_asylum['Country of origin']))\n",
    "data_refugees['Country of origin'] = list(map(clean2, data_refugees['Country of origin']))"
   ]
  },
  {
   "cell_type": "code",
   "execution_count": 6,
   "metadata": {
    "ExecuteTime": {
     "end_time": "2021-08-30T09:04:01.141931Z",
     "start_time": "2021-08-30T09:04:01.113896Z"
    }
   },
   "outputs": [
    {
     "data": {
      "text/plain": [
       "(3774, 8)"
      ]
     },
     "execution_count": 6,
     "metadata": {},
     "output_type": "execute_result"
    },
    {
     "data": {
      "text/plain": [
       "(3828, 8)"
      ]
     },
     "execution_count": 6,
     "metadata": {},
     "output_type": "execute_result"
    },
    {
     "data": {
      "text/html": [
       "<div>\n",
       "<style scoped>\n",
       "    .dataframe tbody tr th:only-of-type {\n",
       "        vertical-align: middle;\n",
       "    }\n",
       "\n",
       "    .dataframe tbody tr th {\n",
       "        vertical-align: top;\n",
       "    }\n",
       "\n",
       "    .dataframe thead th {\n",
       "        text-align: right;\n",
       "    }\n",
       "</style>\n",
       "<table border=\"1\" class=\"dataframe\">\n",
       "  <thead>\n",
       "    <tr style=\"text-align: right;\">\n",
       "      <th></th>\n",
       "      <th>ISO3</th>\n",
       "      <th>Country</th>\n",
       "      <th>Residence Type</th>\n",
       "      <th>Service Type</th>\n",
       "      <th>Year</th>\n",
       "      <th>Coverage</th>\n",
       "      <th>Population</th>\n",
       "      <th>Service level</th>\n",
       "    </tr>\n",
       "  </thead>\n",
       "  <tbody>\n",
       "    <tr>\n",
       "      <th>0</th>\n",
       "      <td>AGO</td>\n",
       "      <td>Angola</td>\n",
       "      <td>total</td>\n",
       "      <td>Drinking water</td>\n",
       "      <td>2001</td>\n",
       "      <td>42.25467</td>\n",
       "      <td>7.176224e+06</td>\n",
       "      <td>At least basic</td>\n",
       "    </tr>\n",
       "    <tr>\n",
       "      <th>1</th>\n",
       "      <td>AGO</td>\n",
       "      <td>Angola</td>\n",
       "      <td>total</td>\n",
       "      <td>Drinking water</td>\n",
       "      <td>2002</td>\n",
       "      <td>43.37680</td>\n",
       "      <td>7.622452e+06</td>\n",
       "      <td>At least basic</td>\n",
       "    </tr>\n",
       "    <tr>\n",
       "      <th>2</th>\n",
       "      <td>AGO</td>\n",
       "      <td>Angola</td>\n",
       "      <td>total</td>\n",
       "      <td>Drinking water</td>\n",
       "      <td>2003</td>\n",
       "      <td>44.36387</td>\n",
       "      <td>8.075720e+06</td>\n",
       "      <td>At least basic</td>\n",
       "    </tr>\n",
       "    <tr>\n",
       "      <th>3</th>\n",
       "      <td>AGO</td>\n",
       "      <td>Angola</td>\n",
       "      <td>total</td>\n",
       "      <td>Drinking water</td>\n",
       "      <td>2004</td>\n",
       "      <td>45.35134</td>\n",
       "      <td>8.555854e+06</td>\n",
       "      <td>At least basic</td>\n",
       "    </tr>\n",
       "    <tr>\n",
       "      <th>4</th>\n",
       "      <td>AGO</td>\n",
       "      <td>Angola</td>\n",
       "      <td>total</td>\n",
       "      <td>Drinking water</td>\n",
       "      <td>2005</td>\n",
       "      <td>46.33602</td>\n",
       "      <td>9.059869e+06</td>\n",
       "      <td>At least basic</td>\n",
       "    </tr>\n",
       "  </tbody>\n",
       "</table>\n",
       "</div>"
      ],
      "text/plain": [
       "  ISO3 Country Residence Type    Service Type  Year  Coverage    Population  \\\n",
       "0  AGO  Angola          total  Drinking water  2001  42.25467  7.176224e+06   \n",
       "1  AGO  Angola          total  Drinking water  2002  43.37680  7.622452e+06   \n",
       "2  AGO  Angola          total  Drinking water  2003  44.36387  8.075720e+06   \n",
       "3  AGO  Angola          total  Drinking water  2004  45.35134  8.555854e+06   \n",
       "4  AGO  Angola          total  Drinking water  2005  46.33602  9.059869e+06   \n",
       "\n",
       "    Service level  \n",
       "0  At least basic  \n",
       "1  At least basic  \n",
       "2  At least basic  \n",
       "3  At least basic  \n",
       "4  At least basic  "
      ]
     },
     "execution_count": 6,
     "metadata": {},
     "output_type": "execute_result"
    }
   ],
   "source": [
    "data_water.shape\n",
    "data_sanitation.shape\n",
    "data_water.head()"
   ]
  },
  {
   "cell_type": "code",
   "execution_count": 7,
   "metadata": {
    "ExecuteTime": {
     "end_time": "2021-08-30T09:04:01.189366Z",
     "start_time": "2021-08-30T09:04:01.144910Z"
    }
   },
   "outputs": [
    {
     "data": {
      "text/plain": [
       "Index(['Year', 'Country of origin', 'applied'], dtype='object')"
      ]
     },
     "execution_count": 7,
     "metadata": {},
     "output_type": "execute_result"
    },
    {
     "data": {
      "text/plain": [
       "Index(['Year', 'Country of origin', 'Total'], dtype='object')"
      ]
     },
     "execution_count": 7,
     "metadata": {},
     "output_type": "execute_result"
    },
    {
     "data": {
      "text/plain": [
       "(3774, 13)"
      ]
     },
     "execution_count": 7,
     "metadata": {},
     "output_type": "execute_result"
    }
   ],
   "source": [
    "data1 = pd.merge(left = data_water, #this is a table\n",
    "                                right = data_sanitation, #this is a table\n",
    "                                how = 'left',  #how do we merge\n",
    "                                left_on = [\"Country\",\"Year\",\"Service level\"], \n",
    "                                right_on= [\"Country\",\"Year\",\"Service level\"]) \n",
    "data_asylum.columns\n",
    "data_refugees.columns\n",
    "data1.shape"
   ]
  },
  {
   "cell_type": "code",
   "execution_count": 8,
   "metadata": {
    "ExecuteTime": {
     "end_time": "2021-08-30T09:04:01.224619Z",
     "start_time": "2021-08-30T09:04:01.204437Z"
    }
   },
   "outputs": [
    {
     "data": {
      "text/html": [
       "<div>\n",
       "<style scoped>\n",
       "    .dataframe tbody tr th:only-of-type {\n",
       "        vertical-align: middle;\n",
       "    }\n",
       "\n",
       "    .dataframe tbody tr th {\n",
       "        vertical-align: top;\n",
       "    }\n",
       "\n",
       "    .dataframe thead th {\n",
       "        text-align: right;\n",
       "    }\n",
       "</style>\n",
       "<table border=\"1\" class=\"dataframe\">\n",
       "  <thead>\n",
       "    <tr style=\"text-align: right;\">\n",
       "      <th></th>\n",
       "      <th>Country</th>\n",
       "      <th>Year</th>\n",
       "      <th>Voice and Accountability</th>\n",
       "    </tr>\n",
       "  </thead>\n",
       "  <tbody>\n",
       "    <tr>\n",
       "      <th>0</th>\n",
       "      <td>Algeria</td>\n",
       "      <td>2013</td>\n",
       "      <td>23.943663</td>\n",
       "    </tr>\n",
       "    <tr>\n",
       "      <th>1</th>\n",
       "      <td>Algeria</td>\n",
       "      <td>2012</td>\n",
       "      <td>22.535212</td>\n",
       "    </tr>\n",
       "    <tr>\n",
       "      <th>2</th>\n",
       "      <td>Algeria</td>\n",
       "      <td>2011</td>\n",
       "      <td>20.187794</td>\n",
       "    </tr>\n",
       "    <tr>\n",
       "      <th>3</th>\n",
       "      <td>Algeria</td>\n",
       "      <td>2010</td>\n",
       "      <td>18.483412</td>\n",
       "    </tr>\n",
       "    <tr>\n",
       "      <th>4</th>\n",
       "      <td>Algeria</td>\n",
       "      <td>2009</td>\n",
       "      <td>17.535545</td>\n",
       "    </tr>\n",
       "  </tbody>\n",
       "</table>\n",
       "</div>"
      ],
      "text/plain": [
       "   Country  Year  Voice and Accountability \n",
       "0  Algeria  2013                  23.943663\n",
       "1  Algeria  2012                  22.535212\n",
       "2  Algeria  2011                  20.187794\n",
       "3  Algeria  2010                  18.483412\n",
       "4  Algeria  2009                  17.535545"
      ]
     },
     "execution_count": 8,
     "metadata": {},
     "output_type": "execute_result"
    },
    {
     "data": {
      "text/plain": [
       "(864, 3)"
      ]
     },
     "execution_count": 8,
     "metadata": {},
     "output_type": "execute_result"
    }
   ],
   "source": [
    "voice.head()\n",
    "political.shape\n"
   ]
  },
  {
   "cell_type": "code",
   "execution_count": 9,
   "metadata": {
    "ExecuteTime": {
     "end_time": "2021-08-30T09:04:01.245665Z",
     "start_time": "2021-08-30T09:04:01.230745Z"
    }
   },
   "outputs": [
    {
     "data": {
      "text/plain": [
       "(864, 4)"
      ]
     },
     "execution_count": 9,
     "metadata": {},
     "output_type": "execute_result"
    }
   ],
   "source": [
    "data2 = pd.merge(left = voice, #this is a table\n",
    "                                right = political, #this is a table\n",
    "                                how = 'inner',  #how do we merge\n",
    "                                left_on = [\"Country\",\"Year\"], \n",
    "                                right_on= [\"Country\",\"Year\"]) \n",
    "data2.shape"
   ]
  },
  {
   "cell_type": "code",
   "execution_count": 10,
   "metadata": {
    "ExecuteTime": {
     "end_time": "2021-08-30T09:04:01.265423Z",
     "start_time": "2021-08-30T09:04:01.249451Z"
    }
   },
   "outputs": [
    {
     "data": {
      "text/plain": [
       "(864, 3)"
      ]
     },
     "execution_count": 10,
     "metadata": {},
     "output_type": "execute_result"
    }
   ],
   "source": [
    "government.shape"
   ]
  },
  {
   "cell_type": "code",
   "execution_count": 11,
   "metadata": {
    "ExecuteTime": {
     "end_time": "2021-08-30T09:04:01.287448Z",
     "start_time": "2021-08-30T09:04:01.269447Z"
    }
   },
   "outputs": [
    {
     "data": {
      "text/plain": [
       "(864, 5)"
      ]
     },
     "execution_count": 11,
     "metadata": {},
     "output_type": "execute_result"
    }
   ],
   "source": [
    "data3 = pd.merge(left = data2, #this is a table\n",
    "                                right = government, #this is a table\n",
    "                                how = 'inner',  #how do we merge\n",
    "                                left_on = [\"Country\",\"Year\"], \n",
    "                                right_on= [\"Country\",\"Year\"])\n",
    "data3.shape"
   ]
  },
  {
   "cell_type": "code",
   "execution_count": 12,
   "metadata": {
    "ExecuteTime": {
     "end_time": "2021-08-30T09:04:01.302072Z",
     "start_time": "2021-08-30T09:04:01.292943Z"
    }
   },
   "outputs": [
    {
     "data": {
      "text/plain": [
       "(864, 3)"
      ]
     },
     "execution_count": 12,
     "metadata": {},
     "output_type": "execute_result"
    }
   ],
   "source": [
    "regulatory.shape"
   ]
  },
  {
   "cell_type": "code",
   "execution_count": 13,
   "metadata": {
    "ExecuteTime": {
     "end_time": "2021-08-30T09:04:01.323671Z",
     "start_time": "2021-08-30T09:04:01.306997Z"
    }
   },
   "outputs": [
    {
     "data": {
      "text/plain": [
       "(864, 6)"
      ]
     },
     "execution_count": 13,
     "metadata": {},
     "output_type": "execute_result"
    }
   ],
   "source": [
    "data4 = pd.merge(left = data3, #this is a table\n",
    "                                right = regulatory, #this is a table\n",
    "                                how = 'inner',  #how do we merge\n",
    "                                left_on = [\"Country\",\"Year\"], \n",
    "                                right_on= [\"Country\",\"Year\"])\n",
    "data4.shape"
   ]
  },
  {
   "cell_type": "code",
   "execution_count": 14,
   "metadata": {
    "ExecuteTime": {
     "end_time": "2021-08-30T09:04:01.335835Z",
     "start_time": "2021-08-30T09:04:01.327871Z"
    }
   },
   "outputs": [
    {
     "data": {
      "text/plain": [
       "(864, 3)"
      ]
     },
     "execution_count": 14,
     "metadata": {},
     "output_type": "execute_result"
    }
   ],
   "source": [
    "rule.shape"
   ]
  },
  {
   "cell_type": "code",
   "execution_count": 15,
   "metadata": {
    "ExecuteTime": {
     "end_time": "2021-08-30T09:04:01.359504Z",
     "start_time": "2021-08-30T09:04:01.341174Z"
    }
   },
   "outputs": [
    {
     "data": {
      "text/plain": [
       "(864, 7)"
      ]
     },
     "execution_count": 15,
     "metadata": {},
     "output_type": "execute_result"
    }
   ],
   "source": [
    "data5 = pd.merge(left = data4, #this is a table\n",
    "                                right = rule, #this is a table\n",
    "                                how = 'inner',  #how do we merge\n",
    "                                left_on = [\"Country\",\"Year\"], \n",
    "                                right_on= [\"Country\",\"Year\"])\n",
    "data5.shape"
   ]
  },
  {
   "cell_type": "code",
   "execution_count": 16,
   "metadata": {
    "ExecuteTime": {
     "end_time": "2021-08-30T09:04:01.372399Z",
     "start_time": "2021-08-30T09:04:01.363943Z"
    }
   },
   "outputs": [
    {
     "data": {
      "text/plain": [
       "(864, 3)"
      ]
     },
     "execution_count": 16,
     "metadata": {},
     "output_type": "execute_result"
    }
   ],
   "source": [
    "corruption.shape"
   ]
  },
  {
   "cell_type": "code",
   "execution_count": 17,
   "metadata": {
    "ExecuteTime": {
     "end_time": "2021-08-30T09:04:01.393612Z",
     "start_time": "2021-08-30T09:04:01.377114Z"
    }
   },
   "outputs": [
    {
     "data": {
      "text/plain": [
       "(864, 8)"
      ]
     },
     "execution_count": 17,
     "metadata": {},
     "output_type": "execute_result"
    }
   ],
   "source": [
    "data6 = pd.merge(left = data5, #this is a table\n",
    "                                right = corruption, #this is a table\n",
    "                                how = 'inner',  #how do we merge\n",
    "                                left_on = [\"Country\",\"Year\"], \n",
    "                                right_on= [\"Country\",\"Year\"])\n",
    "data6.shape"
   ]
  },
  {
   "cell_type": "code",
   "execution_count": 18,
   "metadata": {
    "ExecuteTime": {
     "end_time": "2021-08-30T09:04:01.419743Z",
     "start_time": "2021-08-30T09:04:01.399536Z"
    }
   },
   "outputs": [
    {
     "data": {
      "text/plain": [
       "(880, 3)"
      ]
     },
     "execution_count": 18,
     "metadata": {},
     "output_type": "execute_result"
    },
    {
     "data": {
      "text/html": [
       "<div>\n",
       "<style scoped>\n",
       "    .dataframe tbody tr th:only-of-type {\n",
       "        vertical-align: middle;\n",
       "    }\n",
       "\n",
       "    .dataframe tbody tr th {\n",
       "        vertical-align: top;\n",
       "    }\n",
       "\n",
       "    .dataframe thead th {\n",
       "        text-align: right;\n",
       "    }\n",
       "</style>\n",
       "<table border=\"1\" class=\"dataframe\">\n",
       "  <thead>\n",
       "    <tr style=\"text-align: right;\">\n",
       "      <th></th>\n",
       "      <th>location_name</th>\n",
       "      <th>year</th>\n",
       "      <th>val</th>\n",
       "    </tr>\n",
       "  </thead>\n",
       "  <tbody>\n",
       "    <tr>\n",
       "      <th>0</th>\n",
       "      <td>South Sudan</td>\n",
       "      <td>2002</td>\n",
       "      <td>5541.153450</td>\n",
       "    </tr>\n",
       "    <tr>\n",
       "      <th>1</th>\n",
       "      <td>Niger</td>\n",
       "      <td>2002</td>\n",
       "      <td>3924.527377</td>\n",
       "    </tr>\n",
       "    <tr>\n",
       "      <th>2</th>\n",
       "      <td>Benin</td>\n",
       "      <td>2002</td>\n",
       "      <td>4676.213058</td>\n",
       "    </tr>\n",
       "    <tr>\n",
       "      <th>3</th>\n",
       "      <td>Sao Tome and Principe</td>\n",
       "      <td>2002</td>\n",
       "      <td>5.256532</td>\n",
       "    </tr>\n",
       "    <tr>\n",
       "      <th>4</th>\n",
       "      <td>Madagascar</td>\n",
       "      <td>2002</td>\n",
       "      <td>2940.935010</td>\n",
       "    </tr>\n",
       "  </tbody>\n",
       "</table>\n",
       "</div>"
      ],
      "text/plain": [
       "           location_name  year          val\n",
       "0            South Sudan  2002  5541.153450\n",
       "1                  Niger  2002  3924.527377\n",
       "2                  Benin  2002  4676.213058\n",
       "3  Sao Tome and Principe  2002     5.256532\n",
       "4             Madagascar  2002  2940.935010"
      ]
     },
     "execution_count": 18,
     "metadata": {},
     "output_type": "execute_result"
    }
   ],
   "source": [
    "vih.shape\n",
    "vih.head()"
   ]
  },
  {
   "cell_type": "code",
   "execution_count": 19,
   "metadata": {
    "ExecuteTime": {
     "end_time": "2021-08-30T09:04:01.487635Z",
     "start_time": "2021-08-30T09:04:01.422765Z"
    }
   },
   "outputs": [
    {
     "data": {
      "text/plain": [
       "(864, 11)"
      ]
     },
     "execution_count": 19,
     "metadata": {},
     "output_type": "execute_result"
    },
    {
     "data": {
      "text/html": [
       "<div>\n",
       "<style scoped>\n",
       "    .dataframe tbody tr th:only-of-type {\n",
       "        vertical-align: middle;\n",
       "    }\n",
       "\n",
       "    .dataframe tbody tr th {\n",
       "        vertical-align: top;\n",
       "    }\n",
       "\n",
       "    .dataframe thead th {\n",
       "        text-align: right;\n",
       "    }\n",
       "</style>\n",
       "<table border=\"1\" class=\"dataframe\">\n",
       "  <thead>\n",
       "    <tr style=\"text-align: right;\">\n",
       "      <th></th>\n",
       "      <th>Country</th>\n",
       "      <th>Year</th>\n",
       "      <th>Voice and Accountability</th>\n",
       "      <th>Political Stability and Absence of Violence</th>\n",
       "      <th>Government</th>\n",
       "      <th>Regulatory Quality</th>\n",
       "      <th>Rule of Law</th>\n",
       "      <th>Control of Corruption</th>\n",
       "      <th>location_name</th>\n",
       "      <th>year</th>\n",
       "      <th>val</th>\n",
       "    </tr>\n",
       "  </thead>\n",
       "  <tbody>\n",
       "    <tr>\n",
       "      <th>0</th>\n",
       "      <td>Algeria</td>\n",
       "      <td>2013</td>\n",
       "      <td>23.943663</td>\n",
       "      <td>12.796208</td>\n",
       "      <td>35.071091</td>\n",
       "      <td>11.848341</td>\n",
       "      <td>30.985916</td>\n",
       "      <td>39.336494</td>\n",
       "      <td>Algeria</td>\n",
       "      <td>2013.0</td>\n",
       "      <td>454.156856</td>\n",
       "    </tr>\n",
       "    <tr>\n",
       "      <th>1</th>\n",
       "      <td>Algeria</td>\n",
       "      <td>2012</td>\n",
       "      <td>22.535212</td>\n",
       "      <td>9.478673</td>\n",
       "      <td>35.071091</td>\n",
       "      <td>9.004740</td>\n",
       "      <td>26.760563</td>\n",
       "      <td>37.440758</td>\n",
       "      <td>Algeria</td>\n",
       "      <td>2012.0</td>\n",
       "      <td>456.700061</td>\n",
       "    </tr>\n",
       "    <tr>\n",
       "      <th>2</th>\n",
       "      <td>Algeria</td>\n",
       "      <td>2011</td>\n",
       "      <td>20.187794</td>\n",
       "      <td>10.426540</td>\n",
       "      <td>36.018959</td>\n",
       "      <td>9.952606</td>\n",
       "      <td>24.413145</td>\n",
       "      <td>35.071091</td>\n",
       "      <td>Algeria</td>\n",
       "      <td>2011.0</td>\n",
       "      <td>454.240481</td>\n",
       "    </tr>\n",
       "    <tr>\n",
       "      <th>3</th>\n",
       "      <td>Algeria</td>\n",
       "      <td>2010</td>\n",
       "      <td>18.483412</td>\n",
       "      <td>11.848341</td>\n",
       "      <td>38.755981</td>\n",
       "      <td>9.569378</td>\n",
       "      <td>26.540285</td>\n",
       "      <td>36.666668</td>\n",
       "      <td>Algeria</td>\n",
       "      <td>2010.0</td>\n",
       "      <td>455.736521</td>\n",
       "    </tr>\n",
       "    <tr>\n",
       "      <th>4</th>\n",
       "      <td>Algeria</td>\n",
       "      <td>2009</td>\n",
       "      <td>17.535545</td>\n",
       "      <td>13.270143</td>\n",
       "      <td>35.406700</td>\n",
       "      <td>12.918660</td>\n",
       "      <td>23.222750</td>\n",
       "      <td>33.492825</td>\n",
       "      <td>Algeria</td>\n",
       "      <td>2009.0</td>\n",
       "      <td>454.986524</td>\n",
       "    </tr>\n",
       "  </tbody>\n",
       "</table>\n",
       "</div>"
      ],
      "text/plain": [
       "   Country  Year  Voice and Accountability   \\\n",
       "0  Algeria  2013                  23.943663   \n",
       "1  Algeria  2012                  22.535212   \n",
       "2  Algeria  2011                  20.187794   \n",
       "3  Algeria  2010                  18.483412   \n",
       "4  Algeria  2009                  17.535545   \n",
       "\n",
       "   Political Stability and Absence of Violence  Government   \\\n",
       "0                                    12.796208    35.071091   \n",
       "1                                     9.478673    35.071091   \n",
       "2                                    10.426540    36.018959   \n",
       "3                                    11.848341    38.755981   \n",
       "4                                    13.270143    35.406700   \n",
       "\n",
       "   Regulatory Quality  Rule of Law  Control of Corruption location_name  \\\n",
       "0           11.848341    30.985916              39.336494       Algeria   \n",
       "1            9.004740    26.760563              37.440758       Algeria   \n",
       "2            9.952606    24.413145              35.071091       Algeria   \n",
       "3            9.569378    26.540285              36.666668       Algeria   \n",
       "4           12.918660    23.222750              33.492825       Algeria   \n",
       "\n",
       "     year         val  \n",
       "0  2013.0  454.156856  \n",
       "1  2012.0  456.700061  \n",
       "2  2011.0  454.240481  \n",
       "3  2010.0  455.736521  \n",
       "4  2009.0  454.986524  "
      ]
     },
     "execution_count": 19,
     "metadata": {},
     "output_type": "execute_result"
    }
   ],
   "source": [
    "data7 = pd.merge(left = data6, #this is a table\n",
    "                                right = vih, #this is a table\n",
    "                                how = 'left',  #how do we merge\n",
    "                                left_on = [\"Country\",\"Year\"], \n",
    "                                right_on= [\"location_name\",\"year\"])\n",
    "data7.shape\n",
    "data7.head()"
   ]
  },
  {
   "cell_type": "code",
   "execution_count": 20,
   "metadata": {
    "ExecuteTime": {
     "end_time": "2021-08-30T09:04:01.501128Z",
     "start_time": "2021-08-30T09:04:01.492915Z"
    }
   },
   "outputs": [
    {
     "data": {
      "text/plain": [
       "(864, 3)"
      ]
     },
     "execution_count": 20,
     "metadata": {},
     "output_type": "execute_result"
    }
   ],
   "source": [
    "intestinal.shape"
   ]
  },
  {
   "cell_type": "code",
   "execution_count": 21,
   "metadata": {
    "ExecuteTime": {
     "end_time": "2021-08-30T09:04:01.525354Z",
     "start_time": "2021-08-30T09:04:01.506482Z"
    }
   },
   "outputs": [
    {
     "data": {
      "text/plain": [
       "(864, 14)"
      ]
     },
     "execution_count": 21,
     "metadata": {},
     "output_type": "execute_result"
    }
   ],
   "source": [
    "data8 = pd.merge(left = data7, #this is a table\n",
    "                                right = intestinal, #this is a table\n",
    "                                how = 'left',  #how do we merge\n",
    "                                left_on = [\"Country\",\"Year\"], \n",
    "                                right_on= [\"location_name\",\"year\"])\n",
    "data8.shape"
   ]
  },
  {
   "cell_type": "code",
   "execution_count": 22,
   "metadata": {
    "ExecuteTime": {
     "end_time": "2021-08-30T09:04:01.537468Z",
     "start_time": "2021-08-30T09:04:01.528772Z"
    }
   },
   "outputs": [
    {
     "data": {
      "text/plain": [
       "(13400, 3)"
      ]
     },
     "execution_count": 22,
     "metadata": {},
     "output_type": "execute_result"
    }
   ],
   "source": [
    "data_asylum.shape"
   ]
  },
  {
   "cell_type": "code",
   "execution_count": 23,
   "metadata": {
    "ExecuteTime": {
     "end_time": "2021-08-30T09:04:01.584811Z",
     "start_time": "2021-08-30T09:04:01.551952Z"
    }
   },
   "outputs": [
    {
     "data": {
      "text/plain": [
       "(3774, 13)"
      ]
     },
     "execution_count": 23,
     "metadata": {},
     "output_type": "execute_result"
    },
    {
     "data": {
      "text/plain": [
       "(864, 14)"
      ]
     },
     "execution_count": 23,
     "metadata": {},
     "output_type": "execute_result"
    },
    {
     "data": {
      "text/html": [
       "<div>\n",
       "<style scoped>\n",
       "    .dataframe tbody tr th:only-of-type {\n",
       "        vertical-align: middle;\n",
       "    }\n",
       "\n",
       "    .dataframe tbody tr th {\n",
       "        vertical-align: top;\n",
       "    }\n",
       "\n",
       "    .dataframe thead th {\n",
       "        text-align: right;\n",
       "    }\n",
       "</style>\n",
       "<table border=\"1\" class=\"dataframe\">\n",
       "  <thead>\n",
       "    <tr style=\"text-align: right;\">\n",
       "      <th></th>\n",
       "      <th>Country</th>\n",
       "      <th>Year</th>\n",
       "      <th>Voice and Accountability</th>\n",
       "      <th>Political Stability and Absence of Violence</th>\n",
       "      <th>Government</th>\n",
       "      <th>Regulatory Quality</th>\n",
       "      <th>Rule of Law</th>\n",
       "      <th>Control of Corruption</th>\n",
       "      <th>location_name_x</th>\n",
       "      <th>year_x</th>\n",
       "      <th>val_x</th>\n",
       "      <th>location_name_y</th>\n",
       "      <th>year_y</th>\n",
       "      <th>val_y</th>\n",
       "    </tr>\n",
       "  </thead>\n",
       "  <tbody>\n",
       "    <tr>\n",
       "      <th>0</th>\n",
       "      <td>Algeria</td>\n",
       "      <td>2013</td>\n",
       "      <td>23.943663</td>\n",
       "      <td>12.796208</td>\n",
       "      <td>35.071091</td>\n",
       "      <td>11.848341</td>\n",
       "      <td>30.985916</td>\n",
       "      <td>39.336494</td>\n",
       "      <td>Algeria</td>\n",
       "      <td>2013.0</td>\n",
       "      <td>454.156856</td>\n",
       "      <td>Algeria</td>\n",
       "      <td>2013.0</td>\n",
       "      <td>3.098165</td>\n",
       "    </tr>\n",
       "    <tr>\n",
       "      <th>1</th>\n",
       "      <td>Algeria</td>\n",
       "      <td>2012</td>\n",
       "      <td>22.535212</td>\n",
       "      <td>9.478673</td>\n",
       "      <td>35.071091</td>\n",
       "      <td>9.004740</td>\n",
       "      <td>26.760563</td>\n",
       "      <td>37.440758</td>\n",
       "      <td>Algeria</td>\n",
       "      <td>2012.0</td>\n",
       "      <td>456.700061</td>\n",
       "      <td>Algeria</td>\n",
       "      <td>2012.0</td>\n",
       "      <td>3.157599</td>\n",
       "    </tr>\n",
       "    <tr>\n",
       "      <th>2</th>\n",
       "      <td>Algeria</td>\n",
       "      <td>2011</td>\n",
       "      <td>20.187794</td>\n",
       "      <td>10.426540</td>\n",
       "      <td>36.018959</td>\n",
       "      <td>9.952606</td>\n",
       "      <td>24.413145</td>\n",
       "      <td>35.071091</td>\n",
       "      <td>Algeria</td>\n",
       "      <td>2011.0</td>\n",
       "      <td>454.240481</td>\n",
       "      <td>Algeria</td>\n",
       "      <td>2011.0</td>\n",
       "      <td>3.310561</td>\n",
       "    </tr>\n",
       "    <tr>\n",
       "      <th>3</th>\n",
       "      <td>Algeria</td>\n",
       "      <td>2010</td>\n",
       "      <td>18.483412</td>\n",
       "      <td>11.848341</td>\n",
       "      <td>38.755981</td>\n",
       "      <td>9.569378</td>\n",
       "      <td>26.540285</td>\n",
       "      <td>36.666668</td>\n",
       "      <td>Algeria</td>\n",
       "      <td>2010.0</td>\n",
       "      <td>455.736521</td>\n",
       "      <td>Algeria</td>\n",
       "      <td>2010.0</td>\n",
       "      <td>3.468056</td>\n",
       "    </tr>\n",
       "    <tr>\n",
       "      <th>4</th>\n",
       "      <td>Algeria</td>\n",
       "      <td>2009</td>\n",
       "      <td>17.535545</td>\n",
       "      <td>13.270143</td>\n",
       "      <td>35.406700</td>\n",
       "      <td>12.918660</td>\n",
       "      <td>23.222750</td>\n",
       "      <td>33.492825</td>\n",
       "      <td>Algeria</td>\n",
       "      <td>2009.0</td>\n",
       "      <td>454.986524</td>\n",
       "      <td>Algeria</td>\n",
       "      <td>2009.0</td>\n",
       "      <td>3.658437</td>\n",
       "    </tr>\n",
       "  </tbody>\n",
       "</table>\n",
       "</div>"
      ],
      "text/plain": [
       "   Country  Year  Voice and Accountability   \\\n",
       "0  Algeria  2013                  23.943663   \n",
       "1  Algeria  2012                  22.535212   \n",
       "2  Algeria  2011                  20.187794   \n",
       "3  Algeria  2010                  18.483412   \n",
       "4  Algeria  2009                  17.535545   \n",
       "\n",
       "   Political Stability and Absence of Violence  Government   \\\n",
       "0                                    12.796208    35.071091   \n",
       "1                                     9.478673    35.071091   \n",
       "2                                    10.426540    36.018959   \n",
       "3                                    11.848341    38.755981   \n",
       "4                                    13.270143    35.406700   \n",
       "\n",
       "   Regulatory Quality  Rule of Law  Control of Corruption location_name_x  \\\n",
       "0           11.848341    30.985916              39.336494         Algeria   \n",
       "1            9.004740    26.760563              37.440758         Algeria   \n",
       "2            9.952606    24.413145              35.071091         Algeria   \n",
       "3            9.569378    26.540285              36.666668         Algeria   \n",
       "4           12.918660    23.222750              33.492825         Algeria   \n",
       "\n",
       "   year_x       val_x location_name_y  year_y     val_y  \n",
       "0  2013.0  454.156856         Algeria  2013.0  3.098165  \n",
       "1  2012.0  456.700061         Algeria  2012.0  3.157599  \n",
       "2  2011.0  454.240481         Algeria  2011.0  3.310561  \n",
       "3  2010.0  455.736521         Algeria  2010.0  3.468056  \n",
       "4  2009.0  454.986524         Algeria  2009.0  3.658437  "
      ]
     },
     "execution_count": 23,
     "metadata": {},
     "output_type": "execute_result"
    }
   ],
   "source": [
    "data1.shape\n",
    "data8.shape\n",
    "data8.head()"
   ]
  },
  {
   "cell_type": "code",
   "execution_count": 24,
   "metadata": {
    "ExecuteTime": {
     "end_time": "2021-08-30T09:04:01.609495Z",
     "start_time": "2021-08-30T09:04:01.592147Z"
    }
   },
   "outputs": [
    {
     "data": {
      "text/plain": [
       "(13400, 3)"
      ]
     },
     "execution_count": 24,
     "metadata": {},
     "output_type": "execute_result"
    },
    {
     "data": {
      "text/plain": [
       "(9577, 3)"
      ]
     },
     "execution_count": 24,
     "metadata": {},
     "output_type": "execute_result"
    },
    {
     "data": {
      "text/html": [
       "<div>\n",
       "<style scoped>\n",
       "    .dataframe tbody tr th:only-of-type {\n",
       "        vertical-align: middle;\n",
       "    }\n",
       "\n",
       "    .dataframe tbody tr th {\n",
       "        vertical-align: top;\n",
       "    }\n",
       "\n",
       "    .dataframe thead th {\n",
       "        text-align: right;\n",
       "    }\n",
       "</style>\n",
       "<table border=\"1\" class=\"dataframe\">\n",
       "  <thead>\n",
       "    <tr style=\"text-align: right;\">\n",
       "      <th></th>\n",
       "      <th>Year</th>\n",
       "      <th>Country of origin</th>\n",
       "      <th>Total</th>\n",
       "    </tr>\n",
       "  </thead>\n",
       "  <tbody>\n",
       "    <tr>\n",
       "      <th>0</th>\n",
       "      <td>2002</td>\n",
       "      <td>Algeria</td>\n",
       "      <td>6</td>\n",
       "    </tr>\n",
       "    <tr>\n",
       "      <th>1</th>\n",
       "      <td>2002</td>\n",
       "      <td>Algeria</td>\n",
       "      <td>117</td>\n",
       "    </tr>\n",
       "    <tr>\n",
       "      <th>2</th>\n",
       "      <td>2002</td>\n",
       "      <td>Algeria</td>\n",
       "      <td>21</td>\n",
       "    </tr>\n",
       "    <tr>\n",
       "      <th>3</th>\n",
       "      <td>2002</td>\n",
       "      <td>Algeria</td>\n",
       "      <td>5</td>\n",
       "    </tr>\n",
       "    <tr>\n",
       "      <th>4</th>\n",
       "      <td>2002</td>\n",
       "      <td>Algeria</td>\n",
       "      <td>94</td>\n",
       "    </tr>\n",
       "  </tbody>\n",
       "</table>\n",
       "</div>"
      ],
      "text/plain": [
       "   Year Country of origin  Total\n",
       "0  2002           Algeria      6\n",
       "1  2002           Algeria    117\n",
       "2  2002           Algeria     21\n",
       "3  2002           Algeria      5\n",
       "4  2002           Algeria     94"
      ]
     },
     "execution_count": 24,
     "metadata": {},
     "output_type": "execute_result"
    }
   ],
   "source": [
    "\n",
    "data_asylum.shape\n",
    "data_refugees.shape\n",
    "data_refugees.head()"
   ]
  },
  {
   "cell_type": "code",
   "execution_count": 25,
   "metadata": {
    "ExecuteTime": {
     "end_time": "2021-08-30T09:04:01.702373Z",
     "start_time": "2021-08-30T09:04:01.613002Z"
    }
   },
   "outputs": [
    {
     "data": {
      "text/plain": [
       "(13400, 3)"
      ]
     },
     "execution_count": 25,
     "metadata": {},
     "output_type": "execute_result"
    },
    {
     "data": {
      "text/plain": [
       "(9577, 3)"
      ]
     },
     "execution_count": 25,
     "metadata": {},
     "output_type": "execute_result"
    },
    {
     "data": {
      "text/plain": [
       "(824, 4)"
      ]
     },
     "execution_count": 25,
     "metadata": {},
     "output_type": "execute_result"
    },
    {
     "data": {
      "text/html": [
       "<div>\n",
       "<style scoped>\n",
       "    .dataframe tbody tr th:only-of-type {\n",
       "        vertical-align: middle;\n",
       "    }\n",
       "\n",
       "    .dataframe tbody tr th {\n",
       "        vertical-align: top;\n",
       "    }\n",
       "\n",
       "    .dataframe thead th {\n",
       "        text-align: right;\n",
       "    }\n",
       "</style>\n",
       "<table border=\"1\" class=\"dataframe\">\n",
       "  <thead>\n",
       "    <tr style=\"text-align: right;\">\n",
       "      <th></th>\n",
       "      <th>Country of origin</th>\n",
       "      <th>Year</th>\n",
       "      <th>applied</th>\n",
       "      <th>Total</th>\n",
       "    </tr>\n",
       "  </thead>\n",
       "  <tbody>\n",
       "    <tr>\n",
       "      <th>0</th>\n",
       "      <td>Algeria</td>\n",
       "      <td>2002</td>\n",
       "      <td>9867.0</td>\n",
       "      <td>7176</td>\n",
       "    </tr>\n",
       "    <tr>\n",
       "      <th>1</th>\n",
       "      <td>Algeria</td>\n",
       "      <td>2003</td>\n",
       "      <td>8041.0</td>\n",
       "      <td>7210</td>\n",
       "    </tr>\n",
       "    <tr>\n",
       "      <th>2</th>\n",
       "      <td>Algeria</td>\n",
       "      <td>2004</td>\n",
       "      <td>10230.0</td>\n",
       "      <td>6627</td>\n",
       "    </tr>\n",
       "    <tr>\n",
       "      <th>3</th>\n",
       "      <td>Algeria</td>\n",
       "      <td>2005</td>\n",
       "      <td>5343.0</td>\n",
       "      <td>8883</td>\n",
       "    </tr>\n",
       "    <tr>\n",
       "      <th>4</th>\n",
       "      <td>Algeria</td>\n",
       "      <td>2006</td>\n",
       "      <td>3615.0</td>\n",
       "      <td>4813</td>\n",
       "    </tr>\n",
       "  </tbody>\n",
       "</table>\n",
       "</div>"
      ],
      "text/plain": [
       "  Country of origin  Year  applied  Total\n",
       "0           Algeria  2002   9867.0   7176\n",
       "1           Algeria  2003   8041.0   7210\n",
       "2           Algeria  2004  10230.0   6627\n",
       "3           Algeria  2005   5343.0   8883\n",
       "4           Algeria  2006   3615.0   4813"
      ]
     },
     "execution_count": 25,
     "metadata": {},
     "output_type": "execute_result"
    }
   ],
   "source": [
    "data_asylum.shape\n",
    "data_refugees.shape\n",
    "data_asylum= data_asylum.groupby(by=['Country of origin','Year']).agg({'applied':sum}).reset_index()\n",
    "data_refugees= data_refugees.groupby(by=['Country of origin','Year']).agg({'Total':sum}).reset_index()\n",
    "\n",
    "data9 = pd.merge(left = data_asylum, #this is a table\n",
    "                                right = data_refugees, #this is a table\n",
    "                                how = 'right',  #how do we merge\n",
    "                                left_on = [\"Country of origin\",\"Year\"], \n",
    "                                right_on= [\"Country of origin\",\"Year\"])\n",
    "data9.shape\n",
    "data9.head()"
   ]
  },
  {
   "cell_type": "code",
   "execution_count": 26,
   "metadata": {
    "ExecuteTime": {
     "end_time": "2021-08-30T09:04:01.728271Z",
     "start_time": "2021-08-30T09:04:01.707658Z"
    }
   },
   "outputs": [
    {
     "data": {
      "text/plain": [
       "(906, 13)"
      ]
     },
     "execution_count": 26,
     "metadata": {},
     "output_type": "execute_result"
    }
   ],
   "source": [
    "data = data1[data1['Service level']== 'Limited service']\n",
    "data.shape"
   ]
  },
  {
   "cell_type": "code",
   "execution_count": 27,
   "metadata": {
    "ExecuteTime": {
     "end_time": "2021-08-30T09:04:01.812984Z",
     "start_time": "2021-08-30T09:04:01.739869Z"
    }
   },
   "outputs": [
    {
     "data": {
      "text/plain": [
       "(3774, 13)"
      ]
     },
     "execution_count": 27,
     "metadata": {},
     "output_type": "execute_result"
    },
    {
     "data": {
      "text/plain": [
       "(864, 14)"
      ]
     },
     "execution_count": 27,
     "metadata": {},
     "output_type": "execute_result"
    },
    {
     "data": {
      "text/plain": [
       "(864, 25)"
      ]
     },
     "execution_count": 27,
     "metadata": {},
     "output_type": "execute_result"
    },
    {
     "data": {
      "text/html": [
       "<div>\n",
       "<style scoped>\n",
       "    .dataframe tbody tr th:only-of-type {\n",
       "        vertical-align: middle;\n",
       "    }\n",
       "\n",
       "    .dataframe tbody tr th {\n",
       "        vertical-align: top;\n",
       "    }\n",
       "\n",
       "    .dataframe thead th {\n",
       "        text-align: right;\n",
       "    }\n",
       "</style>\n",
       "<table border=\"1\" class=\"dataframe\">\n",
       "  <thead>\n",
       "    <tr style=\"text-align: right;\">\n",
       "      <th></th>\n",
       "      <th>ISO3_x</th>\n",
       "      <th>Country</th>\n",
       "      <th>Residence Type_x</th>\n",
       "      <th>Service Type_x</th>\n",
       "      <th>Year</th>\n",
       "      <th>Coverage_x</th>\n",
       "      <th>Population_x</th>\n",
       "      <th>Service level</th>\n",
       "      <th>ISO3_y</th>\n",
       "      <th>Residence Type_y</th>\n",
       "      <th>...</th>\n",
       "      <th>Government</th>\n",
       "      <th>Regulatory Quality</th>\n",
       "      <th>Rule of Law</th>\n",
       "      <th>Control of Corruption</th>\n",
       "      <th>location_name_x</th>\n",
       "      <th>year_x</th>\n",
       "      <th>val_x</th>\n",
       "      <th>location_name_y</th>\n",
       "      <th>year_y</th>\n",
       "      <th>val_y</th>\n",
       "    </tr>\n",
       "  </thead>\n",
       "  <tbody>\n",
       "    <tr>\n",
       "      <th>0</th>\n",
       "      <td>DZA</td>\n",
       "      <td>Algeria</td>\n",
       "      <td>total</td>\n",
       "      <td>Drinking water</td>\n",
       "      <td>2013</td>\n",
       "      <td>5.23761</td>\n",
       "      <td>2.008024e+06</td>\n",
       "      <td>Limited service</td>\n",
       "      <td>DZA</td>\n",
       "      <td>total</td>\n",
       "      <td>...</td>\n",
       "      <td>35.071091</td>\n",
       "      <td>11.848341</td>\n",
       "      <td>30.985916</td>\n",
       "      <td>39.336494</td>\n",
       "      <td>Algeria</td>\n",
       "      <td>2013.0</td>\n",
       "      <td>454.156856</td>\n",
       "      <td>Algeria</td>\n",
       "      <td>2013.0</td>\n",
       "      <td>3.098165</td>\n",
       "    </tr>\n",
       "    <tr>\n",
       "      <th>1</th>\n",
       "      <td>DZA</td>\n",
       "      <td>Algeria</td>\n",
       "      <td>total</td>\n",
       "      <td>Drinking water</td>\n",
       "      <td>2012</td>\n",
       "      <td>5.25701</td>\n",
       "      <td>1.974839e+06</td>\n",
       "      <td>Limited service</td>\n",
       "      <td>DZA</td>\n",
       "      <td>total</td>\n",
       "      <td>...</td>\n",
       "      <td>35.071091</td>\n",
       "      <td>9.004740</td>\n",
       "      <td>26.760563</td>\n",
       "      <td>37.440758</td>\n",
       "      <td>Algeria</td>\n",
       "      <td>2012.0</td>\n",
       "      <td>456.700061</td>\n",
       "      <td>Algeria</td>\n",
       "      <td>2012.0</td>\n",
       "      <td>3.157599</td>\n",
       "    </tr>\n",
       "    <tr>\n",
       "      <th>2</th>\n",
       "      <td>DZA</td>\n",
       "      <td>Algeria</td>\n",
       "      <td>total</td>\n",
       "      <td>Drinking water</td>\n",
       "      <td>2011</td>\n",
       "      <td>5.27685</td>\n",
       "      <td>1.942915e+06</td>\n",
       "      <td>Limited service</td>\n",
       "      <td>DZA</td>\n",
       "      <td>total</td>\n",
       "      <td>...</td>\n",
       "      <td>36.018959</td>\n",
       "      <td>9.952606</td>\n",
       "      <td>24.413145</td>\n",
       "      <td>35.071091</td>\n",
       "      <td>Algeria</td>\n",
       "      <td>2011.0</td>\n",
       "      <td>454.240481</td>\n",
       "      <td>Algeria</td>\n",
       "      <td>2011.0</td>\n",
       "      <td>3.310561</td>\n",
       "    </tr>\n",
       "    <tr>\n",
       "      <th>3</th>\n",
       "      <td>DZA</td>\n",
       "      <td>Algeria</td>\n",
       "      <td>total</td>\n",
       "      <td>Drinking water</td>\n",
       "      <td>2010</td>\n",
       "      <td>5.29709</td>\n",
       "      <td>1.913184e+06</td>\n",
       "      <td>Limited service</td>\n",
       "      <td>DZA</td>\n",
       "      <td>total</td>\n",
       "      <td>...</td>\n",
       "      <td>38.755981</td>\n",
       "      <td>9.569378</td>\n",
       "      <td>26.540285</td>\n",
       "      <td>36.666668</td>\n",
       "      <td>Algeria</td>\n",
       "      <td>2010.0</td>\n",
       "      <td>455.736521</td>\n",
       "      <td>Algeria</td>\n",
       "      <td>2010.0</td>\n",
       "      <td>3.468056</td>\n",
       "    </tr>\n",
       "    <tr>\n",
       "      <th>4</th>\n",
       "      <td>DZA</td>\n",
       "      <td>Algeria</td>\n",
       "      <td>total</td>\n",
       "      <td>Drinking water</td>\n",
       "      <td>2009</td>\n",
       "      <td>5.31775</td>\n",
       "      <td>1.885980e+06</td>\n",
       "      <td>Limited service</td>\n",
       "      <td>DZA</td>\n",
       "      <td>total</td>\n",
       "      <td>...</td>\n",
       "      <td>35.406700</td>\n",
       "      <td>12.918660</td>\n",
       "      <td>23.222750</td>\n",
       "      <td>33.492825</td>\n",
       "      <td>Algeria</td>\n",
       "      <td>2009.0</td>\n",
       "      <td>454.986524</td>\n",
       "      <td>Algeria</td>\n",
       "      <td>2009.0</td>\n",
       "      <td>3.658437</td>\n",
       "    </tr>\n",
       "  </tbody>\n",
       "</table>\n",
       "<p>5 rows × 25 columns</p>\n",
       "</div>"
      ],
      "text/plain": [
       "  ISO3_x  Country Residence Type_x  Service Type_x  Year  Coverage_x  \\\n",
       "0    DZA  Algeria            total  Drinking water  2013     5.23761   \n",
       "1    DZA  Algeria            total  Drinking water  2012     5.25701   \n",
       "2    DZA  Algeria            total  Drinking water  2011     5.27685   \n",
       "3    DZA  Algeria            total  Drinking water  2010     5.29709   \n",
       "4    DZA  Algeria            total  Drinking water  2009     5.31775   \n",
       "\n",
       "   Population_x    Service level ISO3_y Residence Type_y  ... Government   \\\n",
       "0  2.008024e+06  Limited service    DZA            total  ...   35.071091   \n",
       "1  1.974839e+06  Limited service    DZA            total  ...   35.071091   \n",
       "2  1.942915e+06  Limited service    DZA            total  ...   36.018959   \n",
       "3  1.913184e+06  Limited service    DZA            total  ...   38.755981   \n",
       "4  1.885980e+06  Limited service    DZA            total  ...   35.406700   \n",
       "\n",
       "   Regulatory Quality  Rule of Law  Control of Corruption  location_name_x  \\\n",
       "0           11.848341    30.985916              39.336494          Algeria   \n",
       "1            9.004740    26.760563              37.440758          Algeria   \n",
       "2            9.952606    24.413145              35.071091          Algeria   \n",
       "3            9.569378    26.540285              36.666668          Algeria   \n",
       "4           12.918660    23.222750              33.492825          Algeria   \n",
       "\n",
       "   year_x       val_x  location_name_y  year_y     val_y  \n",
       "0  2013.0  454.156856          Algeria  2013.0  3.098165  \n",
       "1  2012.0  456.700061          Algeria  2012.0  3.157599  \n",
       "2  2011.0  454.240481          Algeria  2011.0  3.310561  \n",
       "3  2010.0  455.736521          Algeria  2010.0  3.468056  \n",
       "4  2009.0  454.986524          Algeria  2009.0  3.658437  \n",
       "\n",
       "[5 rows x 25 columns]"
      ]
     },
     "execution_count": 27,
     "metadata": {},
     "output_type": "execute_result"
    }
   ],
   "source": [
    "data1.shape\n",
    "data8.shape\n",
    "\n",
    "data10 = pd.merge(left = data, #this is a table\n",
    "                                right = data8, #this is a table\n",
    "                                how = 'right',  #how do we merge\n",
    "                                left_on = [\"Country\",\"Year\"], \n",
    "                                right_on= [\"Country\",\"Year\"])\n",
    "\n",
    "data10.shape\n",
    "data10.head()"
   ]
  },
  {
   "cell_type": "code",
   "execution_count": 28,
   "metadata": {
    "ExecuteTime": {
     "end_time": "2021-08-30T09:04:01.855322Z",
     "start_time": "2021-08-30T09:04:01.827785Z"
    }
   },
   "outputs": [
    {
     "data": {
      "text/plain": [
       "(864, 25)"
      ]
     },
     "execution_count": 28,
     "metadata": {},
     "output_type": "execute_result"
    },
    {
     "data": {
      "text/plain": [
       "(824, 4)"
      ]
     },
     "execution_count": 28,
     "metadata": {},
     "output_type": "execute_result"
    },
    {
     "data": {
      "text/html": [
       "<div>\n",
       "<style scoped>\n",
       "    .dataframe tbody tr th:only-of-type {\n",
       "        vertical-align: middle;\n",
       "    }\n",
       "\n",
       "    .dataframe tbody tr th {\n",
       "        vertical-align: top;\n",
       "    }\n",
       "\n",
       "    .dataframe thead th {\n",
       "        text-align: right;\n",
       "    }\n",
       "</style>\n",
       "<table border=\"1\" class=\"dataframe\">\n",
       "  <thead>\n",
       "    <tr style=\"text-align: right;\">\n",
       "      <th></th>\n",
       "      <th>Country of origin</th>\n",
       "      <th>Year</th>\n",
       "      <th>applied</th>\n",
       "      <th>Total</th>\n",
       "    </tr>\n",
       "  </thead>\n",
       "  <tbody>\n",
       "    <tr>\n",
       "      <th>0</th>\n",
       "      <td>Algeria</td>\n",
       "      <td>2002</td>\n",
       "      <td>9867.0</td>\n",
       "      <td>7176</td>\n",
       "    </tr>\n",
       "    <tr>\n",
       "      <th>1</th>\n",
       "      <td>Algeria</td>\n",
       "      <td>2003</td>\n",
       "      <td>8041.0</td>\n",
       "      <td>7210</td>\n",
       "    </tr>\n",
       "    <tr>\n",
       "      <th>2</th>\n",
       "      <td>Algeria</td>\n",
       "      <td>2004</td>\n",
       "      <td>10230.0</td>\n",
       "      <td>6627</td>\n",
       "    </tr>\n",
       "    <tr>\n",
       "      <th>3</th>\n",
       "      <td>Algeria</td>\n",
       "      <td>2005</td>\n",
       "      <td>5343.0</td>\n",
       "      <td>8883</td>\n",
       "    </tr>\n",
       "    <tr>\n",
       "      <th>4</th>\n",
       "      <td>Algeria</td>\n",
       "      <td>2006</td>\n",
       "      <td>3615.0</td>\n",
       "      <td>4813</td>\n",
       "    </tr>\n",
       "  </tbody>\n",
       "</table>\n",
       "</div>"
      ],
      "text/plain": [
       "  Country of origin  Year  applied  Total\n",
       "0           Algeria  2002   9867.0   7176\n",
       "1           Algeria  2003   8041.0   7210\n",
       "2           Algeria  2004  10230.0   6627\n",
       "3           Algeria  2005   5343.0   8883\n",
       "4           Algeria  2006   3615.0   4813"
      ]
     },
     "execution_count": 28,
     "metadata": {},
     "output_type": "execute_result"
    }
   ],
   "source": [
    "data10.shape\n",
    "data9.shape\n",
    "data9.head()"
   ]
  },
  {
   "cell_type": "code",
   "execution_count": 29,
   "metadata": {
    "ExecuteTime": {
     "end_time": "2021-08-30T09:04:01.925196Z",
     "start_time": "2021-08-30T09:04:01.860262Z"
    }
   },
   "outputs": [
    {
     "data": {
      "text/plain": [
       "(824, 28)"
      ]
     },
     "execution_count": 29,
     "metadata": {},
     "output_type": "execute_result"
    },
    {
     "data": {
      "text/html": [
       "<div>\n",
       "<style scoped>\n",
       "    .dataframe tbody tr th:only-of-type {\n",
       "        vertical-align: middle;\n",
       "    }\n",
       "\n",
       "    .dataframe tbody tr th {\n",
       "        vertical-align: top;\n",
       "    }\n",
       "\n",
       "    .dataframe thead th {\n",
       "        text-align: right;\n",
       "    }\n",
       "</style>\n",
       "<table border=\"1\" class=\"dataframe\">\n",
       "  <thead>\n",
       "    <tr style=\"text-align: right;\">\n",
       "      <th></th>\n",
       "      <th>ISO3_x</th>\n",
       "      <th>Country</th>\n",
       "      <th>Residence Type_x</th>\n",
       "      <th>Service Type_x</th>\n",
       "      <th>Year</th>\n",
       "      <th>Coverage_x</th>\n",
       "      <th>Population_x</th>\n",
       "      <th>Service level</th>\n",
       "      <th>ISO3_y</th>\n",
       "      <th>Residence Type_y</th>\n",
       "      <th>...</th>\n",
       "      <th>Control of Corruption</th>\n",
       "      <th>location_name_x</th>\n",
       "      <th>year_x</th>\n",
       "      <th>val_x</th>\n",
       "      <th>location_name_y</th>\n",
       "      <th>year_y</th>\n",
       "      <th>val_y</th>\n",
       "      <th>Country of origin</th>\n",
       "      <th>applied</th>\n",
       "      <th>Total</th>\n",
       "    </tr>\n",
       "  </thead>\n",
       "  <tbody>\n",
       "    <tr>\n",
       "      <th>0</th>\n",
       "      <td>DZA</td>\n",
       "      <td>Algeria</td>\n",
       "      <td>total</td>\n",
       "      <td>Drinking water</td>\n",
       "      <td>2002</td>\n",
       "      <td>5.46453</td>\n",
       "      <td>1.748377e+06</td>\n",
       "      <td>Limited service</td>\n",
       "      <td>DZA</td>\n",
       "      <td>total</td>\n",
       "      <td>...</td>\n",
       "      <td>23.232323</td>\n",
       "      <td>Algeria</td>\n",
       "      <td>2002.0</td>\n",
       "      <td>337.356467</td>\n",
       "      <td>Algeria</td>\n",
       "      <td>2002.0</td>\n",
       "      <td>5.989716</td>\n",
       "      <td>Algeria</td>\n",
       "      <td>9867.0</td>\n",
       "      <td>7176</td>\n",
       "    </tr>\n",
       "    <tr>\n",
       "      <th>1</th>\n",
       "      <td>DZA</td>\n",
       "      <td>Algeria</td>\n",
       "      <td>total</td>\n",
       "      <td>Drinking water</td>\n",
       "      <td>2003</td>\n",
       "      <td>5.44399</td>\n",
       "      <td>1.764044e+06</td>\n",
       "      <td>Limited service</td>\n",
       "      <td>DZA</td>\n",
       "      <td>total</td>\n",
       "      <td>...</td>\n",
       "      <td>28.787878</td>\n",
       "      <td>Algeria</td>\n",
       "      <td>2003.0</td>\n",
       "      <td>360.341265</td>\n",
       "      <td>Algeria</td>\n",
       "      <td>2003.0</td>\n",
       "      <td>5.450697</td>\n",
       "      <td>Algeria</td>\n",
       "      <td>8041.0</td>\n",
       "      <td>7210</td>\n",
       "    </tr>\n",
       "    <tr>\n",
       "      <th>2</th>\n",
       "      <td>DZA</td>\n",
       "      <td>Algeria</td>\n",
       "      <td>total</td>\n",
       "      <td>Drinking water</td>\n",
       "      <td>2004</td>\n",
       "      <td>5.42323</td>\n",
       "      <td>1.780507e+06</td>\n",
       "      <td>Limited service</td>\n",
       "      <td>DZA</td>\n",
       "      <td>total</td>\n",
       "      <td>...</td>\n",
       "      <td>27.804878</td>\n",
       "      <td>Algeria</td>\n",
       "      <td>2004.0</td>\n",
       "      <td>383.470642</td>\n",
       "      <td>Algeria</td>\n",
       "      <td>2004.0</td>\n",
       "      <td>5.094135</td>\n",
       "      <td>Algeria</td>\n",
       "      <td>10230.0</td>\n",
       "      <td>6627</td>\n",
       "    </tr>\n",
       "    <tr>\n",
       "      <th>3</th>\n",
       "      <td>DZA</td>\n",
       "      <td>Algeria</td>\n",
       "      <td>total</td>\n",
       "      <td>Drinking water</td>\n",
       "      <td>2005</td>\n",
       "      <td>5.40235</td>\n",
       "      <td>1.798358e+06</td>\n",
       "      <td>Limited service</td>\n",
       "      <td>DZA</td>\n",
       "      <td>total</td>\n",
       "      <td>...</td>\n",
       "      <td>40.000000</td>\n",
       "      <td>Algeria</td>\n",
       "      <td>2005.0</td>\n",
       "      <td>405.811788</td>\n",
       "      <td>Algeria</td>\n",
       "      <td>2005.0</td>\n",
       "      <td>4.736456</td>\n",
       "      <td>Algeria</td>\n",
       "      <td>5343.0</td>\n",
       "      <td>8883</td>\n",
       "    </tr>\n",
       "    <tr>\n",
       "      <th>4</th>\n",
       "      <td>DZA</td>\n",
       "      <td>Algeria</td>\n",
       "      <td>total</td>\n",
       "      <td>Drinking water</td>\n",
       "      <td>2006</td>\n",
       "      <td>5.38126</td>\n",
       "      <td>1.817678e+06</td>\n",
       "      <td>Limited service</td>\n",
       "      <td>DZA</td>\n",
       "      <td>total</td>\n",
       "      <td>...</td>\n",
       "      <td>36.585365</td>\n",
       "      <td>Algeria</td>\n",
       "      <td>2006.0</td>\n",
       "      <td>426.181157</td>\n",
       "      <td>Algeria</td>\n",
       "      <td>2006.0</td>\n",
       "      <td>4.423569</td>\n",
       "      <td>Algeria</td>\n",
       "      <td>3615.0</td>\n",
       "      <td>4813</td>\n",
       "    </tr>\n",
       "  </tbody>\n",
       "</table>\n",
       "<p>5 rows × 28 columns</p>\n",
       "</div>"
      ],
      "text/plain": [
       "  ISO3_x  Country Residence Type_x  Service Type_x  Year  Coverage_x  \\\n",
       "0    DZA  Algeria            total  Drinking water  2002     5.46453   \n",
       "1    DZA  Algeria            total  Drinking water  2003     5.44399   \n",
       "2    DZA  Algeria            total  Drinking water  2004     5.42323   \n",
       "3    DZA  Algeria            total  Drinking water  2005     5.40235   \n",
       "4    DZA  Algeria            total  Drinking water  2006     5.38126   \n",
       "\n",
       "   Population_x    Service level ISO3_y Residence Type_y  ...  \\\n",
       "0  1.748377e+06  Limited service    DZA            total  ...   \n",
       "1  1.764044e+06  Limited service    DZA            total  ...   \n",
       "2  1.780507e+06  Limited service    DZA            total  ...   \n",
       "3  1.798358e+06  Limited service    DZA            total  ...   \n",
       "4  1.817678e+06  Limited service    DZA            total  ...   \n",
       "\n",
       "  Control of Corruption  location_name_x  year_x       val_x  location_name_y  \\\n",
       "0             23.232323          Algeria  2002.0  337.356467          Algeria   \n",
       "1             28.787878          Algeria  2003.0  360.341265          Algeria   \n",
       "2             27.804878          Algeria  2004.0  383.470642          Algeria   \n",
       "3             40.000000          Algeria  2005.0  405.811788          Algeria   \n",
       "4             36.585365          Algeria  2006.0  426.181157          Algeria   \n",
       "\n",
       "   year_y     val_y  Country of origin  applied Total  \n",
       "0  2002.0  5.989716            Algeria   9867.0  7176  \n",
       "1  2003.0  5.450697            Algeria   8041.0  7210  \n",
       "2  2004.0  5.094135            Algeria  10230.0  6627  \n",
       "3  2005.0  4.736456            Algeria   5343.0  8883  \n",
       "4  2006.0  4.423569            Algeria   3615.0  4813  \n",
       "\n",
       "[5 rows x 28 columns]"
      ]
     },
     "execution_count": 29,
     "metadata": {},
     "output_type": "execute_result"
    }
   ],
   "source": [
    "data11 = pd.merge(left = data10, #this is a table\n",
    "                                right = data9, #this is a table\n",
    "                                how = 'right',  #how do we merge\n",
    "                                left_on = [\"Country\",\"Year\"], \n",
    "                                right_on= [\"Country of origin\",\"Year\"])\n",
    "\n",
    "data11.shape\n",
    "data11.head()"
   ]
  },
  {
   "cell_type": "code",
   "execution_count": 30,
   "metadata": {
    "ExecuteTime": {
     "end_time": "2021-08-30T09:04:01.946154Z",
     "start_time": "2021-08-30T09:04:01.928088Z"
    }
   },
   "outputs": [
    {
     "data": {
      "text/plain": [
       "(786, 30)"
      ]
     },
     "execution_count": 30,
     "metadata": {},
     "output_type": "execute_result"
    }
   ],
   "source": [
    "data12 = pd.merge(left = data11, #this is a table\n",
    "                                right = form_government, #this is a table\n",
    "                                how = 'inner',  #how do we merge\n",
    "                                left_on = [\"Country\"], \n",
    "                                right_on= [\"Country\"])\n",
    "data12.shape"
   ]
  },
  {
   "cell_type": "code",
   "execution_count": 31,
   "metadata": {
    "ExecuteTime": {
     "end_time": "2021-08-30T09:04:01.960565Z",
     "start_time": "2021-08-30T09:04:01.949690Z"
    }
   },
   "outputs": [
    {
     "data": {
      "text/plain": [
       "Index(['ISO3_x', 'Country', 'Residence Type_x', 'Service Type_x', 'Year',\n",
       "       'Coverage_x', 'Population_x', 'Service level', 'ISO3_y',\n",
       "       'Residence Type_y', 'Service Type_y', 'Coverage_y', 'Population_y',\n",
       "       'Voice and Accountability ',\n",
       "       'Political Stability and Absence of Violence', 'Government ',\n",
       "       'Regulatory Quality', 'Rule of Law', 'Control of Corruption',\n",
       "       'location_name_x', 'year_x', 'val_x', 'location_name_y', 'year_y',\n",
       "       'val_y', 'Country of origin', 'applied', 'Total', 'Form of Government',\n",
       "       'Unnamed: 2'],\n",
       "      dtype='object')"
      ]
     },
     "execution_count": 31,
     "metadata": {},
     "output_type": "execute_result"
    }
   ],
   "source": [
    "data12.columns"
   ]
  },
  {
   "cell_type": "code",
   "execution_count": 32,
   "metadata": {
    "ExecuteTime": {
     "end_time": "2021-08-30T09:04:01.978395Z",
     "start_time": "2021-08-30T09:04:01.965060Z"
    }
   },
   "outputs": [
    {
     "data": {
      "text/plain": [
       "(786, 18)"
      ]
     },
     "execution_count": 32,
     "metadata": {},
     "output_type": "execute_result"
    }
   ],
   "source": [
    "data=data12.drop(['ISO3_x','Residence Type_x','Service Type_x','ISO3_y','Residence Type_y','Service Type_y','location_name_x','year_x','location_name_y','year_y','Country of origin','Unnamed: 2'], axis = 1)\n",
    "data.shape\n",
    "\n"
   ]
  },
  {
   "cell_type": "code",
   "execution_count": 33,
   "metadata": {
    "ExecuteTime": {
     "end_time": "2021-08-30T09:04:01.988760Z",
     "start_time": "2021-08-30T09:04:01.983468Z"
    }
   },
   "outputs": [],
   "source": [
    "data = data.rename(columns={'applied':'asylum_application','Total':'refugees_total','val_x':'deaths_vih','val_y':'deaths_intestinal','Coverage_x':'water_coverage','Population_x':'water_population','Coverage_y':'sanitation_coverage','Population_y':'sanitation_population'})\n"
   ]
  },
  {
   "cell_type": "code",
   "execution_count": 34,
   "metadata": {
    "ExecuteTime": {
     "end_time": "2021-08-30T09:04:02.043785Z",
     "start_time": "2021-08-30T09:04:01.994049Z"
    }
   },
   "outputs": [
    {
     "data": {
      "text/html": [
       "<div>\n",
       "<style scoped>\n",
       "    .dataframe tbody tr th:only-of-type {\n",
       "        vertical-align: middle;\n",
       "    }\n",
       "\n",
       "    .dataframe tbody tr th {\n",
       "        vertical-align: top;\n",
       "    }\n",
       "\n",
       "    .dataframe thead th {\n",
       "        text-align: right;\n",
       "    }\n",
       "</style>\n",
       "<table border=\"1\" class=\"dataframe\">\n",
       "  <thead>\n",
       "    <tr style=\"text-align: right;\">\n",
       "      <th></th>\n",
       "      <th>Country</th>\n",
       "      <th>Year</th>\n",
       "      <th>water_coverage</th>\n",
       "      <th>water_population</th>\n",
       "      <th>Service level</th>\n",
       "      <th>sanitation_coverage</th>\n",
       "      <th>sanitation_population</th>\n",
       "      <th>Voice and Accountability</th>\n",
       "      <th>Political Stability and Absence of Violence</th>\n",
       "      <th>Government</th>\n",
       "      <th>Regulatory Quality</th>\n",
       "      <th>Rule of Law</th>\n",
       "      <th>Control of Corruption</th>\n",
       "      <th>deaths_vih</th>\n",
       "      <th>deaths_intestinal</th>\n",
       "      <th>asylum_application</th>\n",
       "      <th>refugees_total</th>\n",
       "      <th>Form of Government</th>\n",
       "    </tr>\n",
       "  </thead>\n",
       "  <tbody>\n",
       "    <tr>\n",
       "      <th>0</th>\n",
       "      <td>Algeria</td>\n",
       "      <td>2002</td>\n",
       "      <td>5.46453</td>\n",
       "      <td>1.748377e+06</td>\n",
       "      <td>Limited service</td>\n",
       "      <td>8.41044</td>\n",
       "      <td>2.690925e+06</td>\n",
       "      <td>18.905472</td>\n",
       "      <td>6.878307</td>\n",
       "      <td>31.122450</td>\n",
       "      <td>29.591837</td>\n",
       "      <td>33.168316</td>\n",
       "      <td>23.232323</td>\n",
       "      <td>337.356467</td>\n",
       "      <td>5.989716</td>\n",
       "      <td>9867.0</td>\n",
       "      <td>7176</td>\n",
       "      <td>parliamentary unitary republic</td>\n",
       "    </tr>\n",
       "    <tr>\n",
       "      <th>1</th>\n",
       "      <td>Algeria</td>\n",
       "      <td>2003</td>\n",
       "      <td>5.44399</td>\n",
       "      <td>1.764044e+06</td>\n",
       "      <td>Limited service</td>\n",
       "      <td>8.41781</td>\n",
       "      <td>2.727667e+06</td>\n",
       "      <td>18.905472</td>\n",
       "      <td>5.527638</td>\n",
       "      <td>31.122450</td>\n",
       "      <td>32.142857</td>\n",
       "      <td>31.683168</td>\n",
       "      <td>28.787878</td>\n",
       "      <td>360.341265</td>\n",
       "      <td>5.450697</td>\n",
       "      <td>8041.0</td>\n",
       "      <td>7210</td>\n",
       "      <td>parliamentary unitary republic</td>\n",
       "    </tr>\n",
       "    <tr>\n",
       "      <th>2</th>\n",
       "      <td>Algeria</td>\n",
       "      <td>2004</td>\n",
       "      <td>5.42323</td>\n",
       "      <td>1.780507e+06</td>\n",
       "      <td>Limited service</td>\n",
       "      <td>8.42380</td>\n",
       "      <td>2.765626e+06</td>\n",
       "      <td>23.557692</td>\n",
       "      <td>10.679611</td>\n",
       "      <td>34.482758</td>\n",
       "      <td>30.049261</td>\n",
       "      <td>33.492825</td>\n",
       "      <td>27.804878</td>\n",
       "      <td>383.470642</td>\n",
       "      <td>5.094135</td>\n",
       "      <td>10230.0</td>\n",
       "      <td>6627</td>\n",
       "      <td>parliamentary unitary republic</td>\n",
       "    </tr>\n",
       "    <tr>\n",
       "      <th>3</th>\n",
       "      <td>Algeria</td>\n",
       "      <td>2005</td>\n",
       "      <td>5.40235</td>\n",
       "      <td>1.798358e+06</td>\n",
       "      <td>Limited service</td>\n",
       "      <td>8.42849</td>\n",
       "      <td>2.805711e+06</td>\n",
       "      <td>25.480770</td>\n",
       "      <td>20.388350</td>\n",
       "      <td>39.215687</td>\n",
       "      <td>42.647060</td>\n",
       "      <td>28.229666</td>\n",
       "      <td>40.000000</td>\n",
       "      <td>405.811788</td>\n",
       "      <td>4.736456</td>\n",
       "      <td>5343.0</td>\n",
       "      <td>8883</td>\n",
       "      <td>parliamentary unitary republic</td>\n",
       "    </tr>\n",
       "    <tr>\n",
       "      <th>4</th>\n",
       "      <td>Algeria</td>\n",
       "      <td>2006</td>\n",
       "      <td>5.38126</td>\n",
       "      <td>1.817678e+06</td>\n",
       "      <td>Limited service</td>\n",
       "      <td>8.43183</td>\n",
       "      <td>2.848097e+06</td>\n",
       "      <td>22.596153</td>\n",
       "      <td>15.458938</td>\n",
       "      <td>38.048782</td>\n",
       "      <td>29.411764</td>\n",
       "      <td>27.751196</td>\n",
       "      <td>36.585365</td>\n",
       "      <td>426.181157</td>\n",
       "      <td>4.423569</td>\n",
       "      <td>3615.0</td>\n",
       "      <td>4813</td>\n",
       "      <td>parliamentary unitary republic</td>\n",
       "    </tr>\n",
       "  </tbody>\n",
       "</table>\n",
       "</div>"
      ],
      "text/plain": [
       "   Country  Year  water_coverage  water_population    Service level  \\\n",
       "0  Algeria  2002         5.46453      1.748377e+06  Limited service   \n",
       "1  Algeria  2003         5.44399      1.764044e+06  Limited service   \n",
       "2  Algeria  2004         5.42323      1.780507e+06  Limited service   \n",
       "3  Algeria  2005         5.40235      1.798358e+06  Limited service   \n",
       "4  Algeria  2006         5.38126      1.817678e+06  Limited service   \n",
       "\n",
       "   sanitation_coverage  sanitation_population  Voice and Accountability   \\\n",
       "0              8.41044           2.690925e+06                  18.905472   \n",
       "1              8.41781           2.727667e+06                  18.905472   \n",
       "2              8.42380           2.765626e+06                  23.557692   \n",
       "3              8.42849           2.805711e+06                  25.480770   \n",
       "4              8.43183           2.848097e+06                  22.596153   \n",
       "\n",
       "   Political Stability and Absence of Violence  Government   \\\n",
       "0                                     6.878307    31.122450   \n",
       "1                                     5.527638    31.122450   \n",
       "2                                    10.679611    34.482758   \n",
       "3                                    20.388350    39.215687   \n",
       "4                                    15.458938    38.048782   \n",
       "\n",
       "   Regulatory Quality  Rule of Law  Control of Corruption  deaths_vih  \\\n",
       "0           29.591837    33.168316              23.232323  337.356467   \n",
       "1           32.142857    31.683168              28.787878  360.341265   \n",
       "2           30.049261    33.492825              27.804878  383.470642   \n",
       "3           42.647060    28.229666              40.000000  405.811788   \n",
       "4           29.411764    27.751196              36.585365  426.181157   \n",
       "\n",
       "   deaths_intestinal  asylum_application  refugees_total  \\\n",
       "0           5.989716              9867.0            7176   \n",
       "1           5.450697              8041.0            7210   \n",
       "2           5.094135             10230.0            6627   \n",
       "3           4.736456              5343.0            8883   \n",
       "4           4.423569              3615.0            4813   \n",
       "\n",
       "               Form of Government  \n",
       "0  parliamentary unitary republic  \n",
       "1  parliamentary unitary republic  \n",
       "2  parliamentary unitary republic  \n",
       "3  parliamentary unitary republic  \n",
       "4  parliamentary unitary republic  "
      ]
     },
     "execution_count": 34,
     "metadata": {},
     "output_type": "execute_result"
    },
    {
     "data": {
      "text/plain": [
       "(786, 18)"
      ]
     },
     "execution_count": 34,
     "metadata": {},
     "output_type": "execute_result"
    }
   ],
   "source": [
    "data.head()\n",
    "data.shape"
   ]
  },
  {
   "cell_type": "code",
   "execution_count": 35,
   "metadata": {
    "ExecuteTime": {
     "end_time": "2021-08-30T09:04:02.127953Z",
     "start_time": "2021-08-30T09:04:02.048182Z"
    }
   },
   "outputs": [
    {
     "data": {
      "text/html": [
       "<div>\n",
       "<style scoped>\n",
       "    .dataframe tbody tr th:only-of-type {\n",
       "        vertical-align: middle;\n",
       "    }\n",
       "\n",
       "    .dataframe tbody tr th {\n",
       "        vertical-align: top;\n",
       "    }\n",
       "\n",
       "    .dataframe thead th {\n",
       "        text-align: right;\n",
       "    }\n",
       "</style>\n",
       "<table border=\"1\" class=\"dataframe\">\n",
       "  <thead>\n",
       "    <tr style=\"text-align: right;\">\n",
       "      <th></th>\n",
       "      <th>Country</th>\n",
       "      <th>Year</th>\n",
       "      <th>water_coverage</th>\n",
       "      <th>water_population</th>\n",
       "      <th>Service level</th>\n",
       "      <th>sanitation_coverage</th>\n",
       "      <th>sanitation_population</th>\n",
       "      <th>Voice and Accountability</th>\n",
       "      <th>Political Stability and Absence of Violence</th>\n",
       "      <th>Government</th>\n",
       "      <th>Regulatory Quality</th>\n",
       "      <th>Rule of Law</th>\n",
       "      <th>Control of Corruption</th>\n",
       "      <th>deaths_vih</th>\n",
       "      <th>deaths_intestinal</th>\n",
       "      <th>asylum_application</th>\n",
       "      <th>refugees_total</th>\n",
       "      <th>Form of Government</th>\n",
       "    </tr>\n",
       "  </thead>\n",
       "  <tbody>\n",
       "    <tr>\n",
       "      <th>0</th>\n",
       "      <td>Algeria</td>\n",
       "      <td>2002</td>\n",
       "      <td>5.46453</td>\n",
       "      <td>1.748377e+06</td>\n",
       "      <td>Limited service</td>\n",
       "      <td>8.41044</td>\n",
       "      <td>2.690925e+06</td>\n",
       "      <td>18.905472</td>\n",
       "      <td>6.878307</td>\n",
       "      <td>31.122450</td>\n",
       "      <td>29.591837</td>\n",
       "      <td>33.168316</td>\n",
       "      <td>23.232323</td>\n",
       "      <td>337.356467</td>\n",
       "      <td>5.989716</td>\n",
       "      <td>9867.0</td>\n",
       "      <td>7176</td>\n",
       "      <td>parliamentary unitary republic</td>\n",
       "    </tr>\n",
       "    <tr>\n",
       "      <th>1</th>\n",
       "      <td>Algeria</td>\n",
       "      <td>2003</td>\n",
       "      <td>5.44399</td>\n",
       "      <td>1.764044e+06</td>\n",
       "      <td>Limited service</td>\n",
       "      <td>8.41781</td>\n",
       "      <td>2.727667e+06</td>\n",
       "      <td>18.905472</td>\n",
       "      <td>5.527638</td>\n",
       "      <td>31.122450</td>\n",
       "      <td>32.142857</td>\n",
       "      <td>31.683168</td>\n",
       "      <td>28.787878</td>\n",
       "      <td>360.341265</td>\n",
       "      <td>5.450697</td>\n",
       "      <td>8041.0</td>\n",
       "      <td>7210</td>\n",
       "      <td>parliamentary unitary republic</td>\n",
       "    </tr>\n",
       "    <tr>\n",
       "      <th>2</th>\n",
       "      <td>Algeria</td>\n",
       "      <td>2004</td>\n",
       "      <td>5.42323</td>\n",
       "      <td>1.780507e+06</td>\n",
       "      <td>Limited service</td>\n",
       "      <td>8.42380</td>\n",
       "      <td>2.765626e+06</td>\n",
       "      <td>23.557692</td>\n",
       "      <td>10.679611</td>\n",
       "      <td>34.482758</td>\n",
       "      <td>30.049261</td>\n",
       "      <td>33.492825</td>\n",
       "      <td>27.804878</td>\n",
       "      <td>383.470642</td>\n",
       "      <td>5.094135</td>\n",
       "      <td>10230.0</td>\n",
       "      <td>6627</td>\n",
       "      <td>parliamentary unitary republic</td>\n",
       "    </tr>\n",
       "    <tr>\n",
       "      <th>3</th>\n",
       "      <td>Algeria</td>\n",
       "      <td>2005</td>\n",
       "      <td>5.40235</td>\n",
       "      <td>1.798358e+06</td>\n",
       "      <td>Limited service</td>\n",
       "      <td>8.42849</td>\n",
       "      <td>2.805711e+06</td>\n",
       "      <td>25.480770</td>\n",
       "      <td>20.388350</td>\n",
       "      <td>39.215687</td>\n",
       "      <td>42.647060</td>\n",
       "      <td>28.229666</td>\n",
       "      <td>40.000000</td>\n",
       "      <td>405.811788</td>\n",
       "      <td>4.736456</td>\n",
       "      <td>5343.0</td>\n",
       "      <td>8883</td>\n",
       "      <td>parliamentary unitary republic</td>\n",
       "    </tr>\n",
       "    <tr>\n",
       "      <th>4</th>\n",
       "      <td>Algeria</td>\n",
       "      <td>2006</td>\n",
       "      <td>5.38126</td>\n",
       "      <td>1.817678e+06</td>\n",
       "      <td>Limited service</td>\n",
       "      <td>8.43183</td>\n",
       "      <td>2.848097e+06</td>\n",
       "      <td>22.596153</td>\n",
       "      <td>15.458938</td>\n",
       "      <td>38.048782</td>\n",
       "      <td>29.411764</td>\n",
       "      <td>27.751196</td>\n",
       "      <td>36.585365</td>\n",
       "      <td>426.181157</td>\n",
       "      <td>4.423569</td>\n",
       "      <td>3615.0</td>\n",
       "      <td>4813</td>\n",
       "      <td>parliamentary unitary republic</td>\n",
       "    </tr>\n",
       "  </tbody>\n",
       "</table>\n",
       "</div>"
      ],
      "text/plain": [
       "   Country  Year  water_coverage  water_population    Service level  \\\n",
       "0  Algeria  2002         5.46453      1.748377e+06  Limited service   \n",
       "1  Algeria  2003         5.44399      1.764044e+06  Limited service   \n",
       "2  Algeria  2004         5.42323      1.780507e+06  Limited service   \n",
       "3  Algeria  2005         5.40235      1.798358e+06  Limited service   \n",
       "4  Algeria  2006         5.38126      1.817678e+06  Limited service   \n",
       "\n",
       "   sanitation_coverage  sanitation_population  Voice and Accountability   \\\n",
       "0              8.41044           2.690925e+06                  18.905472   \n",
       "1              8.41781           2.727667e+06                  18.905472   \n",
       "2              8.42380           2.765626e+06                  23.557692   \n",
       "3              8.42849           2.805711e+06                  25.480770   \n",
       "4              8.43183           2.848097e+06                  22.596153   \n",
       "\n",
       "   Political Stability and Absence of Violence  Government   \\\n",
       "0                                     6.878307    31.122450   \n",
       "1                                     5.527638    31.122450   \n",
       "2                                    10.679611    34.482758   \n",
       "3                                    20.388350    39.215687   \n",
       "4                                    15.458938    38.048782   \n",
       "\n",
       "   Regulatory Quality  Rule of Law  Control of Corruption  deaths_vih  \\\n",
       "0           29.591837    33.168316              23.232323  337.356467   \n",
       "1           32.142857    31.683168              28.787878  360.341265   \n",
       "2           30.049261    33.492825              27.804878  383.470642   \n",
       "3           42.647060    28.229666              40.000000  405.811788   \n",
       "4           29.411764    27.751196              36.585365  426.181157   \n",
       "\n",
       "   deaths_intestinal  asylum_application  refugees_total  \\\n",
       "0           5.989716              9867.0            7176   \n",
       "1           5.450697              8041.0            7210   \n",
       "2           5.094135             10230.0            6627   \n",
       "3           4.736456              5343.0            8883   \n",
       "4           4.423569              3615.0            4813   \n",
       "\n",
       "               Form of Government  \n",
       "0  parliamentary unitary republic  \n",
       "1  parliamentary unitary republic  \n",
       "2  parliamentary unitary republic  \n",
       "3  parliamentary unitary republic  \n",
       "4  parliamentary unitary republic  "
      ]
     },
     "execution_count": 35,
     "metadata": {},
     "output_type": "execute_result"
    },
    {
     "data": {
      "text/html": [
       "<div>\n",
       "<style scoped>\n",
       "    .dataframe tbody tr th:only-of-type {\n",
       "        vertical-align: middle;\n",
       "    }\n",
       "\n",
       "    .dataframe tbody tr th {\n",
       "        vertical-align: top;\n",
       "    }\n",
       "\n",
       "    .dataframe thead th {\n",
       "        text-align: right;\n",
       "    }\n",
       "</style>\n",
       "<table border=\"1\" class=\"dataframe\">\n",
       "  <thead>\n",
       "    <tr style=\"text-align: right;\">\n",
       "      <th></th>\n",
       "      <th>country</th>\n",
       "      <th>year</th>\n",
       "      <th>water_coverage</th>\n",
       "      <th>water_population</th>\n",
       "      <th>service_level</th>\n",
       "      <th>sanitation_coverage</th>\n",
       "      <th>sanitation_population</th>\n",
       "      <th>voice_and_accountability_</th>\n",
       "      <th>political_stability_and_absence_of_violence</th>\n",
       "      <th>government_</th>\n",
       "      <th>regulatory_quality</th>\n",
       "      <th>rule_of_law</th>\n",
       "      <th>control_of_corruption</th>\n",
       "      <th>deaths_vih</th>\n",
       "      <th>deaths_intestinal</th>\n",
       "      <th>asylum_application</th>\n",
       "      <th>refugees_total</th>\n",
       "      <th>form_of_government</th>\n",
       "    </tr>\n",
       "  </thead>\n",
       "  <tbody>\n",
       "    <tr>\n",
       "      <th>0</th>\n",
       "      <td>Algeria</td>\n",
       "      <td>2002</td>\n",
       "      <td>5.46453</td>\n",
       "      <td>1.748377e+06</td>\n",
       "      <td>Limited service</td>\n",
       "      <td>8.41044</td>\n",
       "      <td>2.690925e+06</td>\n",
       "      <td>18.905472</td>\n",
       "      <td>6.878307</td>\n",
       "      <td>31.122450</td>\n",
       "      <td>29.591837</td>\n",
       "      <td>33.168316</td>\n",
       "      <td>23.232323</td>\n",
       "      <td>337.356467</td>\n",
       "      <td>5.989716</td>\n",
       "      <td>9867.0</td>\n",
       "      <td>7176</td>\n",
       "      <td>parliamentary unitary republic</td>\n",
       "    </tr>\n",
       "    <tr>\n",
       "      <th>1</th>\n",
       "      <td>Algeria</td>\n",
       "      <td>2003</td>\n",
       "      <td>5.44399</td>\n",
       "      <td>1.764044e+06</td>\n",
       "      <td>Limited service</td>\n",
       "      <td>8.41781</td>\n",
       "      <td>2.727667e+06</td>\n",
       "      <td>18.905472</td>\n",
       "      <td>5.527638</td>\n",
       "      <td>31.122450</td>\n",
       "      <td>32.142857</td>\n",
       "      <td>31.683168</td>\n",
       "      <td>28.787878</td>\n",
       "      <td>360.341265</td>\n",
       "      <td>5.450697</td>\n",
       "      <td>8041.0</td>\n",
       "      <td>7210</td>\n",
       "      <td>parliamentary unitary republic</td>\n",
       "    </tr>\n",
       "    <tr>\n",
       "      <th>2</th>\n",
       "      <td>Algeria</td>\n",
       "      <td>2004</td>\n",
       "      <td>5.42323</td>\n",
       "      <td>1.780507e+06</td>\n",
       "      <td>Limited service</td>\n",
       "      <td>8.42380</td>\n",
       "      <td>2.765626e+06</td>\n",
       "      <td>23.557692</td>\n",
       "      <td>10.679611</td>\n",
       "      <td>34.482758</td>\n",
       "      <td>30.049261</td>\n",
       "      <td>33.492825</td>\n",
       "      <td>27.804878</td>\n",
       "      <td>383.470642</td>\n",
       "      <td>5.094135</td>\n",
       "      <td>10230.0</td>\n",
       "      <td>6627</td>\n",
       "      <td>parliamentary unitary republic</td>\n",
       "    </tr>\n",
       "    <tr>\n",
       "      <th>3</th>\n",
       "      <td>Algeria</td>\n",
       "      <td>2005</td>\n",
       "      <td>5.40235</td>\n",
       "      <td>1.798358e+06</td>\n",
       "      <td>Limited service</td>\n",
       "      <td>8.42849</td>\n",
       "      <td>2.805711e+06</td>\n",
       "      <td>25.480770</td>\n",
       "      <td>20.388350</td>\n",
       "      <td>39.215687</td>\n",
       "      <td>42.647060</td>\n",
       "      <td>28.229666</td>\n",
       "      <td>40.000000</td>\n",
       "      <td>405.811788</td>\n",
       "      <td>4.736456</td>\n",
       "      <td>5343.0</td>\n",
       "      <td>8883</td>\n",
       "      <td>parliamentary unitary republic</td>\n",
       "    </tr>\n",
       "    <tr>\n",
       "      <th>4</th>\n",
       "      <td>Algeria</td>\n",
       "      <td>2006</td>\n",
       "      <td>5.38126</td>\n",
       "      <td>1.817678e+06</td>\n",
       "      <td>Limited service</td>\n",
       "      <td>8.43183</td>\n",
       "      <td>2.848097e+06</td>\n",
       "      <td>22.596153</td>\n",
       "      <td>15.458938</td>\n",
       "      <td>38.048782</td>\n",
       "      <td>29.411764</td>\n",
       "      <td>27.751196</td>\n",
       "      <td>36.585365</td>\n",
       "      <td>426.181157</td>\n",
       "      <td>4.423569</td>\n",
       "      <td>3615.0</td>\n",
       "      <td>4813</td>\n",
       "      <td>parliamentary unitary republic</td>\n",
       "    </tr>\n",
       "    <tr>\n",
       "      <th>...</th>\n",
       "      <td>...</td>\n",
       "      <td>...</td>\n",
       "      <td>...</td>\n",
       "      <td>...</td>\n",
       "      <td>...</td>\n",
       "      <td>...</td>\n",
       "      <td>...</td>\n",
       "      <td>...</td>\n",
       "      <td>...</td>\n",
       "      <td>...</td>\n",
       "      <td>...</td>\n",
       "      <td>...</td>\n",
       "      <td>...</td>\n",
       "      <td>...</td>\n",
       "      <td>...</td>\n",
       "      <td>...</td>\n",
       "      <td>...</td>\n",
       "      <td>...</td>\n",
       "    </tr>\n",
       "    <tr>\n",
       "      <th>781</th>\n",
       "      <td>Zimbabwe</td>\n",
       "      <td>2013</td>\n",
       "      <td>11.79774</td>\n",
       "      <td>1.776092e+06</td>\n",
       "      <td>Limited service</td>\n",
       "      <td>25.54002</td>\n",
       "      <td>3.844924e+06</td>\n",
       "      <td>9.859155</td>\n",
       "      <td>24.170616</td>\n",
       "      <td>9.478673</td>\n",
       "      <td>2.369668</td>\n",
       "      <td>2.347418</td>\n",
       "      <td>3.317536</td>\n",
       "      <td>34084.404237</td>\n",
       "      <td>2.672027</td>\n",
       "      <td>218.0</td>\n",
       "      <td>707</td>\n",
       "      <td>presidential unitary republic</td>\n",
       "    </tr>\n",
       "    <tr>\n",
       "      <th>782</th>\n",
       "      <td>Zimbabwe</td>\n",
       "      <td>2014</td>\n",
       "      <td>12.15515</td>\n",
       "      <td>1.873313e+06</td>\n",
       "      <td>Limited service</td>\n",
       "      <td>26.13466</td>\n",
       "      <td>4.027789e+06</td>\n",
       "      <td>13.793103</td>\n",
       "      <td>22.380953</td>\n",
       "      <td>11.538462</td>\n",
       "      <td>2.403846</td>\n",
       "      <td>4.807693</td>\n",
       "      <td>4.807693</td>\n",
       "      <td>31468.770832</td>\n",
       "      <td>2.629073</td>\n",
       "      <td>262.0</td>\n",
       "      <td>739</td>\n",
       "      <td>presidential unitary republic</td>\n",
       "    </tr>\n",
       "    <tr>\n",
       "      <th>783</th>\n",
       "      <td>Zimbabwe</td>\n",
       "      <td>2015</td>\n",
       "      <td>12.50813</td>\n",
       "      <td>1.973465e+06</td>\n",
       "      <td>Limited service</td>\n",
       "      <td>26.73518</td>\n",
       "      <td>4.218130e+06</td>\n",
       "      <td>15.763547</td>\n",
       "      <td>24.285715</td>\n",
       "      <td>12.019231</td>\n",
       "      <td>3.365385</td>\n",
       "      <td>6.250000</td>\n",
       "      <td>6.730769</td>\n",
       "      <td>29597.655852</td>\n",
       "      <td>2.772612</td>\n",
       "      <td>259.0</td>\n",
       "      <td>732</td>\n",
       "      <td>presidential unitary republic</td>\n",
       "    </tr>\n",
       "    <tr>\n",
       "      <th>784</th>\n",
       "      <td>Zimbabwe</td>\n",
       "      <td>2016</td>\n",
       "      <td>12.85646</td>\n",
       "      <td>2.076365e+06</td>\n",
       "      <td>Limited service</td>\n",
       "      <td>27.34239</td>\n",
       "      <td>4.415894e+06</td>\n",
       "      <td>14.778325</td>\n",
       "      <td>24.761906</td>\n",
       "      <td>11.057693</td>\n",
       "      <td>3.365385</td>\n",
       "      <td>8.173077</td>\n",
       "      <td>9.615385</td>\n",
       "      <td>27575.735839</td>\n",
       "      <td>2.811039</td>\n",
       "      <td>711.0</td>\n",
       "      <td>1082</td>\n",
       "      <td>presidential unitary republic</td>\n",
       "    </tr>\n",
       "    <tr>\n",
       "      <th>785</th>\n",
       "      <td>Zimbabwe</td>\n",
       "      <td>2017</td>\n",
       "      <td>13.19980</td>\n",
       "      <td>2.181914e+06</td>\n",
       "      <td>Limited service</td>\n",
       "      <td>27.95737</td>\n",
       "      <td>4.621327e+06</td>\n",
       "      <td>14.778325</td>\n",
       "      <td>20.952381</td>\n",
       "      <td>11.057693</td>\n",
       "      <td>3.846154</td>\n",
       "      <td>7.692307</td>\n",
       "      <td>9.615385</td>\n",
       "      <td>25276.925670</td>\n",
       "      <td>2.691925</td>\n",
       "      <td>639.0</td>\n",
       "      <td>1417</td>\n",
       "      <td>presidential unitary republic</td>\n",
       "    </tr>\n",
       "  </tbody>\n",
       "</table>\n",
       "<p>786 rows × 18 columns</p>\n",
       "</div>"
      ],
      "text/plain": [
       "      country  year  water_coverage  water_population    service_level  \\\n",
       "0     Algeria  2002         5.46453      1.748377e+06  Limited service   \n",
       "1     Algeria  2003         5.44399      1.764044e+06  Limited service   \n",
       "2     Algeria  2004         5.42323      1.780507e+06  Limited service   \n",
       "3     Algeria  2005         5.40235      1.798358e+06  Limited service   \n",
       "4     Algeria  2006         5.38126      1.817678e+06  Limited service   \n",
       "..        ...   ...             ...               ...              ...   \n",
       "781  Zimbabwe  2013        11.79774      1.776092e+06  Limited service   \n",
       "782  Zimbabwe  2014        12.15515      1.873313e+06  Limited service   \n",
       "783  Zimbabwe  2015        12.50813      1.973465e+06  Limited service   \n",
       "784  Zimbabwe  2016        12.85646      2.076365e+06  Limited service   \n",
       "785  Zimbabwe  2017        13.19980      2.181914e+06  Limited service   \n",
       "\n",
       "     sanitation_coverage  sanitation_population  voice_and_accountability_  \\\n",
       "0                8.41044           2.690925e+06                  18.905472   \n",
       "1                8.41781           2.727667e+06                  18.905472   \n",
       "2                8.42380           2.765626e+06                  23.557692   \n",
       "3                8.42849           2.805711e+06                  25.480770   \n",
       "4                8.43183           2.848097e+06                  22.596153   \n",
       "..                   ...                    ...                        ...   \n",
       "781             25.54002           3.844924e+06                   9.859155   \n",
       "782             26.13466           4.027789e+06                  13.793103   \n",
       "783             26.73518           4.218130e+06                  15.763547   \n",
       "784             27.34239           4.415894e+06                  14.778325   \n",
       "785             27.95737           4.621327e+06                  14.778325   \n",
       "\n",
       "     political_stability_and_absence_of_violence  government_  \\\n",
       "0                                       6.878307    31.122450   \n",
       "1                                       5.527638    31.122450   \n",
       "2                                      10.679611    34.482758   \n",
       "3                                      20.388350    39.215687   \n",
       "4                                      15.458938    38.048782   \n",
       "..                                           ...          ...   \n",
       "781                                    24.170616     9.478673   \n",
       "782                                    22.380953    11.538462   \n",
       "783                                    24.285715    12.019231   \n",
       "784                                    24.761906    11.057693   \n",
       "785                                    20.952381    11.057693   \n",
       "\n",
       "     regulatory_quality  rule_of_law  control_of_corruption    deaths_vih  \\\n",
       "0             29.591837    33.168316              23.232323    337.356467   \n",
       "1             32.142857    31.683168              28.787878    360.341265   \n",
       "2             30.049261    33.492825              27.804878    383.470642   \n",
       "3             42.647060    28.229666              40.000000    405.811788   \n",
       "4             29.411764    27.751196              36.585365    426.181157   \n",
       "..                  ...          ...                    ...           ...   \n",
       "781            2.369668     2.347418               3.317536  34084.404237   \n",
       "782            2.403846     4.807693               4.807693  31468.770832   \n",
       "783            3.365385     6.250000               6.730769  29597.655852   \n",
       "784            3.365385     8.173077               9.615385  27575.735839   \n",
       "785            3.846154     7.692307               9.615385  25276.925670   \n",
       "\n",
       "     deaths_intestinal  asylum_application  refugees_total  \\\n",
       "0             5.989716              9867.0            7176   \n",
       "1             5.450697              8041.0            7210   \n",
       "2             5.094135             10230.0            6627   \n",
       "3             4.736456              5343.0            8883   \n",
       "4             4.423569              3615.0            4813   \n",
       "..                 ...                 ...             ...   \n",
       "781           2.672027               218.0             707   \n",
       "782           2.629073               262.0             739   \n",
       "783           2.772612               259.0             732   \n",
       "784           2.811039               711.0            1082   \n",
       "785           2.691925               639.0            1417   \n",
       "\n",
       "                 form_of_government  \n",
       "0    parliamentary unitary republic  \n",
       "1    parliamentary unitary republic  \n",
       "2    parliamentary unitary republic  \n",
       "3    parliamentary unitary republic  \n",
       "4    parliamentary unitary republic  \n",
       "..                              ...  \n",
       "781   presidential unitary republic  \n",
       "782   presidential unitary republic  \n",
       "783   presidential unitary republic  \n",
       "784   presidential unitary republic  \n",
       "785   presidential unitary republic  \n",
       "\n",
       "[786 rows x 18 columns]"
      ]
     },
     "execution_count": 35,
     "metadata": {},
     "output_type": "execute_result"
    }
   ],
   "source": [
    "data.head()\n",
    "data.columns = data.columns.str.replace(' ','_')\n",
    "data.columns = data.columns.str.lower()\n",
    "data"
   ]
  },
  {
   "cell_type": "code",
   "execution_count": 36,
   "metadata": {
    "ExecuteTime": {
     "end_time": "2021-08-30T09:04:02.345422Z",
     "start_time": "2021-08-30T09:04:02.131783Z"
    }
   },
   "outputs": [
    {
     "data": {
      "text/plain": [
       "country                                         0\n",
       "year                                            0\n",
       "water_coverage                                  2\n",
       "water_population                                2\n",
       "service_level                                   2\n",
       "sanitation_coverage                             2\n",
       "sanitation_population                           2\n",
       "voice_and_accountability_                       0\n",
       "political_stability_and_absence_of_violence     0\n",
       "government_                                     0\n",
       "regulatory_quality                              0\n",
       "rule_of_law                                     0\n",
       "control_of_corruption                           0\n",
       "deaths_vih                                     24\n",
       "deaths_intestinal                              24\n",
       "asylum_application                             48\n",
       "refugees_total                                  0\n",
       "form_of_government                              0\n",
       "dtype: int64"
      ]
     },
     "execution_count": 36,
     "metadata": {},
     "output_type": "execute_result"
    },
    {
     "data": {
      "text/plain": [
       "country                                        0\n",
       "year                                           0\n",
       "water_coverage                                 0\n",
       "water_population                               0\n",
       "service_level                                  0\n",
       "sanitation_coverage                            0\n",
       "sanitation_population                          0\n",
       "voice_and_accountability_                      0\n",
       "political_stability_and_absence_of_violence    0\n",
       "government_                                    0\n",
       "regulatory_quality                             0\n",
       "rule_of_law                                    0\n",
       "control_of_corruption                          0\n",
       "deaths_vih                                     0\n",
       "deaths_intestinal                              0\n",
       "asylum_application                             0\n",
       "refugees_total                                 0\n",
       "form_of_government                             0\n",
       "dtype: int64"
      ]
     },
     "execution_count": 36,
     "metadata": {},
     "output_type": "execute_result"
    }
   ],
   "source": [
    "data.isna().sum()\n",
    "data1=data.dropna(axis=0)\n",
    "data1.isna().sum()"
   ]
  },
  {
   "cell_type": "code",
   "execution_count": 37,
   "metadata": {
    "ExecuteTime": {
     "end_time": "2021-08-30T09:04:02.365617Z",
     "start_time": "2021-08-30T09:04:02.353565Z"
    }
   },
   "outputs": [],
   "source": [
    "#defining a function to add categorical variables to governance metrics data\n",
    "\n",
    "def cat_gov(row):\n",
    "    if (row>0.0) & (row<25.0):\n",
    "        return 'low'\n",
    "    elif (row>25.0) & (row<50.0):\n",
    "        return 'medium-low'\n",
    "    elif (row>50.0) & (row<75.0):\n",
    "        return 'medium-high'\n",
    "    else:\n",
    "        return 'high'"
   ]
  },
  {
   "cell_type": "code",
   "execution_count": 38,
   "metadata": {
    "ExecuteTime": {
     "end_time": "2021-08-30T09:04:02.419989Z",
     "start_time": "2021-08-30T09:04:02.370164Z"
    }
   },
   "outputs": [
    {
     "name": "stderr",
     "output_type": "stream",
     "text": [
      "<ipython-input-38-a988c4fecdd8>:1: SettingWithCopyWarning: \n",
      "A value is trying to be set on a copy of a slice from a DataFrame.\n",
      "Try using .loc[row_indexer,col_indexer] = value instead\n",
      "\n",
      "See the caveats in the documentation: https://pandas.pydata.org/pandas-docs/stable/user_guide/indexing.html#returning-a-view-versus-a-copy\n",
      "  data1['control_cat'] = data1['control_of_corruption'].apply(cat_gov)\n"
     ]
    },
    {
     "data": {
      "text/html": [
       "<div>\n",
       "<style scoped>\n",
       "    .dataframe tbody tr th:only-of-type {\n",
       "        vertical-align: middle;\n",
       "    }\n",
       "\n",
       "    .dataframe tbody tr th {\n",
       "        vertical-align: top;\n",
       "    }\n",
       "\n",
       "    .dataframe thead th {\n",
       "        text-align: right;\n",
       "    }\n",
       "</style>\n",
       "<table border=\"1\" class=\"dataframe\">\n",
       "  <thead>\n",
       "    <tr style=\"text-align: right;\">\n",
       "      <th></th>\n",
       "      <th>country</th>\n",
       "      <th>year</th>\n",
       "      <th>water_coverage</th>\n",
       "      <th>water_population</th>\n",
       "      <th>service_level</th>\n",
       "      <th>sanitation_coverage</th>\n",
       "      <th>sanitation_population</th>\n",
       "      <th>voice_and_accountability_</th>\n",
       "      <th>political_stability_and_absence_of_violence</th>\n",
       "      <th>government_</th>\n",
       "      <th>regulatory_quality</th>\n",
       "      <th>rule_of_law</th>\n",
       "      <th>control_of_corruption</th>\n",
       "      <th>deaths_vih</th>\n",
       "      <th>deaths_intestinal</th>\n",
       "      <th>asylum_application</th>\n",
       "      <th>refugees_total</th>\n",
       "      <th>form_of_government</th>\n",
       "      <th>control_cat</th>\n",
       "    </tr>\n",
       "  </thead>\n",
       "  <tbody>\n",
       "    <tr>\n",
       "      <th>0</th>\n",
       "      <td>Algeria</td>\n",
       "      <td>2002</td>\n",
       "      <td>5.46453</td>\n",
       "      <td>1.748377e+06</td>\n",
       "      <td>Limited service</td>\n",
       "      <td>8.41044</td>\n",
       "      <td>2.690925e+06</td>\n",
       "      <td>18.905472</td>\n",
       "      <td>6.878307</td>\n",
       "      <td>31.122450</td>\n",
       "      <td>29.591837</td>\n",
       "      <td>33.168316</td>\n",
       "      <td>23.232323</td>\n",
       "      <td>337.356467</td>\n",
       "      <td>5.989716</td>\n",
       "      <td>9867.0</td>\n",
       "      <td>7176</td>\n",
       "      <td>parliamentary unitary republic</td>\n",
       "      <td>low</td>\n",
       "    </tr>\n",
       "    <tr>\n",
       "      <th>1</th>\n",
       "      <td>Algeria</td>\n",
       "      <td>2003</td>\n",
       "      <td>5.44399</td>\n",
       "      <td>1.764044e+06</td>\n",
       "      <td>Limited service</td>\n",
       "      <td>8.41781</td>\n",
       "      <td>2.727667e+06</td>\n",
       "      <td>18.905472</td>\n",
       "      <td>5.527638</td>\n",
       "      <td>31.122450</td>\n",
       "      <td>32.142857</td>\n",
       "      <td>31.683168</td>\n",
       "      <td>28.787878</td>\n",
       "      <td>360.341265</td>\n",
       "      <td>5.450697</td>\n",
       "      <td>8041.0</td>\n",
       "      <td>7210</td>\n",
       "      <td>parliamentary unitary republic</td>\n",
       "      <td>medium-low</td>\n",
       "    </tr>\n",
       "    <tr>\n",
       "      <th>2</th>\n",
       "      <td>Algeria</td>\n",
       "      <td>2004</td>\n",
       "      <td>5.42323</td>\n",
       "      <td>1.780507e+06</td>\n",
       "      <td>Limited service</td>\n",
       "      <td>8.42380</td>\n",
       "      <td>2.765626e+06</td>\n",
       "      <td>23.557692</td>\n",
       "      <td>10.679611</td>\n",
       "      <td>34.482758</td>\n",
       "      <td>30.049261</td>\n",
       "      <td>33.492825</td>\n",
       "      <td>27.804878</td>\n",
       "      <td>383.470642</td>\n",
       "      <td>5.094135</td>\n",
       "      <td>10230.0</td>\n",
       "      <td>6627</td>\n",
       "      <td>parliamentary unitary republic</td>\n",
       "      <td>medium-low</td>\n",
       "    </tr>\n",
       "    <tr>\n",
       "      <th>3</th>\n",
       "      <td>Algeria</td>\n",
       "      <td>2005</td>\n",
       "      <td>5.40235</td>\n",
       "      <td>1.798358e+06</td>\n",
       "      <td>Limited service</td>\n",
       "      <td>8.42849</td>\n",
       "      <td>2.805711e+06</td>\n",
       "      <td>25.480770</td>\n",
       "      <td>20.388350</td>\n",
       "      <td>39.215687</td>\n",
       "      <td>42.647060</td>\n",
       "      <td>28.229666</td>\n",
       "      <td>40.000000</td>\n",
       "      <td>405.811788</td>\n",
       "      <td>4.736456</td>\n",
       "      <td>5343.0</td>\n",
       "      <td>8883</td>\n",
       "      <td>parliamentary unitary republic</td>\n",
       "      <td>medium-low</td>\n",
       "    </tr>\n",
       "    <tr>\n",
       "      <th>4</th>\n",
       "      <td>Algeria</td>\n",
       "      <td>2006</td>\n",
       "      <td>5.38126</td>\n",
       "      <td>1.817678e+06</td>\n",
       "      <td>Limited service</td>\n",
       "      <td>8.43183</td>\n",
       "      <td>2.848097e+06</td>\n",
       "      <td>22.596153</td>\n",
       "      <td>15.458938</td>\n",
       "      <td>38.048782</td>\n",
       "      <td>29.411764</td>\n",
       "      <td>27.751196</td>\n",
       "      <td>36.585365</td>\n",
       "      <td>426.181157</td>\n",
       "      <td>4.423569</td>\n",
       "      <td>3615.0</td>\n",
       "      <td>4813</td>\n",
       "      <td>parliamentary unitary republic</td>\n",
       "      <td>medium-low</td>\n",
       "    </tr>\n",
       "  </tbody>\n",
       "</table>\n",
       "</div>"
      ],
      "text/plain": [
       "   country  year  water_coverage  water_population    service_level  \\\n",
       "0  Algeria  2002         5.46453      1.748377e+06  Limited service   \n",
       "1  Algeria  2003         5.44399      1.764044e+06  Limited service   \n",
       "2  Algeria  2004         5.42323      1.780507e+06  Limited service   \n",
       "3  Algeria  2005         5.40235      1.798358e+06  Limited service   \n",
       "4  Algeria  2006         5.38126      1.817678e+06  Limited service   \n",
       "\n",
       "   sanitation_coverage  sanitation_population  voice_and_accountability_  \\\n",
       "0              8.41044           2.690925e+06                  18.905472   \n",
       "1              8.41781           2.727667e+06                  18.905472   \n",
       "2              8.42380           2.765626e+06                  23.557692   \n",
       "3              8.42849           2.805711e+06                  25.480770   \n",
       "4              8.43183           2.848097e+06                  22.596153   \n",
       "\n",
       "   political_stability_and_absence_of_violence  government_  \\\n",
       "0                                     6.878307    31.122450   \n",
       "1                                     5.527638    31.122450   \n",
       "2                                    10.679611    34.482758   \n",
       "3                                    20.388350    39.215687   \n",
       "4                                    15.458938    38.048782   \n",
       "\n",
       "   regulatory_quality  rule_of_law  control_of_corruption  deaths_vih  \\\n",
       "0           29.591837    33.168316              23.232323  337.356467   \n",
       "1           32.142857    31.683168              28.787878  360.341265   \n",
       "2           30.049261    33.492825              27.804878  383.470642   \n",
       "3           42.647060    28.229666              40.000000  405.811788   \n",
       "4           29.411764    27.751196              36.585365  426.181157   \n",
       "\n",
       "   deaths_intestinal  asylum_application  refugees_total  \\\n",
       "0           5.989716              9867.0            7176   \n",
       "1           5.450697              8041.0            7210   \n",
       "2           5.094135             10230.0            6627   \n",
       "3           4.736456              5343.0            8883   \n",
       "4           4.423569              3615.0            4813   \n",
       "\n",
       "               form_of_government control_cat  \n",
       "0  parliamentary unitary republic         low  \n",
       "1  parliamentary unitary republic  medium-low  \n",
       "2  parliamentary unitary republic  medium-low  \n",
       "3  parliamentary unitary republic  medium-low  \n",
       "4  parliamentary unitary republic  medium-low  "
      ]
     },
     "execution_count": 38,
     "metadata": {},
     "output_type": "execute_result"
    },
    {
     "data": {
      "text/plain": [
       "0           low\n",
       "1    medium-low\n",
       "2    medium-low\n",
       "3    medium-low\n",
       "4    medium-low\n",
       "Name: control_cat, dtype: object"
      ]
     },
     "execution_count": 38,
     "metadata": {},
     "output_type": "execute_result"
    },
    {
     "data": {
      "text/plain": [
       "(721, 19)"
      ]
     },
     "execution_count": 38,
     "metadata": {},
     "output_type": "execute_result"
    }
   ],
   "source": [
    "data1['control_cat'] = data1['control_of_corruption'].apply(cat_gov)\n",
    "\n",
    "data1.head()\n",
    "data1['control_cat'].head()\n",
    "\n",
    "data1.shape"
   ]
  },
  {
   "cell_type": "code",
   "execution_count": 39,
   "metadata": {
    "ExecuteTime": {
     "end_time": "2021-08-30T09:04:02.453668Z",
     "start_time": "2021-08-30T09:04:02.425344Z"
    }
   },
   "outputs": [],
   "source": [
    "data1.to_csv('final_data.csv')"
   ]
  },
  {
   "cell_type": "code",
   "execution_count": 40,
   "metadata": {
    "ExecuteTime": {
     "end_time": "2021-08-30T09:04:02.471862Z",
     "start_time": "2021-08-30T09:04:02.458799Z"
    }
   },
   "outputs": [
    {
     "data": {
      "text/plain": [
       "Index(['ISO3_x', 'Country', 'Residence Type_x', 'Service Type_x', 'Year',\n",
       "       'Coverage_x', 'Population_x', 'Service level', 'ISO3_y',\n",
       "       'Residence Type_y', 'Service Type_y', 'Coverage_y', 'Population_y',\n",
       "       'Voice and Accountability ',\n",
       "       'Political Stability and Absence of Violence', 'Government ',\n",
       "       'Regulatory Quality', 'Rule of Law', 'Control of Corruption',\n",
       "       'location_name_x', 'year_x', 'val_x', 'location_name_y', 'year_y',\n",
       "       'val_y', 'Country of origin', 'applied', 'Total'],\n",
       "      dtype='object')"
      ]
     },
     "execution_count": 40,
     "metadata": {},
     "output_type": "execute_result"
    },
    {
     "data": {
      "text/plain": [
       "Index(['country', 'year', 'water_coverage', 'water_population',\n",
       "       'service_level', 'sanitation_coverage', 'sanitation_population',\n",
       "       'voice_and_accountability_',\n",
       "       'political_stability_and_absence_of_violence', 'government_',\n",
       "       'regulatory_quality', 'rule_of_law', 'control_of_corruption',\n",
       "       'deaths_vih', 'deaths_intestinal', 'asylum_application',\n",
       "       'refugees_total', 'form_of_government', 'control_cat'],\n",
       "      dtype='object')"
      ]
     },
     "execution_count": 40,
     "metadata": {},
     "output_type": "execute_result"
    }
   ],
   "source": [
    "data11.columns\n",
    "data1.columns"
   ]
  },
  {
   "cell_type": "markdown",
   "metadata": {},
   "source": [
    "# Exploratory Data Analysis"
   ]
  },
  {
   "cell_type": "code",
   "execution_count": 41,
   "metadata": {
    "ExecuteTime": {
     "end_time": "2021-08-30T09:04:05.266283Z",
     "start_time": "2021-08-30T09:04:02.476952Z"
    }
   },
   "outputs": [
    {
     "data": {
      "text/html": [
       "<div>\n",
       "<style scoped>\n",
       "    .dataframe tbody tr th:only-of-type {\n",
       "        vertical-align: middle;\n",
       "    }\n",
       "\n",
       "    .dataframe tbody tr th {\n",
       "        vertical-align: top;\n",
       "    }\n",
       "\n",
       "    .dataframe thead th {\n",
       "        text-align: right;\n",
       "    }\n",
       "</style>\n",
       "<table border=\"1\" class=\"dataframe\">\n",
       "  <thead>\n",
       "    <tr style=\"text-align: right;\">\n",
       "      <th></th>\n",
       "      <th>year</th>\n",
       "      <th>water_coverage</th>\n",
       "      <th>water_population</th>\n",
       "      <th>sanitation_coverage</th>\n",
       "      <th>sanitation_population</th>\n",
       "      <th>voice_and_accountability_</th>\n",
       "      <th>political_stability_and_absence_of_violence</th>\n",
       "      <th>government_</th>\n",
       "      <th>regulatory_quality</th>\n",
       "      <th>rule_of_law</th>\n",
       "      <th>control_of_corruption</th>\n",
       "      <th>deaths_vih</th>\n",
       "      <th>deaths_intestinal</th>\n",
       "      <th>asylum_application</th>\n",
       "      <th>refugees_total</th>\n",
       "    </tr>\n",
       "  </thead>\n",
       "  <tbody>\n",
       "    <tr>\n",
       "      <th>year</th>\n",
       "      <td>1.000000</td>\n",
       "      <td>0.136499</td>\n",
       "      <td>0.122937</td>\n",
       "      <td>0.109487</td>\n",
       "      <td>0.073698</td>\n",
       "      <td>0.048430</td>\n",
       "      <td>-0.064901</td>\n",
       "      <td>-0.065301</td>\n",
       "      <td>-0.021713</td>\n",
       "      <td>0.009230</td>\n",
       "      <td>-0.008522</td>\n",
       "      <td>-0.133235</td>\n",
       "      <td>-0.072806</td>\n",
       "      <td>0.193667</td>\n",
       "      <td>0.179906</td>\n",
       "    </tr>\n",
       "    <tr>\n",
       "      <th>water_coverage</th>\n",
       "      <td>0.136499</td>\n",
       "      <td>1.000000</td>\n",
       "      <td>0.480232</td>\n",
       "      <td>-0.035015</td>\n",
       "      <td>-0.029915</td>\n",
       "      <td>-0.266085</td>\n",
       "      <td>-0.302578</td>\n",
       "      <td>-0.158647</td>\n",
       "      <td>-0.133385</td>\n",
       "      <td>-0.173228</td>\n",
       "      <td>-0.144337</td>\n",
       "      <td>-0.034900</td>\n",
       "      <td>0.004920</td>\n",
       "      <td>0.080865</td>\n",
       "      <td>0.239160</td>\n",
       "    </tr>\n",
       "    <tr>\n",
       "      <th>water_population</th>\n",
       "      <td>0.122937</td>\n",
       "      <td>0.480232</td>\n",
       "      <td>1.000000</td>\n",
       "      <td>-0.002893</td>\n",
       "      <td>0.592043</td>\n",
       "      <td>-0.140021</td>\n",
       "      <td>-0.394666</td>\n",
       "      <td>-0.026820</td>\n",
       "      <td>-0.074830</td>\n",
       "      <td>-0.086882</td>\n",
       "      <td>-0.170183</td>\n",
       "      <td>0.316060</td>\n",
       "      <td>0.547191</td>\n",
       "      <td>0.285203</td>\n",
       "      <td>0.231393</td>\n",
       "    </tr>\n",
       "    <tr>\n",
       "      <th>sanitation_coverage</th>\n",
       "      <td>0.109487</td>\n",
       "      <td>-0.035015</td>\n",
       "      <td>-0.002893</td>\n",
       "      <td>1.000000</td>\n",
       "      <td>0.340775</td>\n",
       "      <td>0.193467</td>\n",
       "      <td>0.083773</td>\n",
       "      <td>-0.023470</td>\n",
       "      <td>0.080145</td>\n",
       "      <td>0.012765</td>\n",
       "      <td>-0.048324</td>\n",
       "      <td>0.057910</td>\n",
       "      <td>0.089516</td>\n",
       "      <td>0.114676</td>\n",
       "      <td>0.073002</td>\n",
       "    </tr>\n",
       "    <tr>\n",
       "      <th>sanitation_population</th>\n",
       "      <td>0.073698</td>\n",
       "      <td>-0.029915</td>\n",
       "      <td>0.592043</td>\n",
       "      <td>0.340775</td>\n",
       "      <td>1.000000</td>\n",
       "      <td>0.105755</td>\n",
       "      <td>-0.254880</td>\n",
       "      <td>0.021818</td>\n",
       "      <td>0.051889</td>\n",
       "      <td>-0.047236</td>\n",
       "      <td>-0.104527</td>\n",
       "      <td>0.436876</td>\n",
       "      <td>0.817468</td>\n",
       "      <td>0.468950</td>\n",
       "      <td>0.241333</td>\n",
       "    </tr>\n",
       "    <tr>\n",
       "      <th>voice_and_accountability_</th>\n",
       "      <td>0.048430</td>\n",
       "      <td>-0.266085</td>\n",
       "      <td>-0.140021</td>\n",
       "      <td>0.193467</td>\n",
       "      <td>0.105755</td>\n",
       "      <td>1.000000</td>\n",
       "      <td>0.525806</td>\n",
       "      <td>0.622140</td>\n",
       "      <td>0.682530</td>\n",
       "      <td>0.706112</td>\n",
       "      <td>0.632561</td>\n",
       "      <td>0.284638</td>\n",
       "      <td>-0.014635</td>\n",
       "      <td>-0.205511</td>\n",
       "      <td>-0.296992</td>\n",
       "    </tr>\n",
       "    <tr>\n",
       "      <th>political_stability_and_absence_of_violence</th>\n",
       "      <td>-0.064901</td>\n",
       "      <td>-0.302578</td>\n",
       "      <td>-0.394666</td>\n",
       "      <td>0.083773</td>\n",
       "      <td>-0.254880</td>\n",
       "      <td>0.525806</td>\n",
       "      <td>1.000000</td>\n",
       "      <td>0.531072</td>\n",
       "      <td>0.551515</td>\n",
       "      <td>0.639415</td>\n",
       "      <td>0.587551</td>\n",
       "      <td>-0.054518</td>\n",
       "      <td>-0.255897</td>\n",
       "      <td>-0.343138</td>\n",
       "      <td>-0.345315</td>\n",
       "    </tr>\n",
       "    <tr>\n",
       "      <th>government_</th>\n",
       "      <td>-0.065301</td>\n",
       "      <td>-0.158647</td>\n",
       "      <td>-0.026820</td>\n",
       "      <td>-0.023470</td>\n",
       "      <td>0.021818</td>\n",
       "      <td>0.622140</td>\n",
       "      <td>0.531072</td>\n",
       "      <td>1.000000</td>\n",
       "      <td>0.883107</td>\n",
       "      <td>0.900880</td>\n",
       "      <td>0.840520</td>\n",
       "      <td>0.287347</td>\n",
       "      <td>-0.109390</td>\n",
       "      <td>-0.225123</td>\n",
       "      <td>-0.289588</td>\n",
       "    </tr>\n",
       "    <tr>\n",
       "      <th>regulatory_quality</th>\n",
       "      <td>-0.021713</td>\n",
       "      <td>-0.133385</td>\n",
       "      <td>-0.074830</td>\n",
       "      <td>0.080145</td>\n",
       "      <td>0.051889</td>\n",
       "      <td>0.682530</td>\n",
       "      <td>0.551515</td>\n",
       "      <td>0.883107</td>\n",
       "      <td>1.000000</td>\n",
       "      <td>0.878415</td>\n",
       "      <td>0.770925</td>\n",
       "      <td>0.288273</td>\n",
       "      <td>-0.093667</td>\n",
       "      <td>-0.254206</td>\n",
       "      <td>-0.329512</td>\n",
       "    </tr>\n",
       "    <tr>\n",
       "      <th>rule_of_law</th>\n",
       "      <td>0.009230</td>\n",
       "      <td>-0.173228</td>\n",
       "      <td>-0.086882</td>\n",
       "      <td>0.012765</td>\n",
       "      <td>-0.047236</td>\n",
       "      <td>0.706112</td>\n",
       "      <td>0.639415</td>\n",
       "      <td>0.900880</td>\n",
       "      <td>0.878415</td>\n",
       "      <td>1.000000</td>\n",
       "      <td>0.868757</td>\n",
       "      <td>0.149960</td>\n",
       "      <td>-0.150064</td>\n",
       "      <td>-0.267785</td>\n",
       "      <td>-0.325563</td>\n",
       "    </tr>\n",
       "    <tr>\n",
       "      <th>control_of_corruption</th>\n",
       "      <td>-0.008522</td>\n",
       "      <td>-0.144337</td>\n",
       "      <td>-0.170183</td>\n",
       "      <td>-0.048324</td>\n",
       "      <td>-0.104527</td>\n",
       "      <td>0.632561</td>\n",
       "      <td>0.587551</td>\n",
       "      <td>0.840520</td>\n",
       "      <td>0.770925</td>\n",
       "      <td>0.868757</td>\n",
       "      <td>1.000000</td>\n",
       "      <td>0.108171</td>\n",
       "      <td>-0.162686</td>\n",
       "      <td>-0.218450</td>\n",
       "      <td>-0.262254</td>\n",
       "    </tr>\n",
       "    <tr>\n",
       "      <th>deaths_vih</th>\n",
       "      <td>-0.133235</td>\n",
       "      <td>-0.034900</td>\n",
       "      <td>0.316060</td>\n",
       "      <td>0.057910</td>\n",
       "      <td>0.436876</td>\n",
       "      <td>0.284638</td>\n",
       "      <td>-0.054518</td>\n",
       "      <td>0.287347</td>\n",
       "      <td>0.288273</td>\n",
       "      <td>0.149960</td>\n",
       "      <td>0.108171</td>\n",
       "      <td>1.000000</td>\n",
       "      <td>0.291658</td>\n",
       "      <td>-0.000539</td>\n",
       "      <td>-0.048715</td>\n",
       "    </tr>\n",
       "    <tr>\n",
       "      <th>deaths_intestinal</th>\n",
       "      <td>-0.072806</td>\n",
       "      <td>0.004920</td>\n",
       "      <td>0.547191</td>\n",
       "      <td>0.089516</td>\n",
       "      <td>0.817468</td>\n",
       "      <td>-0.014635</td>\n",
       "      <td>-0.255897</td>\n",
       "      <td>-0.109390</td>\n",
       "      <td>-0.093667</td>\n",
       "      <td>-0.150064</td>\n",
       "      <td>-0.162686</td>\n",
       "      <td>0.291658</td>\n",
       "      <td>1.000000</td>\n",
       "      <td>0.381312</td>\n",
       "      <td>0.172459</td>\n",
       "    </tr>\n",
       "    <tr>\n",
       "      <th>asylum_application</th>\n",
       "      <td>0.193667</td>\n",
       "      <td>0.080865</td>\n",
       "      <td>0.285203</td>\n",
       "      <td>0.114676</td>\n",
       "      <td>0.468950</td>\n",
       "      <td>-0.205511</td>\n",
       "      <td>-0.343138</td>\n",
       "      <td>-0.225123</td>\n",
       "      <td>-0.254206</td>\n",
       "      <td>-0.267785</td>\n",
       "      <td>-0.218450</td>\n",
       "      <td>-0.000539</td>\n",
       "      <td>0.381312</td>\n",
       "      <td>1.000000</td>\n",
       "      <td>0.835552</td>\n",
       "    </tr>\n",
       "    <tr>\n",
       "      <th>refugees_total</th>\n",
       "      <td>0.179906</td>\n",
       "      <td>0.239160</td>\n",
       "      <td>0.231393</td>\n",
       "      <td>0.073002</td>\n",
       "      <td>0.241333</td>\n",
       "      <td>-0.296992</td>\n",
       "      <td>-0.345315</td>\n",
       "      <td>-0.289588</td>\n",
       "      <td>-0.329512</td>\n",
       "      <td>-0.325563</td>\n",
       "      <td>-0.262254</td>\n",
       "      <td>-0.048715</td>\n",
       "      <td>0.172459</td>\n",
       "      <td>0.835552</td>\n",
       "      <td>1.000000</td>\n",
       "    </tr>\n",
       "  </tbody>\n",
       "</table>\n",
       "</div>"
      ],
      "text/plain": [
       "                                                 year  water_coverage  \\\n",
       "year                                         1.000000        0.136499   \n",
       "water_coverage                               0.136499        1.000000   \n",
       "water_population                             0.122937        0.480232   \n",
       "sanitation_coverage                          0.109487       -0.035015   \n",
       "sanitation_population                        0.073698       -0.029915   \n",
       "voice_and_accountability_                    0.048430       -0.266085   \n",
       "political_stability_and_absence_of_violence -0.064901       -0.302578   \n",
       "government_                                 -0.065301       -0.158647   \n",
       "regulatory_quality                          -0.021713       -0.133385   \n",
       "rule_of_law                                  0.009230       -0.173228   \n",
       "control_of_corruption                       -0.008522       -0.144337   \n",
       "deaths_vih                                  -0.133235       -0.034900   \n",
       "deaths_intestinal                           -0.072806        0.004920   \n",
       "asylum_application                           0.193667        0.080865   \n",
       "refugees_total                               0.179906        0.239160   \n",
       "\n",
       "                                             water_population  \\\n",
       "year                                                 0.122937   \n",
       "water_coverage                                       0.480232   \n",
       "water_population                                     1.000000   \n",
       "sanitation_coverage                                 -0.002893   \n",
       "sanitation_population                                0.592043   \n",
       "voice_and_accountability_                           -0.140021   \n",
       "political_stability_and_absence_of_violence         -0.394666   \n",
       "government_                                         -0.026820   \n",
       "regulatory_quality                                  -0.074830   \n",
       "rule_of_law                                         -0.086882   \n",
       "control_of_corruption                               -0.170183   \n",
       "deaths_vih                                           0.316060   \n",
       "deaths_intestinal                                    0.547191   \n",
       "asylum_application                                   0.285203   \n",
       "refugees_total                                       0.231393   \n",
       "\n",
       "                                             sanitation_coverage  \\\n",
       "year                                                    0.109487   \n",
       "water_coverage                                         -0.035015   \n",
       "water_population                                       -0.002893   \n",
       "sanitation_coverage                                     1.000000   \n",
       "sanitation_population                                   0.340775   \n",
       "voice_and_accountability_                               0.193467   \n",
       "political_stability_and_absence_of_violence             0.083773   \n",
       "government_                                            -0.023470   \n",
       "regulatory_quality                                      0.080145   \n",
       "rule_of_law                                             0.012765   \n",
       "control_of_corruption                                  -0.048324   \n",
       "deaths_vih                                              0.057910   \n",
       "deaths_intestinal                                       0.089516   \n",
       "asylum_application                                      0.114676   \n",
       "refugees_total                                          0.073002   \n",
       "\n",
       "                                             sanitation_population  \\\n",
       "year                                                      0.073698   \n",
       "water_coverage                                           -0.029915   \n",
       "water_population                                          0.592043   \n",
       "sanitation_coverage                                       0.340775   \n",
       "sanitation_population                                     1.000000   \n",
       "voice_and_accountability_                                 0.105755   \n",
       "political_stability_and_absence_of_violence              -0.254880   \n",
       "government_                                               0.021818   \n",
       "regulatory_quality                                        0.051889   \n",
       "rule_of_law                                              -0.047236   \n",
       "control_of_corruption                                    -0.104527   \n",
       "deaths_vih                                                0.436876   \n",
       "deaths_intestinal                                         0.817468   \n",
       "asylum_application                                        0.468950   \n",
       "refugees_total                                            0.241333   \n",
       "\n",
       "                                             voice_and_accountability_  \\\n",
       "year                                                          0.048430   \n",
       "water_coverage                                               -0.266085   \n",
       "water_population                                             -0.140021   \n",
       "sanitation_coverage                                           0.193467   \n",
       "sanitation_population                                         0.105755   \n",
       "voice_and_accountability_                                     1.000000   \n",
       "political_stability_and_absence_of_violence                   0.525806   \n",
       "government_                                                   0.622140   \n",
       "regulatory_quality                                            0.682530   \n",
       "rule_of_law                                                   0.706112   \n",
       "control_of_corruption                                         0.632561   \n",
       "deaths_vih                                                    0.284638   \n",
       "deaths_intestinal                                            -0.014635   \n",
       "asylum_application                                           -0.205511   \n",
       "refugees_total                                               -0.296992   \n",
       "\n",
       "                                             political_stability_and_absence_of_violence  \\\n",
       "year                                                                           -0.064901   \n",
       "water_coverage                                                                 -0.302578   \n",
       "water_population                                                               -0.394666   \n",
       "sanitation_coverage                                                             0.083773   \n",
       "sanitation_population                                                          -0.254880   \n",
       "voice_and_accountability_                                                       0.525806   \n",
       "political_stability_and_absence_of_violence                                     1.000000   \n",
       "government_                                                                     0.531072   \n",
       "regulatory_quality                                                              0.551515   \n",
       "rule_of_law                                                                     0.639415   \n",
       "control_of_corruption                                                           0.587551   \n",
       "deaths_vih                                                                     -0.054518   \n",
       "deaths_intestinal                                                              -0.255897   \n",
       "asylum_application                                                             -0.343138   \n",
       "refugees_total                                                                 -0.345315   \n",
       "\n",
       "                                             government_  regulatory_quality  \\\n",
       "year                                           -0.065301           -0.021713   \n",
       "water_coverage                                 -0.158647           -0.133385   \n",
       "water_population                               -0.026820           -0.074830   \n",
       "sanitation_coverage                            -0.023470            0.080145   \n",
       "sanitation_population                           0.021818            0.051889   \n",
       "voice_and_accountability_                       0.622140            0.682530   \n",
       "political_stability_and_absence_of_violence     0.531072            0.551515   \n",
       "government_                                     1.000000            0.883107   \n",
       "regulatory_quality                              0.883107            1.000000   \n",
       "rule_of_law                                     0.900880            0.878415   \n",
       "control_of_corruption                           0.840520            0.770925   \n",
       "deaths_vih                                      0.287347            0.288273   \n",
       "deaths_intestinal                              -0.109390           -0.093667   \n",
       "asylum_application                             -0.225123           -0.254206   \n",
       "refugees_total                                 -0.289588           -0.329512   \n",
       "\n",
       "                                             rule_of_law  \\\n",
       "year                                            0.009230   \n",
       "water_coverage                                 -0.173228   \n",
       "water_population                               -0.086882   \n",
       "sanitation_coverage                             0.012765   \n",
       "sanitation_population                          -0.047236   \n",
       "voice_and_accountability_                       0.706112   \n",
       "political_stability_and_absence_of_violence     0.639415   \n",
       "government_                                     0.900880   \n",
       "regulatory_quality                              0.878415   \n",
       "rule_of_law                                     1.000000   \n",
       "control_of_corruption                           0.868757   \n",
       "deaths_vih                                      0.149960   \n",
       "deaths_intestinal                              -0.150064   \n",
       "asylum_application                             -0.267785   \n",
       "refugees_total                                 -0.325563   \n",
       "\n",
       "                                             control_of_corruption  \\\n",
       "year                                                     -0.008522   \n",
       "water_coverage                                           -0.144337   \n",
       "water_population                                         -0.170183   \n",
       "sanitation_coverage                                      -0.048324   \n",
       "sanitation_population                                    -0.104527   \n",
       "voice_and_accountability_                                 0.632561   \n",
       "political_stability_and_absence_of_violence               0.587551   \n",
       "government_                                               0.840520   \n",
       "regulatory_quality                                        0.770925   \n",
       "rule_of_law                                               0.868757   \n",
       "control_of_corruption                                     1.000000   \n",
       "deaths_vih                                                0.108171   \n",
       "deaths_intestinal                                        -0.162686   \n",
       "asylum_application                                       -0.218450   \n",
       "refugees_total                                           -0.262254   \n",
       "\n",
       "                                             deaths_vih  deaths_intestinal  \\\n",
       "year                                          -0.133235          -0.072806   \n",
       "water_coverage                                -0.034900           0.004920   \n",
       "water_population                               0.316060           0.547191   \n",
       "sanitation_coverage                            0.057910           0.089516   \n",
       "sanitation_population                          0.436876           0.817468   \n",
       "voice_and_accountability_                      0.284638          -0.014635   \n",
       "political_stability_and_absence_of_violence   -0.054518          -0.255897   \n",
       "government_                                    0.287347          -0.109390   \n",
       "regulatory_quality                             0.288273          -0.093667   \n",
       "rule_of_law                                    0.149960          -0.150064   \n",
       "control_of_corruption                          0.108171          -0.162686   \n",
       "deaths_vih                                     1.000000           0.291658   \n",
       "deaths_intestinal                              0.291658           1.000000   \n",
       "asylum_application                            -0.000539           0.381312   \n",
       "refugees_total                                -0.048715           0.172459   \n",
       "\n",
       "                                             asylum_application  \\\n",
       "year                                                   0.193667   \n",
       "water_coverage                                         0.080865   \n",
       "water_population                                       0.285203   \n",
       "sanitation_coverage                                    0.114676   \n",
       "sanitation_population                                  0.468950   \n",
       "voice_and_accountability_                             -0.205511   \n",
       "political_stability_and_absence_of_violence           -0.343138   \n",
       "government_                                           -0.225123   \n",
       "regulatory_quality                                    -0.254206   \n",
       "rule_of_law                                           -0.267785   \n",
       "control_of_corruption                                 -0.218450   \n",
       "deaths_vih                                            -0.000539   \n",
       "deaths_intestinal                                      0.381312   \n",
       "asylum_application                                     1.000000   \n",
       "refugees_total                                         0.835552   \n",
       "\n",
       "                                             refugees_total  \n",
       "year                                               0.179906  \n",
       "water_coverage                                     0.239160  \n",
       "water_population                                   0.231393  \n",
       "sanitation_coverage                                0.073002  \n",
       "sanitation_population                              0.241333  \n",
       "voice_and_accountability_                         -0.296992  \n",
       "political_stability_and_absence_of_violence       -0.345315  \n",
       "government_                                       -0.289588  \n",
       "regulatory_quality                                -0.329512  \n",
       "rule_of_law                                       -0.325563  \n",
       "control_of_corruption                             -0.262254  \n",
       "deaths_vih                                        -0.048715  \n",
       "deaths_intestinal                                  0.172459  \n",
       "asylum_application                                 0.835552  \n",
       "refugees_total                                     1.000000  "
      ]
     },
     "execution_count": 41,
     "metadata": {},
     "output_type": "execute_result"
    },
    {
     "data": {
      "image/png": "[encoded data removed]",
      "text/plain": [
       "<Figure size 720x576 with 2 Axes>"
      ]
     },
     "metadata": {
      "needs_background": "light"
     },
     "output_type": "display_data"
    }
   ],
   "source": [
    "import matplotlib.pyplot as plt\n",
    "import seaborn as sns\n",
    "corr_matrix=data1.corr(method='pearson')\n",
    "corr_matrix\n",
    "\n",
    "fig, ax = plt.subplots(figsize=(10, 8))\n",
    "ax = sns.heatmap(corr_matrix, annot=True)\n",
    "plt.show()"
   ]
  },
  {
   "cell_type": "code",
   "execution_count": 42,
   "metadata": {
    "ExecuteTime": {
     "end_time": "2021-08-30T09:04:05.305364Z",
     "start_time": "2021-08-30T09:04:05.268497Z"
    }
   },
   "outputs": [
    {
     "data": {
      "text/html": [
       "<div>\n",
       "<style scoped>\n",
       "    .dataframe tbody tr th:only-of-type {\n",
       "        vertical-align: middle;\n",
       "    }\n",
       "\n",
       "    .dataframe tbody tr th {\n",
       "        vertical-align: top;\n",
       "    }\n",
       "\n",
       "    .dataframe thead th {\n",
       "        text-align: right;\n",
       "    }\n",
       "</style>\n",
       "<table border=\"1\" class=\"dataframe\">\n",
       "  <thead>\n",
       "    <tr style=\"text-align: right;\">\n",
       "      <th></th>\n",
       "      <th>water_coverage</th>\n",
       "      <th>water_population</th>\n",
       "      <th>service_level</th>\n",
       "      <th>sanitation_coverage</th>\n",
       "      <th>sanitation_population</th>\n",
       "      <th>voice_and_accountability_</th>\n",
       "      <th>political_stability_and_absence_of_violence</th>\n",
       "      <th>government_</th>\n",
       "      <th>regulatory_quality</th>\n",
       "      <th>rule_of_law</th>\n",
       "      <th>control_of_corruption</th>\n",
       "      <th>deaths_vih</th>\n",
       "      <th>deaths_intestinal</th>\n",
       "      <th>asylum_application</th>\n",
       "      <th>form_of_government</th>\n",
       "      <th>control_cat</th>\n",
       "    </tr>\n",
       "  </thead>\n",
       "  <tbody>\n",
       "    <tr>\n",
       "      <th>0</th>\n",
       "      <td>5.46453</td>\n",
       "      <td>1.748377e+06</td>\n",
       "      <td>Limited service</td>\n",
       "      <td>8.41044</td>\n",
       "      <td>2.690925e+06</td>\n",
       "      <td>18.905472</td>\n",
       "      <td>6.878307</td>\n",
       "      <td>31.122450</td>\n",
       "      <td>29.591837</td>\n",
       "      <td>33.168316</td>\n",
       "      <td>23.232323</td>\n",
       "      <td>337.356467</td>\n",
       "      <td>5.989716</td>\n",
       "      <td>9867.0</td>\n",
       "      <td>parliamentary unitary republic</td>\n",
       "      <td>low</td>\n",
       "    </tr>\n",
       "    <tr>\n",
       "      <th>1</th>\n",
       "      <td>5.44399</td>\n",
       "      <td>1.764044e+06</td>\n",
       "      <td>Limited service</td>\n",
       "      <td>8.41781</td>\n",
       "      <td>2.727667e+06</td>\n",
       "      <td>18.905472</td>\n",
       "      <td>5.527638</td>\n",
       "      <td>31.122450</td>\n",
       "      <td>32.142857</td>\n",
       "      <td>31.683168</td>\n",
       "      <td>28.787878</td>\n",
       "      <td>360.341265</td>\n",
       "      <td>5.450697</td>\n",
       "      <td>8041.0</td>\n",
       "      <td>parliamentary unitary republic</td>\n",
       "      <td>medium-low</td>\n",
       "    </tr>\n",
       "    <tr>\n",
       "      <th>2</th>\n",
       "      <td>5.42323</td>\n",
       "      <td>1.780507e+06</td>\n",
       "      <td>Limited service</td>\n",
       "      <td>8.42380</td>\n",
       "      <td>2.765626e+06</td>\n",
       "      <td>23.557692</td>\n",
       "      <td>10.679611</td>\n",
       "      <td>34.482758</td>\n",
       "      <td>30.049261</td>\n",
       "      <td>33.492825</td>\n",
       "      <td>27.804878</td>\n",
       "      <td>383.470642</td>\n",
       "      <td>5.094135</td>\n",
       "      <td>10230.0</td>\n",
       "      <td>parliamentary unitary republic</td>\n",
       "      <td>medium-low</td>\n",
       "    </tr>\n",
       "    <tr>\n",
       "      <th>3</th>\n",
       "      <td>5.40235</td>\n",
       "      <td>1.798358e+06</td>\n",
       "      <td>Limited service</td>\n",
       "      <td>8.42849</td>\n",
       "      <td>2.805711e+06</td>\n",
       "      <td>25.480770</td>\n",
       "      <td>20.388350</td>\n",
       "      <td>39.215687</td>\n",
       "      <td>42.647060</td>\n",
       "      <td>28.229666</td>\n",
       "      <td>40.000000</td>\n",
       "      <td>405.811788</td>\n",
       "      <td>4.736456</td>\n",
       "      <td>5343.0</td>\n",
       "      <td>parliamentary unitary republic</td>\n",
       "      <td>medium-low</td>\n",
       "    </tr>\n",
       "    <tr>\n",
       "      <th>4</th>\n",
       "      <td>5.38126</td>\n",
       "      <td>1.817678e+06</td>\n",
       "      <td>Limited service</td>\n",
       "      <td>8.43183</td>\n",
       "      <td>2.848097e+06</td>\n",
       "      <td>22.596153</td>\n",
       "      <td>15.458938</td>\n",
       "      <td>38.048782</td>\n",
       "      <td>29.411764</td>\n",
       "      <td>27.751196</td>\n",
       "      <td>36.585365</td>\n",
       "      <td>426.181157</td>\n",
       "      <td>4.423569</td>\n",
       "      <td>3615.0</td>\n",
       "      <td>parliamentary unitary republic</td>\n",
       "      <td>medium-low</td>\n",
       "    </tr>\n",
       "  </tbody>\n",
       "</table>\n",
       "</div>"
      ],
      "text/plain": [
       "   water_coverage  water_population    service_level  sanitation_coverage  \\\n",
       "0         5.46453      1.748377e+06  Limited service              8.41044   \n",
       "1         5.44399      1.764044e+06  Limited service              8.41781   \n",
       "2         5.42323      1.780507e+06  Limited service              8.42380   \n",
       "3         5.40235      1.798358e+06  Limited service              8.42849   \n",
       "4         5.38126      1.817678e+06  Limited service              8.43183   \n",
       "\n",
       "   sanitation_population  voice_and_accountability_  \\\n",
       "0           2.690925e+06                  18.905472   \n",
       "1           2.727667e+06                  18.905472   \n",
       "2           2.765626e+06                  23.557692   \n",
       "3           2.805711e+06                  25.480770   \n",
       "4           2.848097e+06                  22.596153   \n",
       "\n",
       "   political_stability_and_absence_of_violence  government_  \\\n",
       "0                                     6.878307    31.122450   \n",
       "1                                     5.527638    31.122450   \n",
       "2                                    10.679611    34.482758   \n",
       "3                                    20.388350    39.215687   \n",
       "4                                    15.458938    38.048782   \n",
       "\n",
       "   regulatory_quality  rule_of_law  control_of_corruption  deaths_vih  \\\n",
       "0           29.591837    33.168316              23.232323  337.356467   \n",
       "1           32.142857    31.683168              28.787878  360.341265   \n",
       "2           30.049261    33.492825              27.804878  383.470642   \n",
       "3           42.647060    28.229666              40.000000  405.811788   \n",
       "4           29.411764    27.751196              36.585365  426.181157   \n",
       "\n",
       "   deaths_intestinal  asylum_application              form_of_government  \\\n",
       "0           5.989716              9867.0  parliamentary unitary republic   \n",
       "1           5.450697              8041.0  parliamentary unitary republic   \n",
       "2           5.094135             10230.0  parliamentary unitary republic   \n",
       "3           4.736456              5343.0  parliamentary unitary republic   \n",
       "4           4.423569              3615.0  parliamentary unitary republic   \n",
       "\n",
       "  control_cat  \n",
       "0         low  \n",
       "1  medium-low  \n",
       "2  medium-low  \n",
       "3  medium-low  \n",
       "4  medium-low  "
      ]
     },
     "execution_count": 42,
     "metadata": {},
     "output_type": "execute_result"
    },
    {
     "data": {
      "text/plain": [
       "0    7176\n",
       "1    7210\n",
       "2    6627\n",
       "3    8883\n",
       "4    4813\n",
       "Name: refugees_total, dtype: int64"
      ]
     },
     "execution_count": 42,
     "metadata": {},
     "output_type": "execute_result"
    }
   ],
   "source": [
    "data = data1.drop(['year','country'],axis=1)\n",
    "\n",
    "X = data.drop(['refugees_total'],axis=1)\n",
    "y = data['refugees_total']\n",
    "\n",
    "X.head(5)\n",
    "y.head(5)"
   ]
  },
  {
   "cell_type": "code",
   "execution_count": 43,
   "metadata": {
    "ExecuteTime": {
     "end_time": "2021-08-30T09:04:05.358342Z",
     "start_time": "2021-08-30T09:04:05.308932Z"
    }
   },
   "outputs": [
    {
     "data": {
      "text/html": [
       "<div>\n",
       "<style scoped>\n",
       "    .dataframe tbody tr th:only-of-type {\n",
       "        vertical-align: middle;\n",
       "    }\n",
       "\n",
       "    .dataframe tbody tr th {\n",
       "        vertical-align: top;\n",
       "    }\n",
       "\n",
       "    .dataframe thead th {\n",
       "        text-align: right;\n",
       "    }\n",
       "</style>\n",
       "<table border=\"1\" class=\"dataframe\">\n",
       "  <thead>\n",
       "    <tr style=\"text-align: right;\">\n",
       "      <th></th>\n",
       "      <th>water_coverage</th>\n",
       "      <th>water_population</th>\n",
       "      <th>sanitation_coverage</th>\n",
       "      <th>sanitation_population</th>\n",
       "      <th>voice_and_accountability_</th>\n",
       "      <th>political_stability_and_absence_of_violence</th>\n",
       "      <th>government_</th>\n",
       "      <th>regulatory_quality</th>\n",
       "      <th>rule_of_law</th>\n",
       "      <th>control_of_corruption</th>\n",
       "      <th>deaths_vih</th>\n",
       "      <th>deaths_intestinal</th>\n",
       "      <th>asylum_application</th>\n",
       "    </tr>\n",
       "  </thead>\n",
       "  <tbody>\n",
       "    <tr>\n",
       "      <th>0</th>\n",
       "      <td>5.46453</td>\n",
       "      <td>1.748377e+06</td>\n",
       "      <td>8.41044</td>\n",
       "      <td>2.690925e+06</td>\n",
       "      <td>18.905472</td>\n",
       "      <td>6.878307</td>\n",
       "      <td>31.122450</td>\n",
       "      <td>29.591837</td>\n",
       "      <td>33.168316</td>\n",
       "      <td>23.232323</td>\n",
       "      <td>337.356467</td>\n",
       "      <td>5.989716</td>\n",
       "      <td>9867.0</td>\n",
       "    </tr>\n",
       "    <tr>\n",
       "      <th>1</th>\n",
       "      <td>5.44399</td>\n",
       "      <td>1.764044e+06</td>\n",
       "      <td>8.41781</td>\n",
       "      <td>2.727667e+06</td>\n",
       "      <td>18.905472</td>\n",
       "      <td>5.527638</td>\n",
       "      <td>31.122450</td>\n",
       "      <td>32.142857</td>\n",
       "      <td>31.683168</td>\n",
       "      <td>28.787878</td>\n",
       "      <td>360.341265</td>\n",
       "      <td>5.450697</td>\n",
       "      <td>8041.0</td>\n",
       "    </tr>\n",
       "    <tr>\n",
       "      <th>2</th>\n",
       "      <td>5.42323</td>\n",
       "      <td>1.780507e+06</td>\n",
       "      <td>8.42380</td>\n",
       "      <td>2.765626e+06</td>\n",
       "      <td>23.557692</td>\n",
       "      <td>10.679611</td>\n",
       "      <td>34.482758</td>\n",
       "      <td>30.049261</td>\n",
       "      <td>33.492825</td>\n",
       "      <td>27.804878</td>\n",
       "      <td>383.470642</td>\n",
       "      <td>5.094135</td>\n",
       "      <td>10230.0</td>\n",
       "    </tr>\n",
       "    <tr>\n",
       "      <th>3</th>\n",
       "      <td>5.40235</td>\n",
       "      <td>1.798358e+06</td>\n",
       "      <td>8.42849</td>\n",
       "      <td>2.805711e+06</td>\n",
       "      <td>25.480770</td>\n",
       "      <td>20.388350</td>\n",
       "      <td>39.215687</td>\n",
       "      <td>42.647060</td>\n",
       "      <td>28.229666</td>\n",
       "      <td>40.000000</td>\n",
       "      <td>405.811788</td>\n",
       "      <td>4.736456</td>\n",
       "      <td>5343.0</td>\n",
       "    </tr>\n",
       "    <tr>\n",
       "      <th>4</th>\n",
       "      <td>5.38126</td>\n",
       "      <td>1.817678e+06</td>\n",
       "      <td>8.43183</td>\n",
       "      <td>2.848097e+06</td>\n",
       "      <td>22.596153</td>\n",
       "      <td>15.458938</td>\n",
       "      <td>38.048782</td>\n",
       "      <td>29.411764</td>\n",
       "      <td>27.751196</td>\n",
       "      <td>36.585365</td>\n",
       "      <td>426.181157</td>\n",
       "      <td>4.423569</td>\n",
       "      <td>3615.0</td>\n",
       "    </tr>\n",
       "  </tbody>\n",
       "</table>\n",
       "</div>"
      ],
      "text/plain": [
       "   water_coverage  water_population  sanitation_coverage  \\\n",
       "0         5.46453      1.748377e+06              8.41044   \n",
       "1         5.44399      1.764044e+06              8.41781   \n",
       "2         5.42323      1.780507e+06              8.42380   \n",
       "3         5.40235      1.798358e+06              8.42849   \n",
       "4         5.38126      1.817678e+06              8.43183   \n",
       "\n",
       "   sanitation_population  voice_and_accountability_  \\\n",
       "0           2.690925e+06                  18.905472   \n",
       "1           2.727667e+06                  18.905472   \n",
       "2           2.765626e+06                  23.557692   \n",
       "3           2.805711e+06                  25.480770   \n",
       "4           2.848097e+06                  22.596153   \n",
       "\n",
       "   political_stability_and_absence_of_violence  government_  \\\n",
       "0                                     6.878307    31.122450   \n",
       "1                                     5.527638    31.122450   \n",
       "2                                    10.679611    34.482758   \n",
       "3                                    20.388350    39.215687   \n",
       "4                                    15.458938    38.048782   \n",
       "\n",
       "   regulatory_quality  rule_of_law  control_of_corruption  deaths_vih  \\\n",
       "0           29.591837    33.168316              23.232323  337.356467   \n",
       "1           32.142857    31.683168              28.787878  360.341265   \n",
       "2           30.049261    33.492825              27.804878  383.470642   \n",
       "3           42.647060    28.229666              40.000000  405.811788   \n",
       "4           29.411764    27.751196              36.585365  426.181157   \n",
       "\n",
       "   deaths_intestinal  asylum_application  \n",
       "0           5.989716              9867.0  \n",
       "1           5.450697              8041.0  \n",
       "2           5.094135             10230.0  \n",
       "3           4.736456              5343.0  \n",
       "4           4.423569              3615.0  "
      ]
     },
     "execution_count": 43,
     "metadata": {},
     "output_type": "execute_result"
    },
    {
     "data": {
      "text/html": [
       "<div>\n",
       "<style scoped>\n",
       "    .dataframe tbody tr th:only-of-type {\n",
       "        vertical-align: middle;\n",
       "    }\n",
       "\n",
       "    .dataframe tbody tr th {\n",
       "        vertical-align: top;\n",
       "    }\n",
       "\n",
       "    .dataframe thead th {\n",
       "        text-align: right;\n",
       "    }\n",
       "</style>\n",
       "<table border=\"1\" class=\"dataframe\">\n",
       "  <thead>\n",
       "    <tr style=\"text-align: right;\">\n",
       "      <th></th>\n",
       "      <th>service_level</th>\n",
       "      <th>form_of_government</th>\n",
       "      <th>control_cat</th>\n",
       "    </tr>\n",
       "  </thead>\n",
       "  <tbody>\n",
       "    <tr>\n",
       "      <th>0</th>\n",
       "      <td>Limited service</td>\n",
       "      <td>parliamentary unitary republic</td>\n",
       "      <td>low</td>\n",
       "    </tr>\n",
       "    <tr>\n",
       "      <th>1</th>\n",
       "      <td>Limited service</td>\n",
       "      <td>parliamentary unitary republic</td>\n",
       "      <td>medium-low</td>\n",
       "    </tr>\n",
       "    <tr>\n",
       "      <th>2</th>\n",
       "      <td>Limited service</td>\n",
       "      <td>parliamentary unitary republic</td>\n",
       "      <td>medium-low</td>\n",
       "    </tr>\n",
       "    <tr>\n",
       "      <th>3</th>\n",
       "      <td>Limited service</td>\n",
       "      <td>parliamentary unitary republic</td>\n",
       "      <td>medium-low</td>\n",
       "    </tr>\n",
       "    <tr>\n",
       "      <th>4</th>\n",
       "      <td>Limited service</td>\n",
       "      <td>parliamentary unitary republic</td>\n",
       "      <td>medium-low</td>\n",
       "    </tr>\n",
       "  </tbody>\n",
       "</table>\n",
       "</div>"
      ],
      "text/plain": [
       "     service_level              form_of_government control_cat\n",
       "0  Limited service  parliamentary unitary republic         low\n",
       "1  Limited service  parliamentary unitary republic  medium-low\n",
       "2  Limited service  parliamentary unitary republic  medium-low\n",
       "3  Limited service  parliamentary unitary republic  medium-low\n",
       "4  Limited service  parliamentary unitary republic  medium-low"
      ]
     },
     "execution_count": 43,
     "metadata": {},
     "output_type": "execute_result"
    }
   ],
   "source": [
    "X_num = X.select_dtypes(include = np.number)\n",
    "X_cat = X.select_dtypes('object')\n",
    "\n",
    "X_num.head(5)\n",
    "X_cat.head(5)"
   ]
  },
  {
   "cell_type": "code",
   "execution_count": 44,
   "metadata": {
    "ExecuteTime": {
     "end_time": "2021-08-30T09:04:05.370695Z",
     "start_time": "2021-08-30T09:04:05.362634Z"
    }
   },
   "outputs": [],
   "source": [
    "def plot_var(df):\n",
    "    col_names_d = X_num.columns.tolist()\n",
    "    for i in range(len(col_names_d)):\n",
    "        print('for variable',col_names_d[i])\n",
    "        plt.hist(df.iloc[:,i],bins=20)\n",
    "        plt.show()\n",
    "        \n",
    "def plot_var_box(df):\n",
    "    col_names_c = df.columns.tolist()\n",
    "    for i in range(len(col_names_c)):\n",
    "        print('for variable',col_names_c[i])\n",
    "        sns.boxplot(df.iloc[:,i])\n",
    "        plt.show()\n",
    "        #return df.iloc[i]\n",
    "    #return plt.show()\n",
    "def plot_cat(df):\n",
    "    col_names_cat = X_cat.columns.tolist()\n",
    "    for i in range(len(col_names_cat)):\n",
    "        print('for variable',col_names_cat[i])\n",
    "        plt.hist(df.iloc[:,i])\n",
    "        plt.gca().set(title='Frequency Histogram', ylabel='Frequency')\n",
    "        plt.show()\n",
    "\n",
    "def plot_count_cat(df):\n",
    "    col_names_cat = X_cat.columns.tolist()\n",
    "    for i in range(len(col_names_cat)):\n",
    "        print('for variable',col_names_cat[i])\n",
    "        sns.countplot(df.iloc[:,i])\n",
    "        plt.show()"
   ]
  },
  {
   "cell_type": "code",
   "execution_count": 45,
   "metadata": {
    "ExecuteTime": {
     "end_time": "2021-08-30T09:04:08.294863Z",
     "start_time": "2021-08-30T09:04:05.376685Z"
    }
   },
   "outputs": [
    {
     "name": "stdout",
     "output_type": "stream",
     "text": [
      "for variable water_coverage\n"
     ]
    },
    {
     "data": {
      "image/png": "[encoded data removed]",
      "text/plain": [
       "<Figure size 432x288 with 1 Axes>"
      ]
     },
     "metadata": {
      "needs_background": "light"
     },
     "output_type": "display_data"
    },
    {
     "name": "stdout",
     "output_type": "stream",
     "text": [
      "for variable water_population\n"
     ]
    },
    {
     "data": {
      "image/png": "[encoded data removed]",
      "text/plain": [
       "<Figure size 432x288 with 1 Axes>"
      ]
     },
     "metadata": {
      "needs_background": "light"
     },
     "output_type": "display_data"
    },
    {
     "name": "stdout",
     "output_type": "stream",
     "text": [
      "for variable sanitation_coverage\n"
     ]
    },
    {
     "data": {
      "image/png": "[encoded data removed]",
      "text/plain": [
       "<Figure size 432x288 with 1 Axes>"
      ]
     },
     "metadata": {
      "needs_background": "light"
     },
     "output_type": "display_data"
    },
    {
     "name": "stdout",
     "output_type": "stream",
     "text": [
      "for variable sanitation_population\n"
     ]
    },
    {
     "data": {
      "image/png": "[encoded data removed]",
      "text/plain": [
       "<Figure size 432x288 with 1 Axes>"
      ]
     },
     "metadata": {
      "needs_background": "light"
     },
     "output_type": "display_data"
    },
    {
     "name": "stdout",
     "output_type": "stream",
     "text": [
      "for variable voice_and_accountability_\n"
     ]
    },
    {
     "data": {
      "image/png": "[encoded data removed]",
      "text/plain": [
       "<Figure size 432x288 with 1 Axes>"
      ]
     },
     "metadata": {
      "needs_background": "light"
     },
     "output_type": "display_data"
    },
    {
     "name": "stdout",
     "output_type": "stream",
     "text": [
      "for variable political_stability_and_absence_of_violence\n"
     ]
    },
    {
     "data": {
      "image/png": "[encoded data removed]",
      "text/plain": [
       "<Figure size 432x288 with 1 Axes>"
      ]
     },
     "metadata": {
      "needs_background": "light"
     },
     "output_type": "display_data"
    },
    {
     "name": "stdout",
     "output_type": "stream",
     "text": [
      "for variable government_\n"
     ]
    },
    {
     "data": {
      "image/png": "[encoded data removed]",
      "text/plain": [
       "<Figure size 432x288 with 1 Axes>"
      ]
     },
     "metadata": {
      "needs_background": "light"
     },
     "output_type": "display_data"
    },
    {
     "name": "stdout",
     "output_type": "stream",
     "text": [
      "for variable regulatory_quality\n"
     ]
    },
    {
     "data": {
      "image/png": "[encoded data removed]",
      "text/plain": [
       "<Figure size 432x288 with 1 Axes>"
      ]
     },
     "metadata": {
      "needs_background": "light"
     },
     "output_type": "display_data"
    },
    {
     "name": "stdout",
     "output_type": "stream",
     "text": [
      "for variable rule_of_law\n"
     ]
    },
    {
     "data": {
      "image/png": "[encoded data removed]",
      "text/plain": [
       "<Figure size 432x288 with 1 Axes>"
      ]
     },
     "metadata": {
      "needs_background": "light"
     },
     "output_type": "display_data"
    },
    {
     "name": "stdout",
     "output_type": "stream",
     "text": [
      "for variable control_of_corruption\n"
     ]
    },
    {
     "data": {
      "image/png": "[encoded data removed]",
      "text/plain": [
       "<Figure size 432x288 with 1 Axes>"
      ]
     },
     "metadata": {
      "needs_background": "light"
     },
     "output_type": "display_data"
    },
    {
     "name": "stdout",
     "output_type": "stream",
     "text": [
      "for variable deaths_vih\n"
     ]
    },
    {
     "data": {
      "image/png": "[encoded data removed]",
      "text/plain": [
       "<Figure size 432x288 with 1 Axes>"
      ]
     },
     "metadata": {
      "needs_background": "light"
     },
     "output_type": "display_data"
    },
    {
     "name": "stdout",
     "output_type": "stream",
     "text": [
      "for variable deaths_intestinal\n"
     ]
    },
    {
     "data": {
      "image/png": "[encoded data removed]",
      "text/plain": [
       "<Figure size 432x288 with 1 Axes>"
      ]
     },
     "metadata": {
      "needs_background": "light"
     },
     "output_type": "display_data"
    },
    {
     "name": "stdout",
     "output_type": "stream",
     "text": [
      "for variable asylum_application\n"
     ]
    },
    {
     "data": {
      "image/png": "[encoded data removed]",
      "text/plain": [
       "<Figure size 432x288 with 1 Axes>"
      ]
     },
     "metadata": {
      "needs_background": "light"
     },
     "output_type": "display_data"
    }
   ],
   "source": [
    "plot_var(X_num)"
   ]
  },
  {
   "cell_type": "code",
   "execution_count": 46,
   "metadata": {
    "ExecuteTime": {
     "end_time": "2021-08-30T09:04:09.241881Z",
     "start_time": "2021-08-30T09:04:08.298344Z"
    }
   },
   "outputs": [
    {
     "name": "stdout",
     "output_type": "stream",
     "text": [
      "for variable service_level\n"
     ]
    },
    {
     "name": "stderr",
     "output_type": "stream",
     "text": [
      "/Users/nataliajanssen/opt/anaconda3/lib/python3.8/site-packages/seaborn/_decorators.py:36: FutureWarning: Pass the following variable as a keyword arg: x. From version 0.12, the only valid positional argument will be `data`, and passing other arguments without an explicit keyword will result in an error or misinterpretation.\n",
      "  warnings.warn(\n"
     ]
    },
    {
     "data": {
      "image/png": "[encoded data removed]",
      "text/plain": [
       "<Figure size 432x288 with 1 Axes>"
      ]
     },
     "metadata": {
      "needs_background": "light"
     },
     "output_type": "display_data"
    },
    {
     "name": "stdout",
     "output_type": "stream",
     "text": [
      "for variable form_of_government\n"
     ]
    },
    {
     "name": "stderr",
     "output_type": "stream",
     "text": [
      "/Users/nataliajanssen/opt/anaconda3/lib/python3.8/site-packages/seaborn/_decorators.py:36: FutureWarning: Pass the following variable as a keyword arg: x. From version 0.12, the only valid positional argument will be `data`, and passing other arguments without an explicit keyword will result in an error or misinterpretation.\n",
      "  warnings.warn(\n"
     ]
    },
    {
     "data": {
      "image/png": "[encoded data removed]",
      "text/plain": [
       "<Figure size 432x288 with 1 Axes>"
      ]
     },
     "metadata": {
      "needs_background": "light"
     },
     "output_type": "display_data"
    },
    {
     "name": "stdout",
     "output_type": "stream",
     "text": [
      "for variable control_cat\n"
     ]
    },
    {
     "name": "stderr",
     "output_type": "stream",
     "text": [
      "/Users/nataliajanssen/opt/anaconda3/lib/python3.8/site-packages/seaborn/_decorators.py:36: FutureWarning: Pass the following variable as a keyword arg: x. From version 0.12, the only valid positional argument will be `data`, and passing other arguments without an explicit keyword will result in an error or misinterpretation.\n",
      "  warnings.warn(\n"
     ]
    },
    {
     "data": {
      "image/png": "[encoded data removed]",
      "text/plain": [
       "<Figure size 432x288 with 1 Axes>"
      ]
     },
     "metadata": {
      "needs_background": "light"
     },
     "output_type": "display_data"
    }
   ],
   "source": [
    "plot_count_cat(X_cat)"
   ]
  },
  {
   "cell_type": "code",
   "execution_count": 47,
   "metadata": {
    "ExecuteTime": {
     "end_time": "2021-08-30T09:04:09.402817Z",
     "start_time": "2021-08-30T09:04:09.247987Z"
    }
   },
   "outputs": [
    {
     "data": {
      "text/html": [
       "<div>\n",
       "<style scoped>\n",
       "    .dataframe tbody tr th:only-of-type {\n",
       "        vertical-align: middle;\n",
       "    }\n",
       "\n",
       "    .dataframe tbody tr th {\n",
       "        vertical-align: top;\n",
       "    }\n",
       "\n",
       "    .dataframe thead th {\n",
       "        text-align: right;\n",
       "    }\n",
       "</style>\n",
       "<table border=\"1\" class=\"dataframe\">\n",
       "  <thead>\n",
       "    <tr style=\"text-align: right;\">\n",
       "      <th></th>\n",
       "      <th>water_coverage</th>\n",
       "      <th>water_population</th>\n",
       "      <th>sanitation_coverage</th>\n",
       "      <th>sanitation_population</th>\n",
       "      <th>voice_and_accountability_</th>\n",
       "      <th>political_stability_and_absence_of_violence</th>\n",
       "      <th>government_</th>\n",
       "      <th>regulatory_quality</th>\n",
       "      <th>rule_of_law</th>\n",
       "      <th>control_of_corruption</th>\n",
       "      <th>deaths_vih</th>\n",
       "      <th>deaths_intestinal</th>\n",
       "      <th>asylum_application</th>\n",
       "      <th>form_of_government</th>\n",
       "      <th>control_cat</th>\n",
       "    </tr>\n",
       "  </thead>\n",
       "  <tbody>\n",
       "    <tr>\n",
       "      <th>0</th>\n",
       "      <td>5.46453</td>\n",
       "      <td>1.748377e+06</td>\n",
       "      <td>8.41044</td>\n",
       "      <td>2.690925e+06</td>\n",
       "      <td>18.905472</td>\n",
       "      <td>6.878307</td>\n",
       "      <td>31.122450</td>\n",
       "      <td>29.591837</td>\n",
       "      <td>33.168316</td>\n",
       "      <td>23.232323</td>\n",
       "      <td>337.356467</td>\n",
       "      <td>5.989716</td>\n",
       "      <td>9867.0</td>\n",
       "      <td>parliamentary unitary republic</td>\n",
       "      <td>low</td>\n",
       "    </tr>\n",
       "    <tr>\n",
       "      <th>1</th>\n",
       "      <td>5.44399</td>\n",
       "      <td>1.764044e+06</td>\n",
       "      <td>8.41781</td>\n",
       "      <td>2.727667e+06</td>\n",
       "      <td>18.905472</td>\n",
       "      <td>5.527638</td>\n",
       "      <td>31.122450</td>\n",
       "      <td>32.142857</td>\n",
       "      <td>31.683168</td>\n",
       "      <td>28.787878</td>\n",
       "      <td>360.341265</td>\n",
       "      <td>5.450697</td>\n",
       "      <td>8041.0</td>\n",
       "      <td>parliamentary unitary republic</td>\n",
       "      <td>medium-low</td>\n",
       "    </tr>\n",
       "    <tr>\n",
       "      <th>2</th>\n",
       "      <td>5.42323</td>\n",
       "      <td>1.780507e+06</td>\n",
       "      <td>8.42380</td>\n",
       "      <td>2.765626e+06</td>\n",
       "      <td>23.557692</td>\n",
       "      <td>10.679611</td>\n",
       "      <td>34.482758</td>\n",
       "      <td>30.049261</td>\n",
       "      <td>33.492825</td>\n",
       "      <td>27.804878</td>\n",
       "      <td>383.470642</td>\n",
       "      <td>5.094135</td>\n",
       "      <td>10230.0</td>\n",
       "      <td>parliamentary unitary republic</td>\n",
       "      <td>medium-low</td>\n",
       "    </tr>\n",
       "    <tr>\n",
       "      <th>3</th>\n",
       "      <td>5.40235</td>\n",
       "      <td>1.798358e+06</td>\n",
       "      <td>8.42849</td>\n",
       "      <td>2.805711e+06</td>\n",
       "      <td>25.480770</td>\n",
       "      <td>20.388350</td>\n",
       "      <td>39.215687</td>\n",
       "      <td>42.647060</td>\n",
       "      <td>28.229666</td>\n",
       "      <td>40.000000</td>\n",
       "      <td>405.811788</td>\n",
       "      <td>4.736456</td>\n",
       "      <td>5343.0</td>\n",
       "      <td>parliamentary unitary republic</td>\n",
       "      <td>medium-low</td>\n",
       "    </tr>\n",
       "    <tr>\n",
       "      <th>4</th>\n",
       "      <td>5.38126</td>\n",
       "      <td>1.817678e+06</td>\n",
       "      <td>8.43183</td>\n",
       "      <td>2.848097e+06</td>\n",
       "      <td>22.596153</td>\n",
       "      <td>15.458938</td>\n",
       "      <td>38.048782</td>\n",
       "      <td>29.411764</td>\n",
       "      <td>27.751196</td>\n",
       "      <td>36.585365</td>\n",
       "      <td>426.181157</td>\n",
       "      <td>4.423569</td>\n",
       "      <td>3615.0</td>\n",
       "      <td>parliamentary unitary republic</td>\n",
       "      <td>medium-low</td>\n",
       "    </tr>\n",
       "  </tbody>\n",
       "</table>\n",
       "</div>"
      ],
      "text/plain": [
       "   water_coverage  water_population  sanitation_coverage  \\\n",
       "0         5.46453      1.748377e+06              8.41044   \n",
       "1         5.44399      1.764044e+06              8.41781   \n",
       "2         5.42323      1.780507e+06              8.42380   \n",
       "3         5.40235      1.798358e+06              8.42849   \n",
       "4         5.38126      1.817678e+06              8.43183   \n",
       "\n",
       "   sanitation_population  voice_and_accountability_  \\\n",
       "0           2.690925e+06                  18.905472   \n",
       "1           2.727667e+06                  18.905472   \n",
       "2           2.765626e+06                  23.557692   \n",
       "3           2.805711e+06                  25.480770   \n",
       "4           2.848097e+06                  22.596153   \n",
       "\n",
       "   political_stability_and_absence_of_violence  government_  \\\n",
       "0                                     6.878307    31.122450   \n",
       "1                                     5.527638    31.122450   \n",
       "2                                    10.679611    34.482758   \n",
       "3                                    20.388350    39.215687   \n",
       "4                                    15.458938    38.048782   \n",
       "\n",
       "   regulatory_quality  rule_of_law  control_of_corruption  deaths_vih  \\\n",
       "0           29.591837    33.168316              23.232323  337.356467   \n",
       "1           32.142857    31.683168              28.787878  360.341265   \n",
       "2           30.049261    33.492825              27.804878  383.470642   \n",
       "3           42.647060    28.229666              40.000000  405.811788   \n",
       "4           29.411764    27.751196              36.585365  426.181157   \n",
       "\n",
       "   deaths_intestinal  asylum_application              form_of_government  \\\n",
       "0           5.989716              9867.0  parliamentary unitary republic   \n",
       "1           5.450697              8041.0  parliamentary unitary republic   \n",
       "2           5.094135             10230.0  parliamentary unitary republic   \n",
       "3           4.736456              5343.0  parliamentary unitary republic   \n",
       "4           4.423569              3615.0  parliamentary unitary republic   \n",
       "\n",
       "  control_cat  \n",
       "0         low  \n",
       "1  medium-low  \n",
       "2  medium-low  \n",
       "3  medium-low  \n",
       "4  medium-low  "
      ]
     },
     "execution_count": 47,
     "metadata": {},
     "output_type": "execute_result"
    },
    {
     "data": {
      "text/plain": [
       "0    7176\n",
       "1    7210\n",
       "2    6627\n",
       "3    8883\n",
       "4    4813\n",
       "Name: refugees_total, dtype: int64"
      ]
     },
     "execution_count": 47,
     "metadata": {},
     "output_type": "execute_result"
    }
   ],
   "source": [
    "X_cat = X_cat.drop(['service_level'],axis=1)\n",
    "X = pd.concat([X_num,X_cat],axis=1)\n",
    "\n",
    "X.head()\n",
    "y.head()"
   ]
  },
  {
   "cell_type": "code",
   "execution_count": 48,
   "metadata": {
    "ExecuteTime": {
     "end_time": "2021-08-30T09:04:09.429980Z",
     "start_time": "2021-08-30T09:04:09.410408Z"
    }
   },
   "outputs": [],
   "source": [
    "X_train, X_test, y_train, y_test = train_test_split(X, y, test_size=0.3, random_state=100)"
   ]
  },
  {
   "cell_type": "code",
   "execution_count": 49,
   "metadata": {
    "ExecuteTime": {
     "end_time": "2021-08-30T09:04:09.498096Z",
     "start_time": "2021-08-30T09:04:09.435274Z"
    }
   },
   "outputs": [
    {
     "data": {
      "text/html": [
       "<div>\n",
       "<style scoped>\n",
       "    .dataframe tbody tr th:only-of-type {\n",
       "        vertical-align: middle;\n",
       "    }\n",
       "\n",
       "    .dataframe tbody tr th {\n",
       "        vertical-align: top;\n",
       "    }\n",
       "\n",
       "    .dataframe thead th {\n",
       "        text-align: right;\n",
       "    }\n",
       "</style>\n",
       "<table border=\"1\" class=\"dataframe\">\n",
       "  <thead>\n",
       "    <tr style=\"text-align: right;\">\n",
       "      <th></th>\n",
       "      <th>water_coverage</th>\n",
       "      <th>water_population</th>\n",
       "      <th>sanitation_coverage</th>\n",
       "      <th>sanitation_population</th>\n",
       "      <th>voice_and_accountability_</th>\n",
       "      <th>political_stability_and_absence_of_violence</th>\n",
       "      <th>government_</th>\n",
       "      <th>regulatory_quality</th>\n",
       "      <th>rule_of_law</th>\n",
       "      <th>control_of_corruption</th>\n",
       "      <th>deaths_vih</th>\n",
       "      <th>deaths_intestinal</th>\n",
       "      <th>asylum_application</th>\n",
       "    </tr>\n",
       "  </thead>\n",
       "  <tbody>\n",
       "    <tr>\n",
       "      <th>784</th>\n",
       "      <td>12.85646</td>\n",
       "      <td>2.076365e+06</td>\n",
       "      <td>27.34239</td>\n",
       "      <td>4.415894e+06</td>\n",
       "      <td>14.778325</td>\n",
       "      <td>24.761906</td>\n",
       "      <td>11.057693</td>\n",
       "      <td>3.365385</td>\n",
       "      <td>8.173077</td>\n",
       "      <td>9.615385</td>\n",
       "      <td>27575.735839</td>\n",
       "      <td>2.811039</td>\n",
       "      <td>711.0</td>\n",
       "    </tr>\n",
       "    <tr>\n",
       "      <th>490</th>\n",
       "      <td>17.30626</td>\n",
       "      <td>6.068074e+05</td>\n",
       "      <td>10.36151</td>\n",
       "      <td>3.633044e+05</td>\n",
       "      <td>21.800947</td>\n",
       "      <td>19.431280</td>\n",
       "      <td>20.095694</td>\n",
       "      <td>26.315790</td>\n",
       "      <td>22.748816</td>\n",
       "      <td>30.622009</td>\n",
       "      <td>221.325451</td>\n",
       "      <td>1.828012</td>\n",
       "      <td>1827.0</td>\n",
       "    </tr>\n",
       "    <tr>\n",
       "      <th>122</th>\n",
       "      <td>15.37505</td>\n",
       "      <td>3.510818e+06</td>\n",
       "      <td>18.53141</td>\n",
       "      <td>4.231559e+06</td>\n",
       "      <td>22.660099</td>\n",
       "      <td>15.238095</td>\n",
       "      <td>21.634615</td>\n",
       "      <td>16.826923</td>\n",
       "      <td>15.384615</td>\n",
       "      <td>12.980769</td>\n",
       "      <td>35823.446482</td>\n",
       "      <td>24.767347</td>\n",
       "      <td>3687.0</td>\n",
       "    </tr>\n",
       "    <tr>\n",
       "      <th>623</th>\n",
       "      <td>3.27288</td>\n",
       "      <td>4.760771e+05</td>\n",
       "      <td>15.67437</td>\n",
       "      <td>2.280011e+06</td>\n",
       "      <td>58.128078</td>\n",
       "      <td>37.142857</td>\n",
       "      <td>40.384617</td>\n",
       "      <td>46.153847</td>\n",
       "      <td>53.846153</td>\n",
       "      <td>58.173077</td>\n",
       "      <td>2788.011008</td>\n",
       "      <td>18.185307</td>\n",
       "      <td>6834.0</td>\n",
       "    </tr>\n",
       "    <tr>\n",
       "      <th>524</th>\n",
       "      <td>5.42781</td>\n",
       "      <td>1.783515e+06</td>\n",
       "      <td>4.74139</td>\n",
       "      <td>1.557965e+06</td>\n",
       "      <td>27.699530</td>\n",
       "      <td>33.649288</td>\n",
       "      <td>48.815166</td>\n",
       "      <td>50.236965</td>\n",
       "      <td>48.826290</td>\n",
       "      <td>42.180096</td>\n",
       "      <td>1288.024263</td>\n",
       "      <td>6.626223</td>\n",
       "      <td>2101.0</td>\n",
       "    </tr>\n",
       "  </tbody>\n",
       "</table>\n",
       "</div>"
      ],
      "text/plain": [
       "     water_coverage  water_population  sanitation_coverage  \\\n",
       "784        12.85646      2.076365e+06             27.34239   \n",
       "490        17.30626      6.068074e+05             10.36151   \n",
       "122        15.37505      3.510818e+06             18.53141   \n",
       "623         3.27288      4.760771e+05             15.67437   \n",
       "524         5.42781      1.783515e+06              4.74139   \n",
       "\n",
       "     sanitation_population  voice_and_accountability_  \\\n",
       "784           4.415894e+06                  14.778325   \n",
       "490           3.633044e+05                  21.800947   \n",
       "122           4.231559e+06                  22.660099   \n",
       "623           2.280011e+06                  58.128078   \n",
       "524           1.557965e+06                  27.699530   \n",
       "\n",
       "     political_stability_and_absence_of_violence  government_  \\\n",
       "784                                    24.761906    11.057693   \n",
       "490                                    19.431280    20.095694   \n",
       "122                                    15.238095    21.634615   \n",
       "623                                    37.142857    40.384617   \n",
       "524                                    33.649288    48.815166   \n",
       "\n",
       "     regulatory_quality  rule_of_law  control_of_corruption    deaths_vih  \\\n",
       "784            3.365385     8.173077               9.615385  27575.735839   \n",
       "490           26.315790    22.748816              30.622009    221.325451   \n",
       "122           16.826923    15.384615              12.980769  35823.446482   \n",
       "623           46.153847    53.846153              58.173077   2788.011008   \n",
       "524           50.236965    48.826290              42.180096   1288.024263   \n",
       "\n",
       "     deaths_intestinal  asylum_application  \n",
       "784           2.811039               711.0  \n",
       "490           1.828012              1827.0  \n",
       "122          24.767347              3687.0  \n",
       "623          18.185307              6834.0  \n",
       "524           6.626223              2101.0  "
      ]
     },
     "execution_count": 49,
     "metadata": {},
     "output_type": "execute_result"
    }
   ],
   "source": [
    "numericals_train = X_train.select_dtypes(np.number)\n",
    "numericals_test = X_test.select_dtypes(np.number)\n",
    "numericals_train.head()"
   ]
  },
  {
   "cell_type": "code",
   "execution_count": 50,
   "metadata": {
    "ExecuteTime": {
     "end_time": "2021-08-30T09:04:09.580273Z",
     "start_time": "2021-08-30T09:04:09.540573Z"
    }
   },
   "outputs": [
    {
     "data": {
      "text/plain": [
       "array([[ 0.56924121, -0.62986041, -1.11513467, ..., -0.49221989,\n",
       "        -0.34719064, -0.51663059],\n",
       "       [-0.68554265, -0.07717814, -0.89252208, ..., -0.48823249,\n",
       "        -0.30064392, -0.32548669],\n",
       "       [-0.47956596,  0.19424105,  0.42502646, ...,  2.07829124,\n",
       "        -0.28494234, -0.46745578],\n",
       "       ...,\n",
       "       [-0.652506  , -0.63770521,  1.60005182, ..., -0.46940616,\n",
       "        -0.3509741 , -0.51683634],\n",
       "       [-0.58194551, -0.63038468,  0.01307578, ..., -0.48528367,\n",
       "        -0.32981383, -0.24874107],\n",
       "       [-1.14184291, -0.52419089, -0.74109692, ..., -0.4501924 ,\n",
       "        -0.26086896, -0.45799118]])"
      ]
     },
     "execution_count": 50,
     "metadata": {},
     "output_type": "execute_result"
    }
   ],
   "source": [
    "transformer = StandardScaler().fit(numericals_train) #this line teaches standardscaler where points are, subtracting mean to it, and dividing by standard deviation\n",
    "numericals_train_standardized = transformer.transform(numericals_train) #this line transforms based on what it learned in the previous line\n",
    "numericals_test_standardized = transformer.transform(numericals_test) \n",
    "numericals_test_standardized"
   ]
  },
  {
   "cell_type": "code",
   "execution_count": 51,
   "metadata": {
    "ExecuteTime": {
     "end_time": "2021-08-30T09:04:09.666366Z",
     "start_time": "2021-08-30T09:04:09.584408Z"
    }
   },
   "outputs": [
    {
     "name": "stdout",
     "output_type": "stream",
     "text": [
      "<class 'pandas.core.frame.DataFrame'>\n",
      "Int64Index: 504 entries, 784 to 570\n",
      "Data columns (total 15 columns):\n",
      " #   Column                                       Non-Null Count  Dtype  \n",
      "---  ------                                       --------------  -----  \n",
      " 0   water_coverage                               504 non-null    float64\n",
      " 1   water_population                             504 non-null    float64\n",
      " 2   sanitation_coverage                          504 non-null    float64\n",
      " 3   sanitation_population                        504 non-null    float64\n",
      " 4   voice_and_accountability_                    504 non-null    float64\n",
      " 5   political_stability_and_absence_of_violence  504 non-null    float64\n",
      " 6   government_                                  504 non-null    float64\n",
      " 7   regulatory_quality                           504 non-null    float64\n",
      " 8   rule_of_law                                  504 non-null    float64\n",
      " 9   control_of_corruption                        504 non-null    float64\n",
      " 10  deaths_vih                                   504 non-null    float64\n",
      " 11  deaths_intestinal                            504 non-null    float64\n",
      " 12  asylum_application                           504 non-null    float64\n",
      " 13  form_of_government                           504 non-null    object \n",
      " 14  control_cat                                  504 non-null    object \n",
      "dtypes: float64(13), object(2)\n",
      "memory usage: 63.0+ KB\n",
      "<class 'pandas.core.frame.DataFrame'>\n",
      "Int64Index: 217 entries, 210 to 435\n",
      "Data columns (total 15 columns):\n",
      " #   Column                                       Non-Null Count  Dtype  \n",
      "---  ------                                       --------------  -----  \n",
      " 0   water_coverage                               217 non-null    float64\n",
      " 1   water_population                             217 non-null    float64\n",
      " 2   sanitation_coverage                          217 non-null    float64\n",
      " 3   sanitation_population                        217 non-null    float64\n",
      " 4   voice_and_accountability_                    217 non-null    float64\n",
      " 5   political_stability_and_absence_of_violence  217 non-null    float64\n",
      " 6   government_                                  217 non-null    float64\n",
      " 7   regulatory_quality                           217 non-null    float64\n",
      " 8   rule_of_law                                  217 non-null    float64\n",
      " 9   control_of_corruption                        217 non-null    float64\n",
      " 10  deaths_vih                                   217 non-null    float64\n",
      " 11  deaths_intestinal                            217 non-null    float64\n",
      " 12  asylum_application                           217 non-null    float64\n",
      " 13  form_of_government                           217 non-null    object \n",
      " 14  control_cat                                  217 non-null    object \n",
      "dtypes: float64(13), object(2)\n",
      "memory usage: 27.1+ KB\n"
     ]
    }
   ],
   "source": [
    "X_train.info()\n",
    "X_test.info()"
   ]
  },
  {
   "cell_type": "code",
   "execution_count": 52,
   "metadata": {
    "ExecuteTime": {
     "end_time": "2021-08-30T09:04:09.727723Z",
     "start_time": "2021-08-30T09:04:09.683164Z"
    }
   },
   "outputs": [
    {
     "data": {
      "text/html": [
       "<div>\n",
       "<style scoped>\n",
       "    .dataframe tbody tr th:only-of-type {\n",
       "        vertical-align: middle;\n",
       "    }\n",
       "\n",
       "    .dataframe tbody tr th {\n",
       "        vertical-align: top;\n",
       "    }\n",
       "\n",
       "    .dataframe thead th {\n",
       "        text-align: right;\n",
       "    }\n",
       "</style>\n",
       "<table border=\"1\" class=\"dataframe\">\n",
       "  <thead>\n",
       "    <tr style=\"text-align: right;\">\n",
       "      <th></th>\n",
       "      <th>form_of_government</th>\n",
       "      <th>control_cat</th>\n",
       "    </tr>\n",
       "  </thead>\n",
       "  <tbody>\n",
       "    <tr>\n",
       "      <th>784</th>\n",
       "      <td>presidential unitary republic</td>\n",
       "      <td>low</td>\n",
       "    </tr>\n",
       "    <tr>\n",
       "      <th>490</th>\n",
       "      <td>presidential republic</td>\n",
       "      <td>medium-low</td>\n",
       "    </tr>\n",
       "    <tr>\n",
       "      <th>122</th>\n",
       "      <td>presidential unitary republic</td>\n",
       "      <td>low</td>\n",
       "    </tr>\n",
       "    <tr>\n",
       "      <th>623</th>\n",
       "      <td>presidential unitary republic</td>\n",
       "      <td>medium-high</td>\n",
       "    </tr>\n",
       "    <tr>\n",
       "      <th>524</th>\n",
       "      <td>parliamentary unitary constitutional monarchy</td>\n",
       "      <td>medium-low</td>\n",
       "    </tr>\n",
       "  </tbody>\n",
       "</table>\n",
       "</div>"
      ],
      "text/plain": [
       "                                form_of_government  control_cat\n",
       "784                  presidential unitary republic          low\n",
       "490                          presidential republic   medium-low\n",
       "122                  presidential unitary republic          low\n",
       "623                  presidential unitary republic  medium-high\n",
       "524  parliamentary unitary constitutional monarchy   medium-low"
      ]
     },
     "execution_count": 52,
     "metadata": {},
     "output_type": "execute_result"
    }
   ],
   "source": [
    "#now encoding the categorical variables\n",
    "\n",
    "categoricals_train= X_train.select_dtypes(np.object)\n",
    "categoricals_test= X_test.select_dtypes(np.object)\n",
    "categoricals_train.head()"
   ]
  },
  {
   "cell_type": "code",
   "execution_count": 53,
   "metadata": {
    "ExecuteTime": {
     "end_time": "2021-08-30T09:04:09.766226Z",
     "start_time": "2021-08-30T09:04:09.741009Z"
    }
   },
   "outputs": [],
   "source": [
    "from sklearn.preprocessing import OneHotEncoder\n",
    "\n",
    "encoder = OneHotEncoder(handle_unknown='error', drop='first').fit(categoricals_train) #drop=first, drops one of the values so we don't have redundant\n",
    "categoricals_train_encoded = encoder.transform(categoricals_train).toarray()\n",
    "categoricals_test_encoded = encoder.transform(categoricals_test).toarray()"
   ]
  },
  {
   "cell_type": "code",
   "execution_count": 54,
   "metadata": {
    "ExecuteTime": {
     "end_time": "2021-08-30T09:04:09.863949Z",
     "start_time": "2021-08-30T09:04:09.771170Z"
    }
   },
   "outputs": [
    {
     "data": {
      "text/html": [
       "<div>\n",
       "<style scoped>\n",
       "    .dataframe tbody tr th:only-of-type {\n",
       "        vertical-align: middle;\n",
       "    }\n",
       "\n",
       "    .dataframe tbody tr th {\n",
       "        vertical-align: top;\n",
       "    }\n",
       "\n",
       "    .dataframe thead th {\n",
       "        text-align: right;\n",
       "    }\n",
       "</style>\n",
       "<table border=\"1\" class=\"dataframe\">\n",
       "  <thead>\n",
       "    <tr style=\"text-align: right;\">\n",
       "      <th></th>\n",
       "      <th>water_coverage</th>\n",
       "      <th>water_population</th>\n",
       "      <th>sanitation_coverage</th>\n",
       "      <th>sanitation_population</th>\n",
       "      <th>voice_and_accountability_</th>\n",
       "      <th>political_stability_and_absence_of_violence</th>\n",
       "      <th>government_</th>\n",
       "      <th>regulatory_quality</th>\n",
       "      <th>rule_of_law</th>\n",
       "      <th>control_of_corruption</th>\n",
       "      <th>deaths_vih</th>\n",
       "      <th>deaths_intestinal</th>\n",
       "      <th>asylum_application</th>\n",
       "      <th>form_of_government</th>\n",
       "      <th>control_cat</th>\n",
       "    </tr>\n",
       "  </thead>\n",
       "  <tbody>\n",
       "    <tr>\n",
       "      <th>784</th>\n",
       "      <td>12.85646</td>\n",
       "      <td>2.076365e+06</td>\n",
       "      <td>27.34239</td>\n",
       "      <td>4.415894e+06</td>\n",
       "      <td>14.778325</td>\n",
       "      <td>24.761906</td>\n",
       "      <td>11.057693</td>\n",
       "      <td>3.365385</td>\n",
       "      <td>8.173077</td>\n",
       "      <td>9.615385</td>\n",
       "      <td>27575.735839</td>\n",
       "      <td>2.811039</td>\n",
       "      <td>711.0</td>\n",
       "      <td>presidential unitary republic</td>\n",
       "      <td>low</td>\n",
       "    </tr>\n",
       "    <tr>\n",
       "      <th>490</th>\n",
       "      <td>17.30626</td>\n",
       "      <td>6.068074e+05</td>\n",
       "      <td>10.36151</td>\n",
       "      <td>3.633044e+05</td>\n",
       "      <td>21.800947</td>\n",
       "      <td>19.431280</td>\n",
       "      <td>20.095694</td>\n",
       "      <td>26.315790</td>\n",
       "      <td>22.748816</td>\n",
       "      <td>30.622009</td>\n",
       "      <td>221.325451</td>\n",
       "      <td>1.828012</td>\n",
       "      <td>1827.0</td>\n",
       "      <td>presidential republic</td>\n",
       "      <td>medium-low</td>\n",
       "    </tr>\n",
       "    <tr>\n",
       "      <th>122</th>\n",
       "      <td>15.37505</td>\n",
       "      <td>3.510818e+06</td>\n",
       "      <td>18.53141</td>\n",
       "      <td>4.231559e+06</td>\n",
       "      <td>22.660099</td>\n",
       "      <td>15.238095</td>\n",
       "      <td>21.634615</td>\n",
       "      <td>16.826923</td>\n",
       "      <td>15.384615</td>\n",
       "      <td>12.980769</td>\n",
       "      <td>35823.446482</td>\n",
       "      <td>24.767347</td>\n",
       "      <td>3687.0</td>\n",
       "      <td>presidential unitary republic</td>\n",
       "      <td>low</td>\n",
       "    </tr>\n",
       "    <tr>\n",
       "      <th>623</th>\n",
       "      <td>3.27288</td>\n",
       "      <td>4.760771e+05</td>\n",
       "      <td>15.67437</td>\n",
       "      <td>2.280011e+06</td>\n",
       "      <td>58.128078</td>\n",
       "      <td>37.142857</td>\n",
       "      <td>40.384617</td>\n",
       "      <td>46.153847</td>\n",
       "      <td>53.846153</td>\n",
       "      <td>58.173077</td>\n",
       "      <td>2788.011008</td>\n",
       "      <td>18.185307</td>\n",
       "      <td>6834.0</td>\n",
       "      <td>presidential unitary republic</td>\n",
       "      <td>medium-high</td>\n",
       "    </tr>\n",
       "    <tr>\n",
       "      <th>524</th>\n",
       "      <td>5.42781</td>\n",
       "      <td>1.783515e+06</td>\n",
       "      <td>4.74139</td>\n",
       "      <td>1.557965e+06</td>\n",
       "      <td>27.699530</td>\n",
       "      <td>33.649288</td>\n",
       "      <td>48.815166</td>\n",
       "      <td>50.236965</td>\n",
       "      <td>48.826290</td>\n",
       "      <td>42.180096</td>\n",
       "      <td>1288.024263</td>\n",
       "      <td>6.626223</td>\n",
       "      <td>2101.0</td>\n",
       "      <td>parliamentary unitary constitutional monarchy</td>\n",
       "      <td>medium-low</td>\n",
       "    </tr>\n",
       "    <tr>\n",
       "      <th>...</th>\n",
       "      <td>...</td>\n",
       "      <td>...</td>\n",
       "      <td>...</td>\n",
       "      <td>...</td>\n",
       "      <td>...</td>\n",
       "      <td>...</td>\n",
       "      <td>...</td>\n",
       "      <td>...</td>\n",
       "      <td>...</td>\n",
       "      <td>...</td>\n",
       "      <td>...</td>\n",
       "      <td>...</td>\n",
       "      <td>...</td>\n",
       "      <td>...</td>\n",
       "      <td>...</td>\n",
       "    </tr>\n",
       "    <tr>\n",
       "      <th>636</th>\n",
       "      <td>6.04046</td>\n",
       "      <td>3.140768e+05</td>\n",
       "      <td>25.57101</td>\n",
       "      <td>1.329577e+06</td>\n",
       "      <td>39.303482</td>\n",
       "      <td>19.095478</td>\n",
       "      <td>9.693877</td>\n",
       "      <td>13.775510</td>\n",
       "      <td>13.861386</td>\n",
       "      <td>18.181818</td>\n",
       "      <td>2754.522614</td>\n",
       "      <td>30.892910</td>\n",
       "      <td>2511.0</td>\n",
       "      <td>presidential unitary republic</td>\n",
       "      <td>low</td>\n",
       "    </tr>\n",
       "    <tr>\n",
       "      <th>59</th>\n",
       "      <td>8.41061</td>\n",
       "      <td>1.858070e+05</td>\n",
       "      <td>5.49594</td>\n",
       "      <td>1.214162e+05</td>\n",
       "      <td>61.576355</td>\n",
       "      <td>87.619049</td>\n",
       "      <td>71.153847</td>\n",
       "      <td>68.269234</td>\n",
       "      <td>72.115387</td>\n",
       "      <td>77.403847</td>\n",
       "      <td>5930.376400</td>\n",
       "      <td>0.631210</td>\n",
       "      <td>15.0</td>\n",
       "      <td>parliamentary unitary republic</td>\n",
       "      <td>high</td>\n",
       "    </tr>\n",
       "    <tr>\n",
       "      <th>364</th>\n",
       "      <td>4.92699</td>\n",
       "      <td>7.124217e+04</td>\n",
       "      <td>12.35642</td>\n",
       "      <td>1.786686e+05</td>\n",
       "      <td>27.403847</td>\n",
       "      <td>28.985508</td>\n",
       "      <td>15.048544</td>\n",
       "      <td>15.048544</td>\n",
       "      <td>7.655502</td>\n",
       "      <td>7.766990</td>\n",
       "      <td>1881.658144</td>\n",
       "      <td>7.794457</td>\n",
       "      <td>152.0</td>\n",
       "      <td>semi-presidential unitary republic</td>\n",
       "      <td>low</td>\n",
       "    </tr>\n",
       "    <tr>\n",
       "      <th>85</th>\n",
       "      <td>19.55258</td>\n",
       "      <td>1.659824e+06</td>\n",
       "      <td>8.40482</td>\n",
       "      <td>7.134876e+05</td>\n",
       "      <td>29.383886</td>\n",
       "      <td>12.796208</td>\n",
       "      <td>13.397129</td>\n",
       "      <td>10.526316</td>\n",
       "      <td>12.322275</td>\n",
       "      <td>11.483253</td>\n",
       "      <td>8459.725077</td>\n",
       "      <td>22.418951</td>\n",
       "      <td>371.0</td>\n",
       "      <td>presidential unitary republic</td>\n",
       "      <td>low</td>\n",
       "    </tr>\n",
       "    <tr>\n",
       "      <th>570</th>\n",
       "      <td>9.73537</td>\n",
       "      <td>1.539544e+06</td>\n",
       "      <td>6.03936</td>\n",
       "      <td>9.550590e+05</td>\n",
       "      <td>28.436020</td>\n",
       "      <td>14.691943</td>\n",
       "      <td>31.100479</td>\n",
       "      <td>34.928230</td>\n",
       "      <td>39.336494</td>\n",
       "      <td>31.100479</td>\n",
       "      <td>2980.370981</td>\n",
       "      <td>123.664518</td>\n",
       "      <td>271.0</td>\n",
       "      <td>semi-presidential unitary republic</td>\n",
       "      <td>medium-low</td>\n",
       "    </tr>\n",
       "  </tbody>\n",
       "</table>\n",
       "<p>504 rows × 15 columns</p>\n",
       "</div>"
      ],
      "text/plain": [
       "     water_coverage  water_population  sanitation_coverage  \\\n",
       "784        12.85646      2.076365e+06             27.34239   \n",
       "490        17.30626      6.068074e+05             10.36151   \n",
       "122        15.37505      3.510818e+06             18.53141   \n",
       "623         3.27288      4.760771e+05             15.67437   \n",
       "524         5.42781      1.783515e+06              4.74139   \n",
       "..              ...               ...                  ...   \n",
       "636         6.04046      3.140768e+05             25.57101   \n",
       "59          8.41061      1.858070e+05              5.49594   \n",
       "364         4.92699      7.124217e+04             12.35642   \n",
       "85         19.55258      1.659824e+06              8.40482   \n",
       "570         9.73537      1.539544e+06              6.03936   \n",
       "\n",
       "     sanitation_population  voice_and_accountability_  \\\n",
       "784           4.415894e+06                  14.778325   \n",
       "490           3.633044e+05                  21.800947   \n",
       "122           4.231559e+06                  22.660099   \n",
       "623           2.280011e+06                  58.128078   \n",
       "524           1.557965e+06                  27.699530   \n",
       "..                     ...                        ...   \n",
       "636           1.329577e+06                  39.303482   \n",
       "59            1.214162e+05                  61.576355   \n",
       "364           1.786686e+05                  27.403847   \n",
       "85            7.134876e+05                  29.383886   \n",
       "570           9.550590e+05                  28.436020   \n",
       "\n",
       "     political_stability_and_absence_of_violence  government_  \\\n",
       "784                                    24.761906    11.057693   \n",
       "490                                    19.431280    20.095694   \n",
       "122                                    15.238095    21.634615   \n",
       "623                                    37.142857    40.384617   \n",
       "524                                    33.649288    48.815166   \n",
       "..                                           ...          ...   \n",
       "636                                    19.095478     9.693877   \n",
       "59                                     87.619049    71.153847   \n",
       "364                                    28.985508    15.048544   \n",
       "85                                     12.796208    13.397129   \n",
       "570                                    14.691943    31.100479   \n",
       "\n",
       "     regulatory_quality  rule_of_law  control_of_corruption    deaths_vih  \\\n",
       "784            3.365385     8.173077               9.615385  27575.735839   \n",
       "490           26.315790    22.748816              30.622009    221.325451   \n",
       "122           16.826923    15.384615              12.980769  35823.446482   \n",
       "623           46.153847    53.846153              58.173077   2788.011008   \n",
       "524           50.236965    48.826290              42.180096   1288.024263   \n",
       "..                  ...          ...                    ...           ...   \n",
       "636           13.775510    13.861386              18.181818   2754.522614   \n",
       "59            68.269234    72.115387              77.403847   5930.376400   \n",
       "364           15.048544     7.655502               7.766990   1881.658144   \n",
       "85            10.526316    12.322275              11.483253   8459.725077   \n",
       "570           34.928230    39.336494              31.100479   2980.370981   \n",
       "\n",
       "     deaths_intestinal  asylum_application  \\\n",
       "784           2.811039               711.0   \n",
       "490           1.828012              1827.0   \n",
       "122          24.767347              3687.0   \n",
       "623          18.185307              6834.0   \n",
       "524           6.626223              2101.0   \n",
       "..                 ...                 ...   \n",
       "636          30.892910              2511.0   \n",
       "59            0.631210                15.0   \n",
       "364           7.794457               152.0   \n",
       "85           22.418951               371.0   \n",
       "570         123.664518               271.0   \n",
       "\n",
       "                                form_of_government  control_cat  \n",
       "784                  presidential unitary republic          low  \n",
       "490                          presidential republic   medium-low  \n",
       "122                  presidential unitary republic          low  \n",
       "623                  presidential unitary republic  medium-high  \n",
       "524  parliamentary unitary constitutional monarchy   medium-low  \n",
       "..                                             ...          ...  \n",
       "636                  presidential unitary republic          low  \n",
       "59                  parliamentary unitary republic         high  \n",
       "364             semi-presidential unitary republic          low  \n",
       "85                   presidential unitary republic          low  \n",
       "570             semi-presidential unitary republic   medium-low  \n",
       "\n",
       "[504 rows x 15 columns]"
      ]
     },
     "execution_count": 54,
     "metadata": {},
     "output_type": "execute_result"
    },
    {
     "data": {
      "text/plain": [
       "array([[0., 0., 0., ..., 1., 0., 0.],\n",
       "       [0., 0., 0., ..., 0., 0., 1.],\n",
       "       [0., 0., 0., ..., 1., 0., 0.],\n",
       "       ...,\n",
       "       [0., 0., 0., ..., 1., 0., 0.],\n",
       "       [0., 0., 0., ..., 1., 0., 0.],\n",
       "       [0., 0., 0., ..., 0., 0., 1.]])"
      ]
     },
     "execution_count": 54,
     "metadata": {},
     "output_type": "execute_result"
    }
   ],
   "source": [
    "X_train\n",
    "categoricals_train_encoded"
   ]
  },
  {
   "cell_type": "code",
   "execution_count": 55,
   "metadata": {
    "ExecuteTime": {
     "end_time": "2021-08-30T09:04:09.887675Z",
     "start_time": "2021-08-30T09:04:09.873627Z"
    }
   },
   "outputs": [],
   "source": [
    "X_train = np.concatenate((numericals_train_standardized,categoricals_train_encoded),axis=1)\n",
    "X_test = np.concatenate((numericals_test_standardized,categoricals_test_encoded),axis=1)"
   ]
  },
  {
   "cell_type": "code",
   "execution_count": 56,
   "metadata": {
    "ExecuteTime": {
     "end_time": "2021-08-30T09:04:09.915435Z",
     "start_time": "2021-08-30T09:04:09.898162Z"
    }
   },
   "outputs": [],
   "source": [
    "def func_train_test(model): #lm= list of models\n",
    "    if model == 'LinearRegression':\n",
    "        LR = LR = linear_model.LinearRegression()\n",
    "        LR.fit(X_train,y_train)\n",
    "        score = LR.score(X_test, y_test)\n",
    "        y_pred= LR.predict(X_test)\n",
    "        return print('R2 score of LR model is: ',r2_score(y_test, y_pred),'& score is: ',score)\n",
    "    elif model == 'KNeighborsRegressor':\n",
    "        KNN = KNeighborsRegressor(n_neighbors=4)\n",
    "        KNN.fit(X_train, y_train)\n",
    "        score = KNN.score(X_test, y_test)\n",
    "        return print('KNeighborscore is: ',score)\n",
    "    elif model == 'MLPRegressor':\n",
    "        regr = MLPRegressor(random_state=1, max_iter=500).fit(X_train, y_train)\n",
    "        regr.predict(X_test)\n",
    "        MLPscore = regr.score(X_test, y_test)\n",
    "        return print('MLPscore is: ',MLPscore)\n",
    "    else:\n",
    "        return print('no model applicable')"
   ]
  },
  {
   "cell_type": "code",
   "execution_count": 57,
   "metadata": {
    "ExecuteTime": {
     "end_time": "2021-08-30T09:04:12.019372Z",
     "start_time": "2021-08-30T09:04:09.926081Z"
    }
   },
   "outputs": [
    {
     "name": "stdout",
     "output_type": "stream",
     "text": [
      "R2 score of LR model is:  0.8625146749388231 & score is:  0.8625146749388231\n"
     ]
    }
   ],
   "source": [
    "func_train_test('LinearRegression')"
   ]
  },
  {
   "cell_type": "code",
   "execution_count": 58,
   "metadata": {
    "ExecuteTime": {
     "end_time": "2021-08-30T09:04:12.056261Z",
     "start_time": "2021-08-30T09:04:12.025193Z"
    }
   },
   "outputs": [
    {
     "name": "stdout",
     "output_type": "stream",
     "text": [
      "KNeighborscore is:  0.9340362382376689\n"
     ]
    }
   ],
   "source": [
    "func_train_test('KNeighborsRegressor')"
   ]
  },
  {
   "cell_type": "code",
   "execution_count": 59,
   "metadata": {
    "ExecuteTime": {
     "end_time": "2021-08-30T09:04:14.547825Z",
     "start_time": "2021-08-30T09:04:12.071751Z"
    }
   },
   "outputs": [
    {
     "name": "stdout",
     "output_type": "stream",
     "text": [
      "MLPscore is:  0.038851575145465\n"
     ]
    },
    {
     "name": "stderr",
     "output_type": "stream",
     "text": [
      "/Users/nataliajanssen/opt/anaconda3/lib/python3.8/site-packages/sklearn/neural_network/_multilayer_perceptron.py:614: ConvergenceWarning: Stochastic Optimizer: Maximum iterations (500) reached and the optimization hasn't converged yet.\n",
      "  warnings.warn(\n"
     ]
    }
   ],
   "source": [
    "func_train_test('MLPRegressor')"
   ]
  },
  {
   "cell_type": "code",
   "execution_count": 60,
   "metadata": {
    "ExecuteTime": {
     "end_time": "2021-08-30T09:04:14.796865Z",
     "start_time": "2021-08-30T09:04:14.552897Z"
    }
   },
   "outputs": [
    {
     "data": {
      "text/plain": [
       "KNeighborsRegressor(n_neighbors=2)"
      ]
     },
     "execution_count": 60,
     "metadata": {},
     "output_type": "execute_result"
    },
    {
     "data": {
      "text/plain": [
       "KNeighborsRegressor(n_neighbors=3)"
      ]
     },
     "execution_count": 60,
     "metadata": {},
     "output_type": "execute_result"
    },
    {
     "data": {
      "text/plain": [
       "KNeighborsRegressor(n_neighbors=4)"
      ]
     },
     "execution_count": 60,
     "metadata": {},
     "output_type": "execute_result"
    },
    {
     "data": {
      "text/plain": [
       "KNeighborsRegressor()"
      ]
     },
     "execution_count": 60,
     "metadata": {},
     "output_type": "execute_result"
    },
    {
     "data": {
      "text/plain": [
       "KNeighborsRegressor(n_neighbors=6)"
      ]
     },
     "execution_count": 60,
     "metadata": {},
     "output_type": "execute_result"
    },
    {
     "data": {
      "text/plain": [
       "KNeighborsRegressor(n_neighbors=7)"
      ]
     },
     "execution_count": 60,
     "metadata": {},
     "output_type": "execute_result"
    },
    {
     "data": {
      "text/plain": [
       "KNeighborsRegressor(n_neighbors=8)"
      ]
     },
     "execution_count": 60,
     "metadata": {},
     "output_type": "execute_result"
    },
    {
     "data": {
      "text/plain": [
       "KNeighborsRegressor(n_neighbors=9)"
      ]
     },
     "execution_count": 60,
     "metadata": {},
     "output_type": "execute_result"
    },
    {
     "data": {
      "text/plain": [
       "KNeighborsRegressor(n_neighbors=10)"
      ]
     },
     "execution_count": 60,
     "metadata": {},
     "output_type": "execute_result"
    },
    {
     "data": {
      "text/plain": [
       "KNeighborsRegressor(n_neighbors=11)"
      ]
     },
     "execution_count": 60,
     "metadata": {},
     "output_type": "execute_result"
    },
    {
     "data": {
      "text/plain": [
       "KNeighborsRegressor(n_neighbors=12)"
      ]
     },
     "execution_count": 60,
     "metadata": {},
     "output_type": "execute_result"
    },
    {
     "data": {
      "text/plain": [
       "KNeighborsRegressor(n_neighbors=13)"
      ]
     },
     "execution_count": 60,
     "metadata": {},
     "output_type": "execute_result"
    },
    {
     "data": {
      "text/plain": [
       "[0.8963529796914749,\n",
       " 0.9026574655713322,\n",
       " 0.9340362382376689,\n",
       " 0.928594335101749,\n",
       " 0.9241632584701104,\n",
       " 0.9084160797345677,\n",
       " 0.8767973794734023,\n",
       " 0.8507984119421568,\n",
       " 0.8302522978488125,\n",
       " 0.8159872250432678,\n",
       " 0.7985858724487469,\n",
       " 0.8016607835323135]"
      ]
     },
     "execution_count": 60,
     "metadata": {},
     "output_type": "execute_result"
    }
   ],
   "source": [
    "scores = []\n",
    "for k in range(2,14):\n",
    "    model = KNeighborsRegressor(n_neighbors=k)\n",
    "    model.fit(X_train, y_train)\n",
    "    scores.append(model.score(X_test, y_test))\n",
    "\n",
    "scores"
   ]
  },
  {
   "cell_type": "code",
   "execution_count": 61,
   "metadata": {
    "ExecuteTime": {
     "end_time": "2021-08-30T09:04:15.172720Z",
     "start_time": "2021-08-30T09:04:14.802019Z"
    }
   },
   "outputs": [
    {
     "data": {
      "text/plain": [
       "<Figure size 360x720 with 0 Axes>"
      ]
     },
     "execution_count": 61,
     "metadata": {},
     "output_type": "execute_result"
    },
    {
     "data": {
      "text/plain": [
       "[<matplotlib.lines.Line2D at 0x7fa86ba899a0>]"
      ]
     },
     "execution_count": 61,
     "metadata": {},
     "output_type": "execute_result"
    },
    {
     "data": {
      "text/plain": [
       "Text(0.5, 1.0, 'accuracy scores vs. K Value')"
      ]
     },
     "execution_count": 61,
     "metadata": {},
     "output_type": "execute_result"
    },
    {
     "data": {
      "text/plain": [
       "Text(0.5, 0, 'K')"
      ]
     },
     "execution_count": 61,
     "metadata": {},
     "output_type": "execute_result"
    },
    {
     "data": {
      "text/plain": [
       "Text(0, 0.5, 'Accuracy')"
      ]
     },
     "execution_count": 61,
     "metadata": {},
     "output_type": "execute_result"
    },
    {
     "data": {
      "image/png": "[encoded data removed]",
      "text/plain": [
       "<Figure size 360x720 with 1 Axes>"
      ]
     },
     "metadata": {
      "needs_background": "light"
     },
     "output_type": "display_data"
    }
   ],
   "source": [
    "plt.figure(figsize=(5,10))\n",
    "plt.plot(range(2,14),scores,color = 'blue', linestyle='dashed',\n",
    "         marker='o', markerfacecolor='red', markersize=10)\n",
    "plt.title('accuracy scores vs. K Value')\n",
    "plt.gca().invert_yaxis()\n",
    "plt.xlabel('K')\n",
    "plt.ylabel('Accuracy')"
   ]
  }
 ],
 "metadata": {
  "kernelspec": {
   "display_name": "Python 3",
   "language": "python",
   "name": "python3"
  },
  "language_info": {
   "codemirror_mode": {
    "name": "ipython",
    "version": 3
   },
   "file_extension": ".py",
   "mimetype": "text/x-python",
   "name": "python",
   "nbconvert_exporter": "python",
   "pygments_lexer": "ipython3",
   "version": "3.8.5"
  },
  "toc": {
   "base_numbering": 1,
   "nav_menu": {},
   "number_sections": true,
   "sideBar": true,
   "skip_h1_title": false,
   "title_cell": "Table of Contents",
   "title_sidebar": "Contents",
   "toc_cell": false,
   "toc_position": {},
   "toc_section_display": true,
   "toc_window_display": false
  },
  "varInspector": {
   "cols": {
    "lenName": 16,
    "lenType": 16,
    "lenVar": 40
   },
   "kernels_config": {
    "python": {
     "delete_cmd_postfix": "",
     "delete_cmd_prefix": "del ",
     "library": "var_list.py",
     "varRefreshCmd": "print(var_dic_list())"
    },
    "r": {
     "delete_cmd_postfix": ") ",
     "delete_cmd_prefix": "rm(",
     "library": "var_list.r",
     "varRefreshCmd": "cat(var_dic_list()) "
    }
   },
   "types_to_exclude": [
    "module",
    "function",
    "builtin_function_or_method",
    "instance",
    "_Feature"
   ],
   "window_display": false
  }
 },
 "nbformat": 4,
 "nbformat_minor": 4
}
